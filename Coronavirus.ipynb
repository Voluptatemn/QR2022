{
 "cells": [
  {
   "cell_type": "code",
   "execution_count": 1,
   "metadata": {},
   "outputs": [],
   "source": [
    "import requests\n",
    "from bs4 import BeautifulSoup"
   ]
  },
  {
   "cell_type": "code",
   "execution_count": 2,
   "metadata": {},
   "outputs": [],
   "source": [
    "def coronavirusStats():\n",
    "\n",
    "    choice = input(\"Put in a continent or a country: \")\n",
    "\n",
    "    url = \"https://www.worldometers.info/coronavirus/\"\n",
    "    r = requests.get(url)\n",
    "    parser = BeautifulSoup(r.content, \"html.parser\")\n",
    "    table = parser.find(\"tbody\")\n",
    "    rows = table.find_all(\"tr\")\n",
    "\n",
    "    count = 0 #checking if find anything\n",
    "\n",
    "    for r in rows: #standard checking for each row\n",
    "        name = r.find_all(\"td\")[1].text.strip()\n",
    "        if choice.lower() in name.lower():\n",
    "            count += 1\n",
    "            stats = r.find_all(\"td\")[2].text.strip()\n",
    "            print(\"The total cases of coronavirus in \" + name + \" is: \" + stats)\n",
    "            \n",
    "\n",
    "    if (count == 0): #if found nothing\n",
    "        print(\"There is no place called: \" + choice + \". Please re-enter a valid name.\")\n",
    "        coronavirusStats()"
   ]
  },
  {
   "cell_type": "code",
   "execution_count": 3,
   "metadata": {},
   "outputs": [
    {
     "name": "stdout",
     "output_type": "stream",
     "text": [
      "The total cases of coronavirus in China is: 503,302\n"
     ]
    }
   ],
   "source": [
    "coronavirusStats()"
   ]
  }
 ],
 "metadata": {
  "kernelspec": {
   "display_name": "Python 3.11.0 64-bit",
   "language": "python",
   "name": "python3"
  },
  "language_info": {
   "codemirror_mode": {
    "name": "ipython",
    "version": 3
   },
   "file_extension": ".py",
   "mimetype": "text/x-python",
   "name": "python",
   "nbconvert_exporter": "python",
   "pygments_lexer": "ipython3",
   "version": "3.11.0"
  },
  "orig_nbformat": 4,
  "vscode": {
   "interpreter": {
    "hash": "aee8b7b246df8f9039afb4144a1f6fd8d2ca17a180786b69acc140d282b71a49"
   }
  }
 },
 "nbformat": 4,
 "nbformat_minor": 2
}
