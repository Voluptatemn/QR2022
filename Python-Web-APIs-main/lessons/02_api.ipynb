{
 "cells": [
  {
   "cell_type": "markdown",
   "id": "6caa532f-d502-4576-9ee6-5ad88ca0c550",
   "metadata": {},
   "source": [
    "# Accessing Data via Web APIs\n",
    "\n",
    "* * * \n",
    "\n",
    "### Icons used in this notebook\n",
    "🔔 **Question**: A quick question to help you understand what's going on.<br>\n",
    "🥊 **Challenge**: Interactive excercise. We'll work through these in the workshop!<br>\n",
    "⚠️ **Warning**: Heads-up about tricky stuff or common mistakes.<br>\n",
    "💡 **Tip**: How to do something a bit more efficiently or effectively.<br>\n",
    "🎬 **Demo**: Showing off something more advanced – so you know what Python can be used for!<br>\n",
    "\n",
    "### Learning Objectives\n",
    "1. [The New York Times API](#nyt)\n",
    "2. [Top stories API](#top)\n",
    "3. [Most Viewed and Most Shared APIs](#most)\n",
    "4. [Article Search API](#search)\n",
    "5. [Data Analysis](#analysis)\n",
    "6. [Demo: Handling Nested Arrays of Keywords](#demo)"
   ]
  },
  {
   "cell_type": "code",
   "execution_count": 1,
   "id": "b0379359-694d-491c-ba18-fa80ea3c65bc",
   "metadata": {},
   "outputs": [],
   "source": [
    "# Import required libraries\n",
    "import matplotlib.pyplot as plt\n",
    "import numpy as np\n",
    "import pandas as pd\n",
    "from datetime import datetime"
   ]
  },
  {
   "cell_type": "markdown",
   "id": "8d2eeb34-dab0-464c-8fca-568624fe2cbb",
   "metadata": {},
   "source": [
    "<a id='nyt'></a>\n",
    "\n",
    "# The New York Times API\n",
    "\n",
    "We are going to use the NYT API to demonstrate how Web APIs can be used to access useful information in an easy way. Before proceeding with this lesson, you should have already set up an API key in `01_api_lesson.md`. Copy that API key now."
   ]
  },
  {
   "cell_type": "markdown",
   "id": "a639eb32-15e0-48fc-9cb5-3bd804fae0f9",
   "metadata": {},
   "source": [
    "## Establishing the Connection"
   ]
  },
  {
   "cell_type": "markdown",
   "id": "da084101-19bc-46c1-9722-317d0514da5e",
   "metadata": {},
   "source": [
    "Put the API Key you just created in the `api_key` variable in the cell below:"
   ]
  },
  {
   "cell_type": "code",
   "execution_count": 2,
   "id": "5fbdc8b6-a91d-4f07-a98c-2ba3e8b01726",
   "metadata": {},
   "outputs": [],
   "source": [
    "# Put your API key here\n",
    "api_key = \"fVZ7NhY817464fBxgpAJEx6tb2xKULdr\""
   ]
  },
  {
   "cell_type": "markdown",
   "id": "c8f60b12-cced-49b4-9627-2782a75a8429",
   "metadata": {},
   "source": [
    "You can save your API Key locally so that you don't always have to copy it. Just be sure not to put this file on Github, or else your API key may be compromised!"
   ]
  },
  {
   "cell_type": "code",
   "execution_count": 3,
   "id": "a62d2d57",
   "metadata": {},
   "outputs": [],
   "source": [
    "# Save your key locally\n",
    "with open(\"nyt_api_key.txt\", \"w\") as f:\n",
    "    f.write(api_key)"
   ]
  },
  {
   "cell_type": "code",
   "execution_count": 4,
   "id": "a07ed22e-948c-4b21-990e-50c1a8e8238c",
   "metadata": {},
   "outputs": [],
   "source": [
    "# Read your key locally\n",
    "with open(\"nyt_api_key.txt\", \"r\") as f:\n",
    "    api_key = f.read()"
   ]
  },
  {
   "cell_type": "markdown",
   "id": "582ed0ad-ccad-4294-a50f-e1d4843217c6",
   "metadata": {},
   "source": [
    "To access the NYTimes' databases, we'll be using a third-party library called [pynytimes](https://github.com/michadenheijer/pynytimes). This package provides an easy to use tool for accessing the wealth of data hosted by the Times.\n",
    "\n",
    "To install the library, follow the instructions taken from their [Github repo](https://github.com/michadenheijer/pynytimes)."
   ]
  },
  {
   "cell_type": "markdown",
   "id": "5f5b395a-443f-4e40-91f7-8fcb5c33bbbe",
   "metadata": {},
   "source": [
    "## Installation\n",
    "\n",
    "There are multiple options to install `pynytimes`, but the easiest is by just installing it using `pip` in the Jupyter notebook itself, using a magic command:"
   ]
  },
  {
   "cell_type": "code",
   "execution_count": 5,
   "id": "d1d80b96-2285-43ab-bbd6-090fd4a9c2d7",
   "metadata": {},
   "outputs": [],
   "source": [
    "#%pip install pynytimes"
   ]
  },
  {
   "cell_type": "markdown",
   "id": "254a91bf-8626-46f8-acfc-163da0b862f2",
   "metadata": {},
   "source": [
    "You can also install it via the command line or Anaconda Navigator - whichever you're more comfortable with."
   ]
  },
  {
   "cell_type": "markdown",
   "id": "dc6d8416-3a3b-4641-954e-85519ca613ad",
   "metadata": {},
   "source": [
    "Once the package installed, let's go ahead import the library and initialize a connection to their servers using our api keys."
   ]
  },
  {
   "cell_type": "code",
   "execution_count": 6,
   "id": "dce57534-fe5d-45a4-bb97-f2df8dc3d9d6",
   "metadata": {},
   "outputs": [],
   "source": [
    "# Import the NYTAPI object which we'll use to access the API\n",
    "from pynytimes import NYTAPI"
   ]
  },
  {
   "cell_type": "code",
   "execution_count": 7,
   "id": "018a6dfa-9343-42b1-9014-165ae7507b0c",
   "metadata": {},
   "outputs": [],
   "source": [
    "# Intialize the NYT API class into an object using your API key\n",
    "nyt = NYTAPI(api_key, parse_dates=True)"
   ]
  },
  {
   "cell_type": "markdown",
   "id": "e13137c6-c776-4da0-b1a2-195726244be5",
   "metadata": {},
   "source": [
    "Ta-da! We are now ready to make some API calls!"
   ]
  },
  {
   "cell_type": "markdown",
   "id": "2a4a288c-8d6d-4774-bc84-822c9fedfaf0",
   "metadata": {},
   "source": [
    "## Making API Calls\n",
    "\n",
    " Now that we've established a connection to New York Times' rich database, let's go over what kind of data and privileges we have access to."
   ]
  },
  {
   "cell_type": "markdown",
   "id": "deedf92b-e0bb-4d6a-996c-3c3b4078a7cf",
   "metadata": {},
   "source": [
    "### APIs\n",
    "\n",
    "[Here is the collection of the APIs the NYT gives us:](https://developer.nytimes.com/apis)\n",
    "\n",
    "- [Top stories](https://developer.nytimes.com/docs/top-stories-product/1/overview): Returns an array of articles currently on the specified section \n",
    "- [Most viewed/shared articles](https://developer.nytimes.com/docs/most-popular-product/1/overview): Provides services for getting the most popular articles on NYTimes.com based on emails, shares, or views.\n",
    "- [Article search](https://developer.nytimes.com/docs/articlesearch-product/1/overview): Look up articles by keyword. You can refine your search using filters and facets.\n",
    "- [Books](https://developer.nytimes.com/docs/books-product/1/overview): Provides information about book reviews and The New York Times Best Sellers lists.\n",
    "- [Movie reviews](https://developer.nytimes.com/docs/movie-reviews-api/1/overview): Search movie reviews by keyword and opening date and filter by Critics' Picks.\n",
    "- [Times Wire](https://developer.nytimes.com/docs/timeswire-product/1/overview): Get links and metadata for Times' articles as soon as they are published on NYTimes.com. The Times Newswire API provides an up-to-the-minute stream of published articles.\n",
    "- [Tag query (TimesTags)](https://developer.nytimes.com/docs/timestags-product/1/overview): Provide a string of characters and the service returns a ranked list of suggested terms.\n",
    "- [Archive metadata](https://developer.nytimes.com/docs/archive-product/1/overview): Returns an array of NYT articles for a given month, going back to 1851."
   ]
  },
  {
   "cell_type": "markdown",
   "id": "44a18eac-436d-43ef-8151-6bfc85a74a8d",
   "metadata": {},
   "source": [
    "<a id='top'></a>\n",
    "\n",
    "# Top Stories API\n",
    "\n",
    "Let's look at the top stories of the day. All we have to do is call a single method on the `nyt` object:"
   ]
  },
  {
   "cell_type": "code",
   "execution_count": 8,
   "id": "c6d14b2a-67f3-42b6-b383-1eb78962a05a",
   "metadata": {},
   "outputs": [
    {
     "name": "stdout",
     "output_type": "stream",
     "text": [
      "top_stories is a list of length 28\n"
     ]
    }
   ],
   "source": [
    "# Get all the top stories from the home page\n",
    "top_stories = nyt.top_stories()\n",
    "\n",
    "print(f\"top_stories is a list of length {len(top_stories)}\")"
   ]
  },
  {
   "cell_type": "markdown",
   "id": "8eded794-5f47-4848-9c59-9ba325efecaf",
   "metadata": {},
   "source": [
    "The `top_stories` method has a single paramater called `section` parameter defaults to \"home\"."
   ]
  },
  {
   "cell_type": "code",
   "execution_count": 9,
   "id": "b582b805-46fb-48f4-8b0c-fc5585b7b898",
   "metadata": {},
   "outputs": [
    {
     "data": {
      "text/plain": [
       "[{'section': 'business',\n",
       "  'subsection': '',\n",
       "  'title': 'After Fox Settlement, Assault on Media Protections Is Likely to Continue',\n",
       "  'abstract': 'Those who argue that the news media should pay a steeper price for mistakes are pushing to have a landmark Supreme Court ruling overturned.',\n",
       "  'url': 'https://www.nytimes.com/2023/04/19/business/nyt-sullivan-dominion-first-amendment.html',\n",
       "  'uri': 'nyt://article/02029bcb-d5e9-5651-987a-eaed3ee696a0',\n",
       "  'byline': 'By David Enrich',\n",
       "  'item_type': 'Article',\n",
       "  'updated_date': datetime.datetime(2023, 4, 19, 22, 45, 44, tzinfo=datetime.timezone(datetime.timedelta(days=-1, seconds=72000))),\n",
       "  'created_date': datetime.datetime(2023, 4, 19, 15, 57, 29, tzinfo=datetime.timezone(datetime.timedelta(days=-1, seconds=72000))),\n",
       "  'published_date': datetime.datetime(2023, 4, 19, 15, 57, 29, tzinfo=datetime.timezone(datetime.timedelta(days=-1, seconds=72000))),\n",
       "  'material_type_facet': '',\n",
       "  'kicker': '',\n",
       "  'des_facet': ['News and News Media',\n",
       "   'Libel and Slander',\n",
       "   'First Amendment (US Constitution)',\n",
       "   'Freedom of the Press'],\n",
       "  'org_facet': ['Dominion Voting Systems Corp',\n",
       "   'Fox News Channel',\n",
       "   'Heritage Foundation',\n",
       "   'Supreme Court (US)'],\n",
       "  'per_facet': ['Thomas, Clarence', 'Gorsuch, Neil M', 'Smolla, Rodney A'],\n",
       "  'geo_facet': [],\n",
       "  'multimedia': [{'url': 'https://static01.nyt.com/images/2023/04/19/multimedia/19Sullivan-01-tmkp/19Sullivan-01-tmkp-superJumbo.jpg',\n",
       "    'format': 'Super Jumbo',\n",
       "    'height': 1365,\n",
       "    'width': 2048,\n",
       "    'type': 'image',\n",
       "    'subtype': 'photo',\n",
       "    'caption': 'Dominion Voting Systems’ settlement with Fox News defused a high-stakes test of First Amendment legal protections.',\n",
       "    'copyright': 'Andrew Caballero-Reynolds/Agence France-Presse — Getty Images'},\n",
       "   {'url': 'https://static01.nyt.com/images/2023/04/19/multimedia/19Sullivan-01-tmkp/19Sullivan-01-tmkp-threeByTwoSmallAt2X.jpg',\n",
       "    'format': 'threeByTwoSmallAt2X',\n",
       "    'height': 400,\n",
       "    'width': 600,\n",
       "    'type': 'image',\n",
       "    'subtype': 'photo',\n",
       "    'caption': 'Dominion Voting Systems’ settlement with Fox News defused a high-stakes test of First Amendment legal protections.',\n",
       "    'copyright': 'Andrew Caballero-Reynolds/Agence France-Presse — Getty Images'},\n",
       "   {'url': 'https://static01.nyt.com/images/2023/04/19/multimedia/19Sullivan-01-tmkp/19Sullivan-01-tmkp-thumbLarge.jpg',\n",
       "    'format': 'Large Thumbnail',\n",
       "    'height': 150,\n",
       "    'width': 150,\n",
       "    'type': 'image',\n",
       "    'subtype': 'photo',\n",
       "    'caption': 'Dominion Voting Systems’ settlement with Fox News defused a high-stakes test of First Amendment legal protections.',\n",
       "    'copyright': 'Andrew Caballero-Reynolds/Agence France-Presse — Getty Images'}],\n",
       "  'short_url': 'https://nyti.ms/41o7DUz'},\n",
       " {'section': 'arts',\n",
       "  'subsection': 'television',\n",
       "  'title': 'Everybody Knows What Fox News Is Now',\n",
       "  'abstract': 'Even without a trial, the Dominion suit made plain that the network’s main goal is the maintenance of a reality bubble.',\n",
       "  'url': 'https://www.nytimes.com/2023/04/19/arts/television/fox-news-settlement.html',\n",
       "  'uri': 'nyt://article/9d425f5f-8c1c-50c5-bdf6-f71748ecc1f6',\n",
       "  'byline': 'By James Poniewozik',\n",
       "  'item_type': 'Article',\n",
       "  'updated_date': datetime.datetime(2023, 4, 19, 22, 46, 49, tzinfo=datetime.timezone(datetime.timedelta(days=-1, seconds=72000))),\n",
       "  'created_date': datetime.datetime(2023, 4, 19, 10, 39, 21, tzinfo=datetime.timezone(datetime.timedelta(days=-1, seconds=72000))),\n",
       "  'published_date': datetime.datetime(2023, 4, 19, 10, 39, 21, tzinfo=datetime.timezone(datetime.timedelta(days=-1, seconds=72000))),\n",
       "  'material_type_facet': '',\n",
       "  'kicker': 'Critic’s Notebook',\n",
       "  'des_facet': ['Television',\n",
       "   'News and News Media',\n",
       "   'Rumors and Misinformation'],\n",
       "  'org_facet': ['Fox News Channel', 'Dominion Voting Systems Corp'],\n",
       "  'per_facet': ['Carlson, Tucker',\n",
       "   'Murdoch, Rupert',\n",
       "   'Trump, Donald J',\n",
       "   'Biden, Joseph R Jr'],\n",
       "  'geo_facet': [],\n",
       "  'multimedia': [{'url': 'https://static01.nyt.com/images/2023/04/19/multimedia/19fox-notebook-pfml/19fox-notebook-pfml-superJumbo.jpg',\n",
       "    'format': 'Super Jumbo',\n",
       "    'height': 1366,\n",
       "    'width': 2048,\n",
       "    'type': 'image',\n",
       "    'subtype': 'photo',\n",
       "    'caption': 'Fox News reached a settlement in the defamation suit brought by Dominion Voting Systems, agreeing to pay $787.5 million.',\n",
       "    'copyright': 'Yuki Iwamura/Associated Press'},\n",
       "   {'url': 'https://static01.nyt.com/images/2023/04/19/multimedia/19fox-notebook-pfml/19fox-notebook-pfml-threeByTwoSmallAt2X.jpg',\n",
       "    'format': 'threeByTwoSmallAt2X',\n",
       "    'height': 400,\n",
       "    'width': 600,\n",
       "    'type': 'image',\n",
       "    'subtype': 'photo',\n",
       "    'caption': 'Fox News reached a settlement in the defamation suit brought by Dominion Voting Systems, agreeing to pay $787.5 million.',\n",
       "    'copyright': 'Yuki Iwamura/Associated Press'},\n",
       "   {'url': 'https://static01.nyt.com/images/2023/04/19/multimedia/19fox-notebook-pfml/19fox-notebook-pfml-thumbLarge.jpg',\n",
       "    'format': 'Large Thumbnail',\n",
       "    'height': 150,\n",
       "    'width': 150,\n",
       "    'type': 'image',\n",
       "    'subtype': 'photo',\n",
       "    'caption': 'Fox News reached a settlement in the defamation suit brought by Dominion Voting Systems, agreeing to pay $787.5 million.',\n",
       "    'copyright': 'Yuki Iwamura/Associated Press'}],\n",
       "  'short_url': 'https://nyti.ms/3ootEUG'}]"
      ]
     },
     "execution_count": 9,
     "metadata": {},
     "output_type": "execute_result"
    }
   ],
   "source": [
    "# Preview the results\n",
    "top_stories[:2]"
   ]
  },
  {
   "cell_type": "markdown",
   "id": "5724e114-fe34-4471-9ffe-310f9d921a7e",
   "metadata": {},
   "source": [
    "This is pretty typical output for data pulled from an API. We are looking at a list of nested JSON dictionaries."
   ]
  },
  {
   "cell_type": "markdown",
   "id": "38b034d1-32f9-4a41-93c3-e76c90ebaa81",
   "metadata": {},
   "source": [
    "When working with a new API, a good way to establish an understanding of the data is to inspect a single object in the collection. Let's grab the first story in the array and inspect its attributes and data:"
   ]
  },
  {
   "cell_type": "code",
   "execution_count": 10,
   "id": "f744cb9e-d991-4c2e-97bd-d12aa5912119",
   "metadata": {},
   "outputs": [
    {
     "data": {
      "text/plain": [
       "{'section': 'business',\n",
       " 'subsection': '',\n",
       " 'title': 'After Fox Settlement, Assault on Media Protections Is Likely to Continue',\n",
       " 'abstract': 'Those who argue that the news media should pay a steeper price for mistakes are pushing to have a landmark Supreme Court ruling overturned.',\n",
       " 'url': 'https://www.nytimes.com/2023/04/19/business/nyt-sullivan-dominion-first-amendment.html',\n",
       " 'uri': 'nyt://article/02029bcb-d5e9-5651-987a-eaed3ee696a0',\n",
       " 'byline': 'By David Enrich',\n",
       " 'item_type': 'Article',\n",
       " 'updated_date': datetime.datetime(2023, 4, 19, 22, 45, 44, tzinfo=datetime.timezone(datetime.timedelta(days=-1, seconds=72000))),\n",
       " 'created_date': datetime.datetime(2023, 4, 19, 15, 57, 29, tzinfo=datetime.timezone(datetime.timedelta(days=-1, seconds=72000))),\n",
       " 'published_date': datetime.datetime(2023, 4, 19, 15, 57, 29, tzinfo=datetime.timezone(datetime.timedelta(days=-1, seconds=72000))),\n",
       " 'material_type_facet': '',\n",
       " 'kicker': '',\n",
       " 'des_facet': ['News and News Media',\n",
       "  'Libel and Slander',\n",
       "  'First Amendment (US Constitution)',\n",
       "  'Freedom of the Press'],\n",
       " 'org_facet': ['Dominion Voting Systems Corp',\n",
       "  'Fox News Channel',\n",
       "  'Heritage Foundation',\n",
       "  'Supreme Court (US)'],\n",
       " 'per_facet': ['Thomas, Clarence', 'Gorsuch, Neil M', 'Smolla, Rodney A'],\n",
       " 'geo_facet': [],\n",
       " 'multimedia': [{'url': 'https://static01.nyt.com/images/2023/04/19/multimedia/19Sullivan-01-tmkp/19Sullivan-01-tmkp-superJumbo.jpg',\n",
       "   'format': 'Super Jumbo',\n",
       "   'height': 1365,\n",
       "   'width': 2048,\n",
       "   'type': 'image',\n",
       "   'subtype': 'photo',\n",
       "   'caption': 'Dominion Voting Systems’ settlement with Fox News defused a high-stakes test of First Amendment legal protections.',\n",
       "   'copyright': 'Andrew Caballero-Reynolds/Agence France-Presse — Getty Images'},\n",
       "  {'url': 'https://static01.nyt.com/images/2023/04/19/multimedia/19Sullivan-01-tmkp/19Sullivan-01-tmkp-threeByTwoSmallAt2X.jpg',\n",
       "   'format': 'threeByTwoSmallAt2X',\n",
       "   'height': 400,\n",
       "   'width': 600,\n",
       "   'type': 'image',\n",
       "   'subtype': 'photo',\n",
       "   'caption': 'Dominion Voting Systems’ settlement with Fox News defused a high-stakes test of First Amendment legal protections.',\n",
       "   'copyright': 'Andrew Caballero-Reynolds/Agence France-Presse — Getty Images'},\n",
       "  {'url': 'https://static01.nyt.com/images/2023/04/19/multimedia/19Sullivan-01-tmkp/19Sullivan-01-tmkp-thumbLarge.jpg',\n",
       "   'format': 'Large Thumbnail',\n",
       "   'height': 150,\n",
       "   'width': 150,\n",
       "   'type': 'image',\n",
       "   'subtype': 'photo',\n",
       "   'caption': 'Dominion Voting Systems’ settlement with Fox News defused a high-stakes test of First Amendment legal protections.',\n",
       "   'copyright': 'Andrew Caballero-Reynolds/Agence France-Presse — Getty Images'}],\n",
       " 'short_url': 'https://nyti.ms/41o7DUz'}"
      ]
     },
     "execution_count": 10,
     "metadata": {},
     "output_type": "execute_result"
    }
   ],
   "source": [
    "top_story = top_stories[0]\n",
    "top_story"
   ]
  },
  {
   "cell_type": "markdown",
   "id": "08a0fa06-969c-4e20-b392-3e4adb298a7d",
   "metadata": {},
   "source": [
    "We are provided a diverse collection of data for the article ranging from the expected (title, author, section) and to NLP-derived information such as named entities. Notice that the full article itself is not included - the API does not provide that to us."
   ]
  },
  {
   "cell_type": "markdown",
   "id": "c7cc9364-4bb4-477c-989c-97ca2fe0815e",
   "metadata": {},
   "source": [
    "🔔 **Question**: Does anything about the data stand out to you? What bits of information could be useful to you and your research needs?"
   ]
  },
  {
   "cell_type": "markdown",
   "id": "6169914c-9e61-459d-acad-67d579cb153d",
   "metadata": {},
   "source": [
    "💡 **Tip**: If we are interested in a specific section, we can pass in one of the following tags into the `section` parameter:\n",
    "\n",
    "\n",
    "```arts```, ```automobiles```, ```books```, ```business```, ```fashion```, ```food```, ```health```, ```home```, ```insider```, ```magazine```, ```movies```, ```national```, ```nyregion```, ```obituaries```, ```opinion```, ```politics```, ```realestate```, ```science```, ```sports```, ```sundayreview```, ```technology```, ```theater```, ```tmagazine```, ```travel```, ```upshot```, and ```world```.\n"
   ]
  },
  {
   "cell_type": "code",
   "execution_count": 11,
   "id": "df012cca-1573-4347-9e91-41e7c6178fcd",
   "metadata": {},
   "outputs": [
    {
     "name": "stdout",
     "output_type": "stream",
     "text": [
      "arts\n"
     ]
    },
    {
     "data": {
      "text/plain": [
       "{'section': 'arts',\n",
       " 'subsection': '',\n",
       " 'title': 'The Kylix Marvel: Why Experts Distrust the Story of an Ancient Cup’s Rebirth',\n",
       " 'abstract': 'Investigators seized the Attic Greek cup from the Met last year. They, and others, doubt the museum’s reconstruction of it from fragments was simply a product of genius.',\n",
       " 'url': 'https://www.nytimes.com/2023/04/19/arts/kylix-cup-greek-metropolitan-museum.html',\n",
       " 'uri': 'nyt://article/2dd92245-0839-5e67-8ac4-03c6fb22d869',\n",
       " 'byline': 'By Graham Bowley and Tom Mashberg',\n",
       " 'item_type': 'Article',\n",
       " 'updated_date': datetime.datetime(2023, 4, 19, 16, 29, 28, tzinfo=datetime.timezone(datetime.timedelta(days=-1, seconds=72000))),\n",
       " 'created_date': datetime.datetime(2023, 4, 19, 5, 0, 44, tzinfo=datetime.timezone(datetime.timedelta(days=-1, seconds=72000))),\n",
       " 'published_date': datetime.datetime(2023, 4, 19, 5, 0, 44, tzinfo=datetime.timezone(datetime.timedelta(days=-1, seconds=72000))),\n",
       " 'material_type_facet': '',\n",
       " 'kicker': '',\n",
       " 'des_facet': ['Arts and Antiquities Looting',\n",
       "  'Museums',\n",
       "  'Greek Civilization',\n",
       "  'Ceramics and Pottery'],\n",
       " 'org_facet': ['Metropolitan Museum of Art'],\n",
       " 'per_facet': ['Bothmer, Dietrich von', 'Medici, Giacomo'],\n",
       " 'geo_facet': [],\n",
       " 'multimedia': [{'url': 'https://static01.nyt.com/images/2023/04/19/arts/19MIRACLE-PROMO/19MIRACLE-PROMO-superJumbo.jpg',\n",
       "   'format': 'Super Jumbo',\n",
       "   'height': 1365,\n",
       "   'width': 2048,\n",
       "   'type': 'image',\n",
       "   'subtype': 'photo',\n",
       "   'caption': '',\n",
       "   'copyright': 'The Metropolitan Museum of Art'},\n",
       "  {'url': 'https://static01.nyt.com/images/2023/04/19/arts/19MIRACLE-PROMO/19MIRACLE-PROMO-threeByTwoSmallAt2X.jpg',\n",
       "   'format': 'threeByTwoSmallAt2X',\n",
       "   'height': 400,\n",
       "   'width': 600,\n",
       "   'type': 'image',\n",
       "   'subtype': 'photo',\n",
       "   'caption': '',\n",
       "   'copyright': 'The Metropolitan Museum of Art'},\n",
       "  {'url': 'https://static01.nyt.com/images/2023/04/19/arts/19MIRACLE-PROMO/19MIRACLE-PROMO-thumbLarge.jpg',\n",
       "   'format': 'Large Thumbnail',\n",
       "   'height': 150,\n",
       "   'width': 150,\n",
       "   'type': 'image',\n",
       "   'subtype': 'photo',\n",
       "   'caption': '',\n",
       "   'copyright': 'The Metropolitan Museum of Art'}],\n",
       " 'short_url': 'https://nyti.ms/3KRtD36'}"
      ]
     },
     "execution_count": 11,
     "metadata": {},
     "output_type": "execute_result"
    }
   ],
   "source": [
    "top_arts_stories = nyt.top_stories(section='arts')\n",
    "print(top_arts_stories[0]['section'])\n",
    "top_arts_stories[0]"
   ]
  },
  {
   "cell_type": "markdown",
   "id": "cc28bc7d-d3dd-48ff-99d8-20b9db7046b0",
   "metadata": {},
   "source": [
    "## 🥊 Challenge: Find the top stories for a section\n",
    "\n",
    "- Choose 2 sections. Grab their top stories and store them in two separate lists.\n",
    "- How many stories are each in section?\n",
    "- What is the title of the first story in each list?"
   ]
  },
  {
   "cell_type": "code",
   "execution_count": 12,
   "id": "12c920bc-bf8c-48a4-a34e-d10e4a23476d",
   "metadata": {},
   "outputs": [
    {
     "name": "stdout",
     "output_type": "stream",
     "text": [
      "books\n"
     ]
    },
    {
     "data": {
      "text/plain": [
       "{'section': 'books',\n",
       " 'subsection': 'review',\n",
       " 'title': 'Superachiever, Schizophrenic, Killer: Tracing a Friend’s Decline',\n",
       " 'abstract': 'In “The Best Minds,” Jonathan Rosen pieces together how he and his brilliant classmate diverged after Westchester, Yale and enviable careers.',\n",
       " 'url': 'https://www.nytimes.com/2023/04/19/books/review/the-best-minds-jonathan-rosen.html',\n",
       " 'uri': 'nyt://article/72c5dd32-74a0-53d4-a5a9-3a3ce2b22d23',\n",
       " 'byline': 'By Alexandra Jacobs',\n",
       " 'item_type': 'Article',\n",
       " 'updated_date': datetime.datetime(2023, 4, 19, 14, 34, 8, tzinfo=datetime.timezone(datetime.timedelta(days=-1, seconds=72000))),\n",
       " 'created_date': datetime.datetime(2023, 4, 19, 5, 0, 25, tzinfo=datetime.timezone(datetime.timedelta(days=-1, seconds=72000))),\n",
       " 'published_date': datetime.datetime(2023, 4, 19, 5, 0, 25, tzinfo=datetime.timezone(datetime.timedelta(days=-1, seconds=72000))),\n",
       " 'material_type_facet': '',\n",
       " 'kicker': 'Nonfiction',\n",
       " 'des_facet': ['Books and Literature',\n",
       "  'Schizophrenia',\n",
       "  'Content Type: Personal Profile',\n",
       "  'Murders, Attempted Murders and Homicides',\n",
       "  'The Best Minds: A Story of Friendship, Madness, and the Tragedy of Good Intentions (Book)'],\n",
       " 'org_facet': [],\n",
       " 'per_facet': ['Rosen, Jonathan (Author)',\n",
       "  'Laudor, Michael B',\n",
       "  'Costello, Caroline'],\n",
       " 'geo_facet': [],\n",
       " 'multimedia': [{'url': 'https://static01.nyt.com/images/2023/04/18/books/18jonathan-rosen-cover/18jonathan-rosen-cover-superJumbo.jpg',\n",
       "   'format': 'Super Jumbo',\n",
       "   'height': 1596,\n",
       "   'width': 1575,\n",
       "   'type': 'image',\n",
       "   'subtype': 'photo',\n",
       "   'caption': '',\n",
       "   'copyright': ''},\n",
       "  {'url': 'https://static01.nyt.com/images/2023/04/18/books/18jonathan-rosen-cover/18jonathan-rosen-cover-threeByTwoSmallAt2X.jpg',\n",
       "   'format': 'threeByTwoSmallAt2X',\n",
       "   'height': 400,\n",
       "   'width': 600,\n",
       "   'type': 'image',\n",
       "   'subtype': 'photo',\n",
       "   'caption': '',\n",
       "   'copyright': ''},\n",
       "  {'url': 'https://static01.nyt.com/images/2023/04/18/books/18jonathan-rosen-cover/18jonathan-rosen-cover-thumbLarge.jpg',\n",
       "   'format': 'Large Thumbnail',\n",
       "   'height': 150,\n",
       "   'width': 150,\n",
       "   'type': 'image',\n",
       "   'subtype': 'photo',\n",
       "   'caption': '',\n",
       "   'copyright': ''}],\n",
       " 'short_url': 'https://nyti.ms/3LdCrBQ'}"
      ]
     },
     "metadata": {},
     "output_type": "display_data"
    },
    {
     "name": "stdout",
     "output_type": "stream",
     "text": [
      "business\n"
     ]
    },
    {
     "data": {
      "text/plain": [
       "{'section': 'business',\n",
       " 'subsection': 'media',\n",
       " 'title': 'Victory or Defeat? For Some Fox Critics, Defamation Case Was a Split Decision.',\n",
       " 'abstract': 'The $787.5 million settlement was among the highest for a defamation lawsuit. But some wanted to see Rupert Murdoch face a stiffer penalty.',\n",
       " 'url': 'https://www.nytimes.com/2023/04/19/business/media/fox-dominion-settlement-murdoch.html',\n",
       " 'uri': 'nyt://article/5d48e0f0-c7b7-5b5d-bf02-01da6122bf55',\n",
       " 'byline': 'By Michael M. Grynbaum',\n",
       " 'item_type': 'Article',\n",
       " 'updated_date': datetime.datetime(2023, 4, 19, 22, 45, 49, tzinfo=datetime.timezone(datetime.timedelta(days=-1, seconds=72000))),\n",
       " 'created_date': datetime.datetime(2023, 4, 19, 12, 13, 29, tzinfo=datetime.timezone(datetime.timedelta(days=-1, seconds=72000))),\n",
       " 'published_date': datetime.datetime(2023, 4, 19, 12, 13, 29, tzinfo=datetime.timezone(datetime.timedelta(days=-1, seconds=72000))),\n",
       " 'material_type_facet': '',\n",
       " 'kicker': '',\n",
       " 'des_facet': ['Suits and Litigation (Civil)',\n",
       "  'Television',\n",
       "  'News and News Media',\n",
       "  'United States Politics and Government',\n",
       "  'Voting Machines',\n",
       "  'Rumors and Misinformation'],\n",
       " 'org_facet': ['Fox Corporation',\n",
       "  'Fox News Channel',\n",
       "  'Dominion Voting Systems Corp'],\n",
       " 'per_facet': ['Bartiromo, Maria', 'Murdoch, Rupert', 'Dobbs, Lou'],\n",
       " 'geo_facet': [],\n",
       " 'multimedia': [{'url': 'https://static01.nyt.com/images/2023/04/19/multimedia/19fox-react-hfgv/19fox-react-hfgv-superJumbo.jpg',\n",
       "   'format': 'Super Jumbo',\n",
       "   'height': 1365,\n",
       "   'width': 2048,\n",
       "   'type': 'image',\n",
       "   'subtype': 'photo',\n",
       "   'caption': 'Fox is still facing a defamation suit from another elections firm, Smartmatic, which has asked for $2.7 billion in damages.',\n",
       "   'copyright': 'Amir Hamja for The New York Times'},\n",
       "  {'url': 'https://static01.nyt.com/images/2023/04/19/multimedia/19fox-react-hfgv/19fox-react-hfgv-threeByTwoSmallAt2X.jpg',\n",
       "   'format': 'threeByTwoSmallAt2X',\n",
       "   'height': 400,\n",
       "   'width': 600,\n",
       "   'type': 'image',\n",
       "   'subtype': 'photo',\n",
       "   'caption': 'Fox is still facing a defamation suit from another elections firm, Smartmatic, which has asked for $2.7 billion in damages.',\n",
       "   'copyright': 'Amir Hamja for The New York Times'},\n",
       "  {'url': 'https://static01.nyt.com/images/2023/04/19/multimedia/19fox-react-hfgv/19fox-react-hfgv-thumbLarge.jpg',\n",
       "   'format': 'Large Thumbnail',\n",
       "   'height': 150,\n",
       "   'width': 150,\n",
       "   'type': 'image',\n",
       "   'subtype': 'photo',\n",
       "   'caption': 'Fox is still facing a defamation suit from another elections firm, Smartmatic, which has asked for $2.7 billion in damages.',\n",
       "   'copyright': 'Amir Hamja for The New York Times'}],\n",
       " 'short_url': 'https://nyti.ms/40lYj20'}"
      ]
     },
     "execution_count": 12,
     "metadata": {},
     "output_type": "execute_result"
    }
   ],
   "source": [
    "# YOUR CODE HERE\n",
    "\n",
    "top_world_stories = nyt.top_stories(section='books')\n",
    "print(top_world_stories[0]['section'])\n",
    "display(top_world_stories[0])\n",
    "\n",
    "top_eco_stories = nyt.top_stories(section='business')\n",
    "print(top_eco_stories[0]['section'])\n",
    "top_eco_stories[0]\n"
   ]
  },
  {
   "cell_type": "markdown",
   "id": "73610bbb-e547-4dac-9d55-be815fba4009",
   "metadata": {},
   "source": [
    "## Organizing the API Results into a `pandas` DataFrame\n",
    "\n",
    "In order to conduct subsequent data analysis, we need to convert the list of JSON data to a `pandas` DataFrame. `pandas` allows us to simply pass in the JSON list and produce a clean table in one line of code. "
   ]
  },
  {
   "cell_type": "markdown",
   "id": "cab0d546-3798-4ed9-bb8c-15bfd6ad5333",
   "metadata": {},
   "source": [
    "First, let's see what happens when we pass in `top_stories` to `pd.json_normalize`:"
   ]
  },
  {
   "cell_type": "code",
   "execution_count": 13,
   "id": "176bb5a8-53db-4244-a525-bd836b902ede",
   "metadata": {},
   "outputs": [
    {
     "data": {
      "text/html": [
       "<div>\n",
       "<style scoped>\n",
       "    .dataframe tbody tr th:only-of-type {\n",
       "        vertical-align: middle;\n",
       "    }\n",
       "\n",
       "    .dataframe tbody tr th {\n",
       "        vertical-align: top;\n",
       "    }\n",
       "\n",
       "    .dataframe thead th {\n",
       "        text-align: right;\n",
       "    }\n",
       "</style>\n",
       "<table border=\"1\" class=\"dataframe\">\n",
       "  <thead>\n",
       "    <tr style=\"text-align: right;\">\n",
       "      <th></th>\n",
       "      <th>section</th>\n",
       "      <th>subsection</th>\n",
       "      <th>title</th>\n",
       "      <th>abstract</th>\n",
       "      <th>url</th>\n",
       "      <th>uri</th>\n",
       "      <th>byline</th>\n",
       "      <th>item_type</th>\n",
       "      <th>updated_date</th>\n",
       "      <th>created_date</th>\n",
       "      <th>published_date</th>\n",
       "      <th>material_type_facet</th>\n",
       "      <th>kicker</th>\n",
       "      <th>des_facet</th>\n",
       "      <th>org_facet</th>\n",
       "      <th>per_facet</th>\n",
       "      <th>geo_facet</th>\n",
       "      <th>multimedia</th>\n",
       "      <th>short_url</th>\n",
       "    </tr>\n",
       "  </thead>\n",
       "  <tbody>\n",
       "    <tr>\n",
       "      <th>0</th>\n",
       "      <td>business</td>\n",
       "      <td></td>\n",
       "      <td>After Fox Settlement, Assault on Media Protect...</td>\n",
       "      <td>Those who argue that the news media should pay...</td>\n",
       "      <td>https://www.nytimes.com/2023/04/19/business/ny...</td>\n",
       "      <td>nyt://article/02029bcb-d5e9-5651-987a-eaed3ee6...</td>\n",
       "      <td>By David Enrich</td>\n",
       "      <td>Article</td>\n",
       "      <td>2023-04-19 22:45:44-04:00</td>\n",
       "      <td>2023-04-19 15:57:29-04:00</td>\n",
       "      <td>2023-04-19 15:57:29-04:00</td>\n",
       "      <td></td>\n",
       "      <td></td>\n",
       "      <td>[News and News Media, Libel and Slander, First...</td>\n",
       "      <td>[Dominion Voting Systems Corp, Fox News Channe...</td>\n",
       "      <td>[Thomas, Clarence, Gorsuch, Neil M, Smolla, Ro...</td>\n",
       "      <td>[]</td>\n",
       "      <td>[{'url': 'https://static01.nyt.com/images/2023...</td>\n",
       "      <td>https://nyti.ms/41o7DUz</td>\n",
       "    </tr>\n",
       "    <tr>\n",
       "      <th>1</th>\n",
       "      <td>arts</td>\n",
       "      <td>television</td>\n",
       "      <td>Everybody Knows What Fox News Is Now</td>\n",
       "      <td>Even without a trial, the Dominion suit made p...</td>\n",
       "      <td>https://www.nytimes.com/2023/04/19/arts/televi...</td>\n",
       "      <td>nyt://article/9d425f5f-8c1c-50c5-bdf6-f71748ec...</td>\n",
       "      <td>By James Poniewozik</td>\n",
       "      <td>Article</td>\n",
       "      <td>2023-04-19 22:46:49-04:00</td>\n",
       "      <td>2023-04-19 10:39:21-04:00</td>\n",
       "      <td>2023-04-19 10:39:21-04:00</td>\n",
       "      <td></td>\n",
       "      <td>Critic’s Notebook</td>\n",
       "      <td>[Television, News and News Media, Rumors and M...</td>\n",
       "      <td>[Fox News Channel, Dominion Voting Systems Corp]</td>\n",
       "      <td>[Carlson, Tucker, Murdoch, Rupert, Trump, Dona...</td>\n",
       "      <td>[]</td>\n",
       "      <td>[{'url': 'https://static01.nyt.com/images/2023...</td>\n",
       "      <td>https://nyti.ms/3ootEUG</td>\n",
       "    </tr>\n",
       "    <tr>\n",
       "      <th>2</th>\n",
       "      <td>business</td>\n",
       "      <td>media</td>\n",
       "      <td>What’s Next for Dominion After Its $787.5 Mill...</td>\n",
       "      <td>The election technology company has several mo...</td>\n",
       "      <td>https://www.nytimes.com/2023/04/19/business/me...</td>\n",
       "      <td>nyt://article/45907dce-74c8-52cc-81c7-e85b591e...</td>\n",
       "      <td>By Tiffany Hsu</td>\n",
       "      <td>Article</td>\n",
       "      <td>2023-04-19 22:44:22-04:00</td>\n",
       "      <td>2023-04-19 09:46:10-04:00</td>\n",
       "      <td>2023-04-19 09:46:10-04:00</td>\n",
       "      <td></td>\n",
       "      <td></td>\n",
       "      <td>[Television, News and News Media, Suits and Li...</td>\n",
       "      <td>[Dominion Voting Systems Corp, Fox News Channe...</td>\n",
       "      <td>[Lindell, Mike, Giuliani, Rudolph W, Murdoch, ...</td>\n",
       "      <td>[]</td>\n",
       "      <td>[{'url': 'https://static01.nyt.com/images/2023...</td>\n",
       "      <td>https://nyti.ms/3AgDfiI</td>\n",
       "    </tr>\n",
       "    <tr>\n",
       "      <th>3</th>\n",
       "      <td>us</td>\n",
       "      <td></td>\n",
       "      <td>Hundreds of Miles Apart, Separate Shootings Fo...</td>\n",
       "      <td>Two men appeared in courtrooms in different pa...</td>\n",
       "      <td>https://www.nytimes.com/2023/04/19/us/yarl-gil...</td>\n",
       "      <td>nyt://article/9826a8e7-aa93-5f04-b105-93c0b817...</td>\n",
       "      <td>By Julie Bosman, Mitch Smith, Jesse McKinley a...</td>\n",
       "      <td>Article</td>\n",
       "      <td>2023-04-19 20:08:31-04:00</td>\n",
       "      <td>2023-04-19 16:56:58-04:00</td>\n",
       "      <td>2023-04-19 16:56:58-04:00</td>\n",
       "      <td></td>\n",
       "      <td></td>\n",
       "      <td>[Assaults]</td>\n",
       "      <td>[]</td>\n",
       "      <td>[Yarl, Ralph]</td>\n",
       "      <td>[Kansas City (Mo)]</td>\n",
       "      <td>[{'url': 'https://static01.nyt.com/images/2023...</td>\n",
       "      <td>https://nyti.ms/43L41xr</td>\n",
       "    </tr>\n",
       "    <tr>\n",
       "      <th>4</th>\n",
       "      <td>us</td>\n",
       "      <td>politics</td>\n",
       "      <td>Supreme Court Delays Decision on Abortion Pill...</td>\n",
       "      <td>The drug will remain widely available as the j...</td>\n",
       "      <td>https://www.nytimes.com/2023/04/19/us/politics...</td>\n",
       "      <td>nyt://article/87aa46c6-87c5-598d-af53-bdd4905b...</td>\n",
       "      <td>By Abbie VanSickle</td>\n",
       "      <td>Article</td>\n",
       "      <td>2023-04-19 22:59:20-04:00</td>\n",
       "      <td>2023-04-19 05:00:24-04:00</td>\n",
       "      <td>2023-04-19 05:00:24-04:00</td>\n",
       "      <td></td>\n",
       "      <td></td>\n",
       "      <td>[Decisions and Verdicts, Abortion, Abortion Dr...</td>\n",
       "      <td>[]</td>\n",
       "      <td>[Alito, Samuel A Jr, Kacsmaryk, Matthew]</td>\n",
       "      <td>[]</td>\n",
       "      <td>[{'url': 'https://static01.nyt.com/images/2023...</td>\n",
       "      <td>https://nyti.ms/3GX0VMS</td>\n",
       "    </tr>\n",
       "  </tbody>\n",
       "</table>\n",
       "</div>"
      ],
      "text/plain": [
       "    section  subsection                                              title   \n",
       "0  business              After Fox Settlement, Assault on Media Protect...  \\\n",
       "1      arts  television               Everybody Knows What Fox News Is Now   \n",
       "2  business       media  What’s Next for Dominion After Its $787.5 Mill...   \n",
       "3        us              Hundreds of Miles Apart, Separate Shootings Fo...   \n",
       "4        us    politics  Supreme Court Delays Decision on Abortion Pill...   \n",
       "\n",
       "                                            abstract   \n",
       "0  Those who argue that the news media should pay...  \\\n",
       "1  Even without a trial, the Dominion suit made p...   \n",
       "2  The election technology company has several mo...   \n",
       "3  Two men appeared in courtrooms in different pa...   \n",
       "4  The drug will remain widely available as the j...   \n",
       "\n",
       "                                                 url   \n",
       "0  https://www.nytimes.com/2023/04/19/business/ny...  \\\n",
       "1  https://www.nytimes.com/2023/04/19/arts/televi...   \n",
       "2  https://www.nytimes.com/2023/04/19/business/me...   \n",
       "3  https://www.nytimes.com/2023/04/19/us/yarl-gil...   \n",
       "4  https://www.nytimes.com/2023/04/19/us/politics...   \n",
       "\n",
       "                                                 uri   \n",
       "0  nyt://article/02029bcb-d5e9-5651-987a-eaed3ee6...  \\\n",
       "1  nyt://article/9d425f5f-8c1c-50c5-bdf6-f71748ec...   \n",
       "2  nyt://article/45907dce-74c8-52cc-81c7-e85b591e...   \n",
       "3  nyt://article/9826a8e7-aa93-5f04-b105-93c0b817...   \n",
       "4  nyt://article/87aa46c6-87c5-598d-af53-bdd4905b...   \n",
       "\n",
       "                                              byline item_type   \n",
       "0                                    By David Enrich   Article  \\\n",
       "1                                By James Poniewozik   Article   \n",
       "2                                     By Tiffany Hsu   Article   \n",
       "3  By Julie Bosman, Mitch Smith, Jesse McKinley a...   Article   \n",
       "4                                 By Abbie VanSickle   Article   \n",
       "\n",
       "               updated_date              created_date   \n",
       "0 2023-04-19 22:45:44-04:00 2023-04-19 15:57:29-04:00  \\\n",
       "1 2023-04-19 22:46:49-04:00 2023-04-19 10:39:21-04:00   \n",
       "2 2023-04-19 22:44:22-04:00 2023-04-19 09:46:10-04:00   \n",
       "3 2023-04-19 20:08:31-04:00 2023-04-19 16:56:58-04:00   \n",
       "4 2023-04-19 22:59:20-04:00 2023-04-19 05:00:24-04:00   \n",
       "\n",
       "             published_date material_type_facet             kicker   \n",
       "0 2023-04-19 15:57:29-04:00                                         \\\n",
       "1 2023-04-19 10:39:21-04:00                      Critic’s Notebook   \n",
       "2 2023-04-19 09:46:10-04:00                                          \n",
       "3 2023-04-19 16:56:58-04:00                                          \n",
       "4 2023-04-19 05:00:24-04:00                                          \n",
       "\n",
       "                                           des_facet   \n",
       "0  [News and News Media, Libel and Slander, First...  \\\n",
       "1  [Television, News and News Media, Rumors and M...   \n",
       "2  [Television, News and News Media, Suits and Li...   \n",
       "3                                         [Assaults]   \n",
       "4  [Decisions and Verdicts, Abortion, Abortion Dr...   \n",
       "\n",
       "                                           org_facet   \n",
       "0  [Dominion Voting Systems Corp, Fox News Channe...  \\\n",
       "1   [Fox News Channel, Dominion Voting Systems Corp]   \n",
       "2  [Dominion Voting Systems Corp, Fox News Channe...   \n",
       "3                                                 []   \n",
       "4                                                 []   \n",
       "\n",
       "                                           per_facet           geo_facet   \n",
       "0  [Thomas, Clarence, Gorsuch, Neil M, Smolla, Ro...                  []  \\\n",
       "1  [Carlson, Tucker, Murdoch, Rupert, Trump, Dona...                  []   \n",
       "2  [Lindell, Mike, Giuliani, Rudolph W, Murdoch, ...                  []   \n",
       "3                                      [Yarl, Ralph]  [Kansas City (Mo)]   \n",
       "4           [Alito, Samuel A Jr, Kacsmaryk, Matthew]                  []   \n",
       "\n",
       "                                          multimedia                short_url  \n",
       "0  [{'url': 'https://static01.nyt.com/images/2023...  https://nyti.ms/41o7DUz  \n",
       "1  [{'url': 'https://static01.nyt.com/images/2023...  https://nyti.ms/3ootEUG  \n",
       "2  [{'url': 'https://static01.nyt.com/images/2023...  https://nyti.ms/3AgDfiI  \n",
       "3  [{'url': 'https://static01.nyt.com/images/2023...  https://nyti.ms/43L41xr  \n",
       "4  [{'url': 'https://static01.nyt.com/images/2023...  https://nyti.ms/3GX0VMS  "
      ]
     },
     "execution_count": 13,
     "metadata": {},
     "output_type": "execute_result"
    }
   ],
   "source": [
    "# Convert to DataFrmae\n",
    "df = pd.json_normalize(top_stories)\n",
    "# View the first 5 rows\n",
    "df.head()"
   ]
  },
  {
   "cell_type": "code",
   "execution_count": 14,
   "id": "fa8e6202-f3f8-4d43-9601-c0fb0404ba85",
   "metadata": {},
   "outputs": [
    {
     "name": "stdout",
     "output_type": "stream",
     "text": [
      "<class 'pandas.core.frame.DataFrame'>\n",
      "RangeIndex: 28 entries, 0 to 27\n",
      "Data columns (total 19 columns):\n",
      " #   Column               Non-Null Count  Dtype                    \n",
      "---  ------               --------------  -----                    \n",
      " 0   section              28 non-null     object                   \n",
      " 1   subsection           28 non-null     object                   \n",
      " 2   title                28 non-null     object                   \n",
      " 3   abstract             28 non-null     object                   \n",
      " 4   url                  28 non-null     object                   \n",
      " 5   uri                  28 non-null     object                   \n",
      " 6   byline               28 non-null     object                   \n",
      " 7   item_type            28 non-null     object                   \n",
      " 8   updated_date         28 non-null     datetime64[ns, UTC-04:00]\n",
      " 9   created_date         28 non-null     datetime64[ns, UTC-04:00]\n",
      " 10  published_date       28 non-null     datetime64[ns, UTC-04:00]\n",
      " 11  material_type_facet  28 non-null     object                   \n",
      " 12  kicker               28 non-null     object                   \n",
      " 13  des_facet            28 non-null     object                   \n",
      " 14  org_facet            28 non-null     object                   \n",
      " 15  per_facet            28 non-null     object                   \n",
      " 16  geo_facet            28 non-null     object                   \n",
      " 17  multimedia           28 non-null     object                   \n",
      " 18  short_url            28 non-null     object                   \n",
      "dtypes: datetime64[ns, UTC-04:00](3), object(16)\n",
      "memory usage: 4.3+ KB\n"
     ]
    }
   ],
   "source": [
    "# Inspect the metadata\n",
    "df.info()"
   ]
  },
  {
   "cell_type": "markdown",
   "id": "a241d131-f695-4aaa-bcef-104f57761099",
   "metadata": {},
   "source": [
    "For the most part, `pandas` does a good job of producing a table where:\n",
    "\n",
    "- The columns correspond with the JSON dictionary keys from our API call.\n",
    "- The number of rows matches the number of articles.\n",
    "- Each cell holds the corresponding value found under that article's dictionary key."
   ]
  },
  {
   "cell_type": "markdown",
   "id": "741048f9-1f01-434a-b5e8-fc51583c8d8e",
   "metadata": {},
   "source": [
    "<a id='most'></a>\n",
    "\n",
    "# Most Viewed and Most Shared APIs"
   ]
  },
  {
   "cell_type": "markdown",
   "id": "4e8b137d-4365-4994-beee-04b8e06cc9cf",
   "metadata": {},
   "source": [
    "Retrieving the most viewed and shared articles is also quite simple. The `days` parameter returns the most popular articles based on the last $N$ days. Keep in mind, however, that `days` can only take on one of three values: 1, 7, or 30."
   ]
  },
  {
   "cell_type": "code",
   "execution_count": 15,
   "id": "959dc92b-c33f-41b5-b271-15eb17a5a669",
   "metadata": {},
   "outputs": [
    {
     "name": "stdout",
     "output_type": "stream",
     "text": [
      "Title: 84-Year-Old Is Charged in Shooting of Black Teenager Who Went to Wrong House\n",
      "Section: U.S.\n"
     ]
    },
    {
     "data": {
      "text/plain": [
       "{'uri': 'nyt://article/0b7d4b82-7ab9-52a6-8153-15cad859c454',\n",
       " 'url': 'https://www.nytimes.com/2023/04/17/us/ralph-yarl-kansas-city-shooting.html',\n",
       " 'id': 100000008861832,\n",
       " 'asset_id': 100000008861832,\n",
       " 'source': 'New York Times',\n",
       " 'published_date': datetime.date(2023, 4, 17),\n",
       " 'updated': datetime.datetime(2023, 4, 18, 9, 41, 48),\n",
       " 'section': 'U.S.',\n",
       " 'subsection': '',\n",
       " 'nytdsection': 'u.s.',\n",
       " 'adx_keywords': 'Murders, Attempted Murders and Homicides;Black People;Yarl, Ralph;Kansas City (Mo)',\n",
       " 'column': None,\n",
       " 'byline': 'By Livia Albeck-Ripka, Patrick LaForge and Christine Hauser',\n",
       " 'type': 'Article',\n",
       " 'title': '84-Year-Old Is Charged in Shooting of Black Teenager Who Went to Wrong House',\n",
       " 'abstract': 'Lawyers for the family of Ralph Yarl, 16, said he was critically injured when he was shot twice in Kansas City, Mo.',\n",
       " 'des_facet': ['Murders, Attempted Murders and Homicides', 'Black People'],\n",
       " 'org_facet': [],\n",
       " 'per_facet': ['Yarl, Ralph'],\n",
       " 'geo_facet': ['Kansas City (Mo)'],\n",
       " 'media': [],\n",
       " 'eta_id': 0}"
      ]
     },
     "execution_count": 15,
     "metadata": {},
     "output_type": "execute_result"
    }
   ],
   "source": [
    "# Retrieve the most viewed articles for today.\n",
    "# The days parameter defaults to 1\n",
    "most_viewed_today = nyt.most_viewed()\n",
    "print(f\"Title: {most_viewed_today[0]['title']}\")\n",
    "print(f\"Section: {most_viewed_today[0]['section']}\")\n",
    "most_viewed_today[0]"
   ]
  },
  {
   "cell_type": "markdown",
   "id": "3681696d-752e-4d11-8f67-af5ae03bb73b",
   "metadata": {},
   "source": [
    "🔔 **Question**:  How many stories are provided to us via this function call?"
   ]
  },
  {
   "cell_type": "code",
   "execution_count": 16,
   "id": "358187a6-420d-4317-9429-5a021edb1e6f",
   "metadata": {},
   "outputs": [
    {
     "data": {
      "text/plain": [
       "20"
      ]
     },
     "execution_count": 16,
     "metadata": {},
     "output_type": "execute_result"
    }
   ],
   "source": [
    "len(most_viewed_today)"
   ]
  },
  {
   "cell_type": "markdown",
   "id": "684faea3-9fab-499c-8869-b99747b04d86",
   "metadata": {},
   "source": [
    "For this piece of data, we can consult a guide or what's known as a schema to understand the information at our finger tips.\n",
    "\n",
    "The [Most Viewed Schema](https://developer.nytimes.com/docs/most-popular-product/1/types/ViewedArticle) can answer any questions we may have about this article's data:"
   ]
  },
  {
   "cell_type": "markdown",
   "id": "210bc5f1-037d-4c49-85e1-186bfbc946b1",
   "metadata": {},
   "source": [
    "| Attribute      | Data Type | Definition      |\n",
    "| ----------- | ----------- | ----------- |\n",
    "| url      | string       | Article's URL.       |\n",
    "| adx_keywords   | string        | Semicolon separated list of keywords.        |\n",
    "| column   | string        | Deprecated. Set to null.        |\n",
    "| section   | string        | Article's section (e.g. Sports).        |\n",
    "| byline   | string        | Article's byline (e.g. By Thomas L. Friedman).        |\n",
    "| type   | string        | Asset type (e.g. Article, Interactive, ...).        |\n",
    "| title   | string        | Article's headline (e.g. When the Cellos Play, the Cows Come Home).        |\n",
    "| abstract   | string        | Brief summary of the article.|\n",
    "| published_date   | string        | When the article was published on the web (e.g. 2021-04-19).        |\n",
    "| source   | string        | Publisher (e.g. New York Times).        |\n",
    "| id   | integer        | Asset ID number (e.g. 100000007772696).        |\n",
    "| asset_id   | integer        | Asset ID number (e.g. 100000007772696).        |\n",
    "| des_facet   | array        | Array of description facets (e.g. Quarantine (Life and Culture)).        |\n",
    "| org_facet   | array        | Array of organization facets (e.g. Sullivan Street Bakery).        |\n",
    "| per_facet   | array        | Array of person facets (e.g. Bittman, Mark).        |\n",
    "| geo_facet   | array        | Array of geographic facets (e.g. Canada).        |\n",
    "| media   | array        | Array of images.        |\n",
    "| media.type   | string        | Asset type (e.g. image).        |\n",
    "| media.subtype   | string        | Asset subtype (e.g. photo).        |\n",
    "| media.caption   | string        | Media caption        |\n",
    "| media.copyright   | string        | Media credit        |\n",
    "| media.approved_for_syndication   | boolean        | Whether media is approved for syndication.        |\n",
    "| media.media-metadata   | array        | Media metadata (url, width, height, ...).        |\n",
    "| media.media-metadata.url   | string        | Image's URL.        |\n",
    "| media.media-metadata.format   | string        | Image's crop name     |\n",
    "| media.media-metadata.height   | integer        | Image's height |\n",
    "| media.media-metadata.width   | integer        | Image's width      |"
   ]
  },
  {
   "cell_type": "markdown",
   "id": "fc33ce38-daf3-494a-9f0f-12d089321297",
   "metadata": {},
   "source": [
    "To pull most popular articles for the past weekend and month, we pass the numbers 7 or 30 into `days`"
   ]
  },
  {
   "cell_type": "code",
   "execution_count": 17,
   "id": "cf701a93-68c4-4c0c-ab6d-30487b4da504",
   "metadata": {},
   "outputs": [],
   "source": [
    "most_viewed_week = nyt.most_viewed(days=7)\n",
    "most_viewed_month = nyt.most_viewed(days=30)"
   ]
  },
  {
   "cell_type": "markdown",
   "id": "64a14916-a9fc-4826-a459-787780e26a41",
   "metadata": {},
   "source": [
    "🔔 **Question**: What is the most viewed article of the last week?"
   ]
  },
  {
   "cell_type": "code",
   "execution_count": 18,
   "id": "e3e2f679-4660-4c03-84b8-5f9257473165",
   "metadata": {},
   "outputs": [
    {
     "data": {
      "text/plain": [
       "'84-Year-Old Is Charged in Shooting of Black Teenager Who Went to Wrong House'"
      ]
     },
     "execution_count": 18,
     "metadata": {},
     "output_type": "execute_result"
    }
   ],
   "source": [
    "most_viewed_week[0]['title']"
   ]
  },
  {
   "cell_type": "markdown",
   "id": "174a91ba-c09f-4c16-b415-15d501cbb55a",
   "metadata": {},
   "source": [
    "🔔 **Question**: What is the most viewed article of the last month?"
   ]
  },
  {
   "cell_type": "code",
   "execution_count": 19,
   "id": "74b269e1-d793-49cd-a3b5-2121eb7db26d",
   "metadata": {},
   "outputs": [
    {
     "data": {
      "text/plain": [
       "'For Years She Said a Coach Abused Her. Now She Has Named a Legend.'"
      ]
     },
     "execution_count": 19,
     "metadata": {},
     "output_type": "execute_result"
    }
   ],
   "source": [
    "most_viewed_month[0]['title']"
   ]
  },
  {
   "cell_type": "markdown",
   "id": "1784d2ab-b5f0-4fb0-8507-8cee3e52e71b",
   "metadata": {},
   "source": [
    "## 🥊 Challenge: Most Shared Stories\n",
    "\n",
    "The `most_shared` method is similiar to `most_viewed` except that it has an argument called `method` which is used to show the most shared articles using `'email'` or `'facebook'`.\n",
    "\n",
    "- Grab the most shared articles for both methods for the past month.\n",
    "- How many articles show up in both lists? (Hint: use the `uri` key)\n",
    "- Bonus: Use the [Shared Article](https://developer.nytimes.com/docs/most-popular-product/1/types/SharedArticle) schema table to help you answer a question you may have about the data."
   ]
  },
  {
   "cell_type": "markdown",
   "id": "224416c5-1397-458a-a3e9-30a5dcc29f94",
   "metadata": {},
   "source": [
    "| Attribute      | Data Type | Definition      |\n",
    "| ----------- | ----------- | ----------- |\n",
    "| url      | string       | Article's URL.       |\n",
    "| adx_keywords   | string        | Semicolon separated list of keywords.        |\n",
    "| subsection   | string        | Article's subsection (e.g. Politics). Can be empty |\n",
    "| column   | string        | Deprecated. Set to null.        |\n",
    "| eta_id   | integer        | Deprecated. Set to 0.|\n",
    "| section   | string        | Article's section (e.g. Sports).        |\n",
    "| id   | integer        | Asset ID number (e.g. 100000007772696).        |\n",
    "| asset_id   | integer        | Asset ID number (e.g. 100000007772696).        |\n",
    "| nytdsection   | string        | Article's section|\n",
    "| byline   | string        | Article's byline (e.g. By Thomas L. Friedman).        |\n",
    "| type   | string        | Asset type (e.g. Article, Interactive, ...).        |\n",
    "| title   | string        | Article's headline (e.g. When the Cellos Play, the Cows Come Home).        |\n",
    "| abstract   | string        | Brief summary of the article.|\n",
    "| published_date   | string        | When the article was published on the web (e.g. 2021-04-19).        |\n",
    "| source   | string        | Publisher (e.g. New York Times).        |\n",
    "| updated   | string        | When the article was last updated (e.g. 2021-05-12 06:32:03).|\n",
    "| des_facet   | array        | Array of description facets (e.g. Quarantine (Life and Culture)).        |\n",
    "| org_facet   | array        | Array of organization facets (e.g. Sullivan Street Bakery).        |\n",
    "| per_facet   | array        | Array of person facets (e.g. Bittman, Mark).        |\n",
    "| geo_facet   | array        | Array of geographic facets (e.g. Canada).        |\n",
    "| media   | array        | Array of images.        |\n",
    "| media.type   | string        | Asset type (e.g. image).        |\n",
    "| media.subtype   | string        | Asset subtype (e.g. photo).        |\n",
    "| media.caption   | string        | Media caption        |\n",
    "| media.copyright   | string        | Media credit        |\n",
    "| media.approved_for_syndication   | boolean        | Whether media is approved for syndication.        |\n",
    "| media.media-metadata   | array        | Media metadata (url, width, height, ...).        |\n",
    "| media.media-metadata.url   | string        | Image's URL.        |\n",
    "| media.media-metadata.format   | string        | Image's crop name     |\n",
    "| media.media-metadata.height   | integer        | Image's height |\n",
    "| media.media-metadata.width   | integer        | Image's width      |\n",
    "| uri   | string        | An article's globally unique identifier.      |"
   ]
  },
  {
   "cell_type": "code",
   "execution_count": 20,
   "id": "f5f49694-4e4d-40b9-a19f-e873c7107b56",
   "metadata": {},
   "outputs": [
    {
     "data": {
      "text/plain": [
       "'Japan Has Millions of Empty Houses. Want to Buy One for $25,000?'"
      ]
     },
     "metadata": {},
     "output_type": "display_data"
    },
    {
     "data": {
      "text/plain": [
       "'Whatever the Problem, It’s Probably Solved by Walking'"
      ]
     },
     "metadata": {},
     "output_type": "display_data"
    }
   ],
   "source": [
    "# YOUR CODE HERE\n",
    "\n",
    "most_shared_week = nyt.most_shared(days=7)\n",
    "most_shared_month = nyt.most_shared(days=30)\n",
    "\n",
    "display(most_shared_week[0]['title'])\n",
    "display(most_shared_month[0]['title']) \n",
    "\n"
   ]
  },
  {
   "cell_type": "markdown",
   "id": "d60086e2-a79b-47f3-a480-e58339194f3f",
   "metadata": {},
   "source": [
    "<a id='search'></a>\n",
    "\n",
    "# Article Search API\n",
    "\n",
    "Let's take it up a notch and use the search API to retrieve a set of articles about a particular topic in a chosen period of time.\n",
    "\n",
    "We'll use the `article_search` function. Two relevant parameters include:\n",
    "\n",
    "- `query`: The search query\n",
    "- `results`: Number of articles returned. The default is 10.\n",
    "\n",
    "Let's try pulling the 20 most recent articles about Berkeley:"
   ]
  },
  {
   "cell_type": "code",
   "execution_count": 21,
   "id": "b15ff11f-7049-488f-9d96-f689c430a576",
   "metadata": {},
   "outputs": [],
   "source": [
    "articles = nyt.article_search(query=\"Berkeley\", results=20)"
   ]
  },
  {
   "cell_type": "markdown",
   "id": "b4c2f903-afb6-4f74-a542-711c5e3d149e",
   "metadata": {},
   "source": [
    "Let's look at the main headlines of these articles:"
   ]
  },
  {
   "cell_type": "code",
   "execution_count": 22,
   "id": "d25dd533-b471-44fa-8739-0e7e0c756255",
   "metadata": {},
   "outputs": [
    {
     "data": {
      "text/plain": [
       "['Oumuamua Was a Comet After All, a Study Suggests',\n",
       " 'David Lance Goines, Who Shaped the Counterculture Aesthetic, Dies at 77',\n",
       " 'Tom Luddy, a Behind-the-Scenes Force in Cinema, Dies at 79',\n",
       " 'How the Gas-Stove Debate Has Played Out in California',\n",
       " 'At Berkeley Law, a Debate Over Zionism, Free Speech and Campus Ideals',\n",
       " 'U.C.L.A. Is Allowed by California Regents to Join Big Ten',\n",
       " 'The Climate Impact of Your Neighborhood, Mapped',\n",
       " 'Indigenous Founders of a Museum Cafe Put Repatriation on the Menu',\n",
       " 'As More Top Law Schools Boycott Rankings, Others Say They Can’t Afford to Leave',\n",
       " 'California Regents Set December Showdown for U.C.L.A.’s Big Ten Move',\n",
       " 'U.C.L.A. Faces Judgment Day with U.C. Regents, and Perhaps Lawmakers',\n",
       " 'University of California Academic Employees Strike for Higher Pay',\n",
       " 'Berkeley on a Budget',\n",
       " 'Berkeley',\n",
       " 'The Berkeley Model',\n",
       " 'Weekend in Berkeley',\n",
       " \"From Busby Berkeley To 60's Berkeley\",\n",
       " 'Berkeley Bubble',\n",
       " 'Life and Combat for Republicans at Berkeley',\n",
       " 'BERKELEY AFTERSHOCK']"
      ]
     },
     "execution_count": 22,
     "metadata": {},
     "output_type": "execute_result"
    }
   ],
   "source": [
    "headlines = [article['headline']['main'] for article in articles]\n",
    "headlines"
   ]
  },
  {
   "cell_type": "markdown",
   "id": "6cd24cf5-67c1-49fb-95fc-69aaddcc2702",
   "metadata": {},
   "source": [
    "We can also take a peek at the first article provided. We're going to remove the `multimedia` key in order to make it more easy to view:"
   ]
  },
  {
   "cell_type": "code",
   "execution_count": 23,
   "id": "0b780566-16a3-4a30-b016-a317cc213280",
   "metadata": {},
   "outputs": [
    {
     "data": {
      "text/plain": [
       "{'abstract': 'Astronomers offer “a surprisingly simple explanation” for the curious behavior of the interstellar visitor in 2017.',\n",
       " 'web_url': 'https://www.nytimes.com/2023/03/22/science/astronomy-oumuamua-comet.html',\n",
       " 'snippet': 'Astronomers offer “a surprisingly simple explanation” for the curious behavior of the interstellar visitor in 2017.',\n",
       " 'lead_paragraph': 'Was it alien space junk? A wandering interstellar asteroid? Or a weird comet from another sun?',\n",
       " 'print_section': 'D',\n",
       " 'print_page': '5',\n",
       " 'source': 'The New York Times',\n",
       " 'headline': {'main': 'Oumuamua Was a Comet After All, a Study Suggests',\n",
       "  'kicker': 'Out There',\n",
       "  'content_kicker': None,\n",
       "  'print_headline': 'Was a Mystery Visitor  A Comet After All?',\n",
       "  'name': None,\n",
       "  'seo': None,\n",
       "  'sub': None},\n",
       " 'keywords': [{'name': 'subject',\n",
       "   'value': 'Space and Astronomy',\n",
       "   'rank': 1,\n",
       "   'major': 'N'},\n",
       "  {'name': 'subject', 'value': 'Solar System', 'rank': 2, 'major': 'N'},\n",
       "  {'name': 'subject', 'value': 'Asteroids', 'rank': 3, 'major': 'N'},\n",
       "  {'name': 'subject', 'value': 'Comets', 'rank': 4, 'major': 'N'},\n",
       "  {'name': 'subject', 'value': 'Ice', 'rank': 5, 'major': 'N'},\n",
       "  {'name': 'organizations',\n",
       "   'value': 'Nature (Journal)',\n",
       "   'rank': 6,\n",
       "   'major': 'N'},\n",
       "  {'name': 'organizations',\n",
       "   'value': 'University of California, Berkeley',\n",
       "   'rank': 7,\n",
       "   'major': 'N'},\n",
       "  {'name': 'subject', 'value': 'your-feed-science', 'rank': 8, 'major': 'N'},\n",
       "  {'name': 'subject', 'value': 'Research', 'rank': 9, 'major': 'N'}],\n",
       " 'pub_date': datetime.datetime(2023, 3, 22, 15, 0, 8, tzinfo=datetime.timezone.utc),\n",
       " 'document_type': 'article',\n",
       " 'news_desk': 'Science',\n",
       " 'section_name': 'Science',\n",
       " 'byline': {'original': 'By Dennis Overbye',\n",
       "  'person': [{'firstname': 'Dennis',\n",
       "    'middlename': None,\n",
       "    'lastname': 'Overbye',\n",
       "    'qualifier': None,\n",
       "    'title': None,\n",
       "    'role': 'reported',\n",
       "    'organization': '',\n",
       "    'rank': 1}],\n",
       "  'organization': None},\n",
       " 'type_of_material': 'News',\n",
       " '_id': 'nyt://article/e357ff1c-a186-528b-bb4b-a1e315109409',\n",
       " 'word_count': 841,\n",
       " 'uri': 'nyt://article/e357ff1c-a186-528b-bb4b-a1e315109409'}"
      ]
     },
     "execution_count": 23,
     "metadata": {},
     "output_type": "execute_result"
    }
   ],
   "source": [
    "del articles[0]['multimedia']\n",
    "articles[0]"
   ]
  },
  {
   "cell_type": "markdown",
   "id": "34559fc2-0f44-4444-a19a-28817b103628",
   "metadata": {},
   "source": [
    "Notice that not all article data comes in the same format. Data from the search API is presented differently from that of the Most Viewed and Top Stories APIs.\n",
    "\n",
    "There are schemas for the above data. Unfortunately, they do not have definitions.\n",
    "\n",
    "- [Article Schema](https://developer.nytimes.com/docs/articlesearch-product/1/types/Article)\n",
    "- [Byline](https://developer.nytimes.com/docs/articlesearch-product/1/types/Byline)\n",
    "- [Headline](https://developer.nytimes.com/docs/articlesearch-product/1/types/Headline)\n",
    "- [Keyword](https://developer.nytimes.com/docs/articlesearch-product/1/types/Keyword)\n",
    "- [Multimedia](https://developer.nytimes.com/docs/articlesearch-product/1/types/Multimedia)\n",
    "- [Person](https://developer.nytimes.com/docs/articlesearch-product/1/types/Person)"
   ]
  },
  {
   "cell_type": "markdown",
   "id": "cb7fb990-96de-49dd-9611-4b798884321a",
   "metadata": {},
   "source": [
    "Let's try this again, but for a specific time period. \n",
    "\n",
    "For example, how would we retrieve all the articles about the first two months of the George Floyd protests?\n",
    "\n",
    "We need to pass a dictionary to the `dates` argument which contains keys named \"begin\" and \"end\". Those two keys point to `datetime` objects that we'll use as time markers. We're also going to use the `options` argument to filter and sort our results."
   ]
  },
  {
   "cell_type": "code",
   "execution_count": 26,
   "id": "5b86f60e-480f-4635-ba84-3dff7addfe17",
   "metadata": {},
   "outputs": [],
   "source": [
    "# Set up start and end date objects\n",
    "begin = datetime(2020, 5, 23) # May 23, 2020\n",
    "end = datetime(2020, 7, 23) # July 23, 2020\n",
    "\n",
    "# Create a dictionary containing the datetime objects\n",
    "date_dict = {\"begin\": begin, \"end\": end}\n",
    "\n",
    "# Create options dictionary\n",
    "options_dict = {\n",
    "    # Sort from earliest to latest\n",
    "    \"sort\": \"oldest\",\n",
    "    # Return only articles from New York Times (filters out other sources such as AP and Reuters)\n",
    "    \"sources\": [\"New York Times\"],\n",
    "    # Return only news, analyses, and articles\n",
    "    \"type_of_material\": [\"News Analysis\", \"News\", \"Article\"]\n",
    "}\n",
    "\n",
    "articles = nyt.article_search(\n",
    "    query=\"George Floyd protest\",\n",
    "    results=100,\n",
    "    dates=date_dict,\n",
    "    options=options_dict)"
   ]
  },
  {
   "cell_type": "code",
   "execution_count": 27,
   "id": "8c39a319-9185-4740-99c0-f34c437b6e47",
   "metadata": {},
   "outputs": [
    {
     "data": {
      "text/plain": [
       "{'abstract': '“Being black in America should not be a death sentence,” the city’s mayor said as video of the arrest was widely shared.',\n",
       " 'web_url': 'https://www.nytimes.com/2020/05/26/us/minneapolis-police-man-died.html',\n",
       " 'snippet': '“Being black in America should not be a death sentence,” the city’s mayor said as video of the arrest was widely shared.',\n",
       " 'lead_paragraph': 'The F.B.I. and Minnesota law enforcement authorities are investigating the arrest of a black man who died after being handcuffed and pinned to the ground by an officer’s knee, in an episode that was recorded on video by a bystander and that sparked large protests in Minneapolis on Tuesday.',\n",
       " 'print_section': 'A',\n",
       " 'print_page': '23',\n",
       " 'source': 'The New York Times',\n",
       " 'headline': {'main': '‘I Can’t Breathe’: 4 Minneapolis Officers Fired After Black Man Dies in Custody',\n",
       "  'kicker': None,\n",
       "  'content_kicker': None,\n",
       "  'print_headline': ' F.B.I. Investigating Arrest; 4 Police Officers Lose Jobs',\n",
       "  'name': None,\n",
       "  'seo': None,\n",
       "  'sub': None},\n",
       " 'keywords': [{'name': 'organizations',\n",
       "   'value': 'Police Department (Minneapolis, Minn)',\n",
       "   'rank': 1,\n",
       "   'major': 'N'},\n",
       "  {'name': 'organizations',\n",
       "   'value': 'Federal Bureau of Investigation',\n",
       "   'rank': 2,\n",
       "   'major': 'N'},\n",
       "  {'name': 'persons',\n",
       "   'value': 'Frey, Jacob (1981- )',\n",
       "   'rank': 3,\n",
       "   'major': 'N'},\n",
       "  {'name': 'glocations',\n",
       "   'value': 'Minneapolis (Minn)',\n",
       "   'rank': 4,\n",
       "   'major': 'N'},\n",
       "  {'name': 'persons',\n",
       "   'value': 'Floyd, George (d 2020)',\n",
       "   'rank': 5,\n",
       "   'major': 'N'},\n",
       "  {'name': 'subject', 'value': 'Black People', 'rank': 6, 'major': 'N'},\n",
       "  {'name': 'subject', 'value': 'Blacks', 'rank': 7, 'major': 'N'},\n",
       "  {'name': 'subject',\n",
       "   'value': 'Police Brutality, Misconduct and Shootings',\n",
       "   'rank': 8,\n",
       "   'major': 'N'},\n",
       "  {'name': 'subject',\n",
       "   'value': 'Video Recordings, Downloads and Streaming',\n",
       "   'rank': 9,\n",
       "   'major': 'N'},\n",
       "  {'name': 'subject',\n",
       "   'value': 'Demonstrations, Protests and Riots',\n",
       "   'rank': 10,\n",
       "   'major': 'N'},\n",
       "  {'name': 'subject',\n",
       "   'value': 'George Floyd Protests (2020)',\n",
       "   'rank': 11,\n",
       "   'major': 'N'},\n",
       "  {'name': 'subject',\n",
       "   'value': 'Black Lives Matter Movement',\n",
       "   'rank': 12,\n",
       "   'major': 'N'}],\n",
       " 'pub_date': datetime.datetime(2020, 5, 26, 14, 15, 53, tzinfo=datetime.timezone.utc),\n",
       " 'document_type': 'article',\n",
       " 'news_desk': 'Express',\n",
       " 'section_name': 'U.S.',\n",
       " 'byline': {'original': 'By Christine Hauser, Derrick Bryson Taylor and Neil Vigdor',\n",
       "  'person': [{'firstname': 'Christine',\n",
       "    'middlename': None,\n",
       "    'lastname': 'Hauser',\n",
       "    'qualifier': None,\n",
       "    'title': None,\n",
       "    'role': 'reported',\n",
       "    'organization': '',\n",
       "    'rank': 1},\n",
       "   {'firstname': 'Derrick',\n",
       "    'middlename': 'Bryson',\n",
       "    'lastname': 'Taylor',\n",
       "    'qualifier': None,\n",
       "    'title': None,\n",
       "    'role': 'reported',\n",
       "    'organization': '',\n",
       "    'rank': 2},\n",
       "   {'firstname': 'Neil',\n",
       "    'middlename': None,\n",
       "    'lastname': 'Vigdor',\n",
       "    'qualifier': None,\n",
       "    'title': None,\n",
       "    'role': 'reported',\n",
       "    'organization': '',\n",
       "    'rank': 3}],\n",
       "  'organization': None},\n",
       " 'type_of_material': 'News',\n",
       " '_id': 'nyt://article/6d905f40-f7db-5716-a1c6-18d2eb62c7c6',\n",
       " 'word_count': 1590,\n",
       " 'uri': 'nyt://article/6d905f40-f7db-5716-a1c6-18d2eb62c7c6'}"
      ]
     },
     "execution_count": 27,
     "metadata": {},
     "output_type": "execute_result"
    }
   ],
   "source": [
    "# Grab first article and drop the multimedia key to reduce clutter\n",
    "article = articles[0]\n",
    "del article[\"multimedia\"]\n",
    "\n",
    "# Check out results\n",
    "article"
   ]
  },
  {
   "cell_type": "markdown",
   "id": "c33ad4d2-d283-466b-a395-b56fd9817a3a",
   "metadata": {},
   "source": [
    "## 🥊 Challenge: Article Searching\n",
    "\n",
    "- Retrieve a set of articles for a query of your choice.\n",
    "- Use a relevant time interval in constructing your `dates` dictionary\n",
    "- Use `type_of_material` and `section_name` as keys in your `options` dictionary.\n",
    "    - For `type_of_material` values refer to this [list](https://github.com/michadenheijer/pynytimes/blob/main/VALID_SEARCH_OPTIONS.md#type-of-material-values).\n",
    "    - For `section_name` values refer to this [list](https://github.com/michadenheijer/pynytimes/blob/main/VALID_SEARCH_OPTIONS.md#section-name-values)."
   ]
  },
  {
   "cell_type": "code",
   "execution_count": 29,
   "id": "5dce99e3-4cf1-475e-a7a2-7f545f06d6e3",
   "metadata": {},
   "outputs": [],
   "source": [
    "# YOUR CODE HERE\n",
    "run_query = False\n",
    "\n",
    "if run_query:\n",
    "    # Set up start and end date objects\n",
    "    begin = datetime(2023, 3, 1) # May 23, 2020\n",
    "    end = datetime(2023, 4, 1) # July 23, 2020\n",
    "\n",
    "    # Create a dictionary containing the datetime objects\n",
    "    date_dict = {\"begin\": begin, \"end\": end}\n",
    "\n",
    "    # Create options dictionary\n",
    "    options_dict = {\n",
    "        # Sort from earliest to latest\n",
    "        \"sort\": \"oldest\",\n",
    "        # Return only articles from New York Times (filters out other sources such as AP and Reuters)\n",
    "        \"sources\": [\"New York Times\"],\n",
    "        # Return only news, analyses, and articles\n",
    "        \"type_of_material\": [\"News Analysis\", \"News\", \"Article\"]\n",
    "    }\n",
    "\n",
    "    articles = nyt.article_search(\n",
    "        query=\"Ukraine\",\n",
    "        results=100,\n",
    "        dates=date_dict,\n",
    "        options=options_dict)\n",
    "\n",
    "    headlines = [article['headline']['main'] for article in articles]\n",
    "    headlines\n",
    "\n"
   ]
  },
  {
   "cell_type": "markdown",
   "id": "49f4b3b3-2b4a-4a20-9a79-ca90d90262f8",
   "metadata": {},
   "source": [
    "<a id='analysis'></a>\n",
    "\n",
    "# Data Analysis\n",
    "\n",
    "Now, we'll perform a data analysis on many articles about the 2020 presidential election."
   ]
  },
  {
   "cell_type": "markdown",
   "id": "84d24acd-e050-424c-af03-67e708db4737",
   "metadata": {},
   "source": [
    "We are working with previously queried set of articles because making the API call will take too much time. The code used to queried the articles we'll analyze can be found in the following cell:"
   ]
  },
  {
   "cell_type": "markdown",
   "id": "9d1d5e83-a645-4b35-9084-fca5dd408363",
   "metadata": {},
   "source": [
    "## Query Using the Article Search API"
   ]
  },
  {
   "cell_type": "code",
   "execution_count": 30,
   "id": "3a4a7832-3186-45c6-8b43-e52c99486526",
   "metadata": {},
   "outputs": [],
   "source": [
    "# Change this variable if you'd like to run the query yourself\n",
    "run_query = False\n",
    "\n",
    "# Only run this code if you're able to wait for the query to finish\n",
    "if run_query:\n",
    "    # Create datetime objects\n",
    "    begin = datetime(2020, 9, 7) # September 7, 2020\n",
    "    end = datetime(2020, 11, 7) # November 7, 2020\n",
    "    date_dict = {\"begin\": begin, \"end\": end}\n",
    "\n",
    "    options_dict = {\n",
    "        \"sort\": \"oldest\",\n",
    "        \"sources\": [\"New York Times\",],\n",
    "        \"type_of_material\": [\"News Analysis\", \"News\", \"Article\", \"Editorial\"]\n",
    "    }\n",
    "\n",
    "    # To get the dataset we use, set n_results to 2000\n",
    "    n_results = 2000\n",
    "    # n_results = 10\n",
    "\n",
    "    # Perform article search query\n",
    "    articles = nyt.article_search(\n",
    "         query=\"presidential election\",\n",
    "         results=n_results,\n",
    "         dates=date_dict,\n",
    "         options=options_dict)\n",
    "\n",
    "    # Create DataFrame \n",
    "    df = pd.json_normalize(articles)\n",
    "\n",
    "    # Save DataFrame\n",
    "    df.to_pickle(\"election2020_articles.pkl\")"
   ]
  },
  {
   "cell_type": "markdown",
   "id": "4561fe76-6d07-46c5-bda7-9973e7631ed7",
   "metadata": {},
   "source": [
    "Let's load in the previously saved data:"
   ]
  },
  {
   "cell_type": "code",
   "execution_count": 31,
   "id": "cb310d22-895a-4dff-8442-247aa8b02b42",
   "metadata": {},
   "outputs": [
    {
     "data": {
      "text/html": [
       "<div>\n",
       "<style scoped>\n",
       "    .dataframe tbody tr th:only-of-type {\n",
       "        vertical-align: middle;\n",
       "    }\n",
       "\n",
       "    .dataframe tbody tr th {\n",
       "        vertical-align: top;\n",
       "    }\n",
       "\n",
       "    .dataframe thead th {\n",
       "        text-align: right;\n",
       "    }\n",
       "</style>\n",
       "<table border=\"1\" class=\"dataframe\">\n",
       "  <thead>\n",
       "    <tr style=\"text-align: right;\">\n",
       "      <th></th>\n",
       "      <th>abstract</th>\n",
       "      <th>web_url</th>\n",
       "      <th>snippet</th>\n",
       "      <th>lead_paragraph</th>\n",
       "      <th>print_section</th>\n",
       "      <th>print_page</th>\n",
       "      <th>source</th>\n",
       "      <th>keywords</th>\n",
       "      <th>pub_date</th>\n",
       "      <th>document_type</th>\n",
       "      <th>...</th>\n",
       "      <th>headline.main</th>\n",
       "      <th>headline.kicker</th>\n",
       "      <th>headline.content_kicker</th>\n",
       "      <th>headline.print_headline</th>\n",
       "      <th>headline.name</th>\n",
       "      <th>headline.seo</th>\n",
       "      <th>headline.sub</th>\n",
       "      <th>byline.original</th>\n",
       "      <th>byline.person</th>\n",
       "      <th>byline.organization</th>\n",
       "    </tr>\n",
       "  </thead>\n",
       "  <tbody>\n",
       "    <tr>\n",
       "      <th>0</th>\n",
       "      <td>President Trump will try to put the media on t...</td>\n",
       "      <td>https://www.nytimes.com/2020/09/06/business/me...</td>\n",
       "      <td>President Trump will try to put the media on t...</td>\n",
       "      <td>The worst thing about being a reporter in the ...</td>\n",
       "      <td>B</td>\n",
       "      <td>3</td>\n",
       "      <td>The New York Times</td>\n",
       "      <td>[{'name': 'subject', 'value': 'News and News M...</td>\n",
       "      <td>2020-09-07 01:30:15+00:00</td>\n",
       "      <td>article</td>\n",
       "      <td>...</td>\n",
       "      <td>Journalists Aren’t the Enemy of the People. Bu...</td>\n",
       "      <td>the media equation</td>\n",
       "      <td>None</td>\n",
       "      <td>We Aren’t the Enemy of the People. But We’re N...</td>\n",
       "      <td>None</td>\n",
       "      <td>None</td>\n",
       "      <td>None</td>\n",
       "      <td>By Ben Smith</td>\n",
       "      <td>[{'firstname': 'Ben', 'middlename': None, 'las...</td>\n",
       "      <td>None</td>\n",
       "    </tr>\n",
       "    <tr>\n",
       "      <th>1</th>\n",
       "      <td>Forced underground in the 1990s to a life of c...</td>\n",
       "      <td>https://www.nytimes.com/2020/09/06/world/europ...</td>\n",
       "      <td>Forced underground in the 1990s to a life of c...</td>\n",
       "      <td>MINSK, Belarus — Pit Pawlaw, guitar in hand, b...</td>\n",
       "      <td>A</td>\n",
       "      <td>1</td>\n",
       "      <td>The New York Times</td>\n",
       "      <td>[{'name': 'subject', 'value': 'Demonstrations,...</td>\n",
       "      <td>2020-09-07 02:00:10+00:00</td>\n",
       "      <td>article</td>\n",
       "      <td>...</td>\n",
       "      <td>For Aging Belarus Rockers, a Late Shot at Stardom</td>\n",
       "      <td>None</td>\n",
       "      <td>None</td>\n",
       "      <td>Aging Rockers Emerge to Lead Belarus Revolt</td>\n",
       "      <td>None</td>\n",
       "      <td>None</td>\n",
       "      <td>None</td>\n",
       "      <td>By Anton Troianovski</td>\n",
       "      <td>[{'firstname': 'Anton', 'middlename': None, 'l...</td>\n",
       "      <td>None</td>\n",
       "    </tr>\n",
       "    <tr>\n",
       "      <th>2</th>\n",
       "      <td>The vice-presidential candidates will be on op...</td>\n",
       "      <td>https://www.nytimes.com/2020/09/07/us/politics...</td>\n",
       "      <td>The vice-presidential candidates will be on op...</td>\n",
       "      <td>LA CROSSE, Wis. — Labor Day is the traditional...</td>\n",
       "      <td>NaN</td>\n",
       "      <td>NaN</td>\n",
       "      <td>The New York Times</td>\n",
       "      <td>[{'name': 'persons', 'value': 'Harris, Kamala ...</td>\n",
       "      <td>2020-09-07 04:01:08+00:00</td>\n",
       "      <td>article</td>\n",
       "      <td>...</td>\n",
       "      <td>What to Watch For as Harris and Pence Visit Wi...</td>\n",
       "      <td>None</td>\n",
       "      <td>None</td>\n",
       "      <td>None</td>\n",
       "      <td>None</td>\n",
       "      <td>None</td>\n",
       "      <td>None</td>\n",
       "      <td>By Jonathan Martin</td>\n",
       "      <td>[{'firstname': 'Jonathan', 'middlename': None,...</td>\n",
       "      <td>None</td>\n",
       "    </tr>\n",
       "    <tr>\n",
       "      <th>3</th>\n",
       "      <td>Communities are running short on time to hire ...</td>\n",
       "      <td>https://www.nytimes.com/2020/09/07/us/politics...</td>\n",
       "      <td>Communities are running short on time to hire ...</td>\n",
       "      <td>PHILADELPHIA — Unnerved by the difficulties of...</td>\n",
       "      <td>A</td>\n",
       "      <td>1</td>\n",
       "      <td>The New York Times</td>\n",
       "      <td>[{'name': 'subject', 'value': 'Voting and Vote...</td>\n",
       "      <td>2020-09-07 07:00:09+00:00</td>\n",
       "      <td>article</td>\n",
       "      <td>...</td>\n",
       "      <td>In Year of Voting by Mail, a Scramble to Beef ...</td>\n",
       "      <td>None</td>\n",
       "      <td>None</td>\n",
       "      <td>Safety Shapes Plans to Fortify Voting Stations</td>\n",
       "      <td>None</td>\n",
       "      <td>None</td>\n",
       "      <td>None</td>\n",
       "      <td>By Nick Corasaniti and Michael Wines</td>\n",
       "      <td>[{'firstname': 'Nick', 'middlename': None, 'la...</td>\n",
       "      <td>None</td>\n",
       "    </tr>\n",
       "    <tr>\n",
       "      <th>4</th>\n",
       "      <td>Prime Minister Boris Johnson is threatening to...</td>\n",
       "      <td>https://www.nytimes.com/2020/09/07/world/europ...</td>\n",
       "      <td>Prime Minister Boris Johnson is threatening to...</td>\n",
       "      <td>LONDON — Bellicose threats to walk away from t...</td>\n",
       "      <td>A</td>\n",
       "      <td>9</td>\n",
       "      <td>The New York Times</td>\n",
       "      <td>[{'name': 'subject', 'value': 'Great Britain W...</td>\n",
       "      <td>2020-09-07 17:15:32+00:00</td>\n",
       "      <td>article</td>\n",
       "      <td>...</td>\n",
       "      <td>As Brexit Deadlines Loom, the Posturing and Bi...</td>\n",
       "      <td>None</td>\n",
       "      <td>None</td>\n",
       "      <td>Brinkmanship Permeates Brexit Trade Deal Sessions</td>\n",
       "      <td>None</td>\n",
       "      <td>None</td>\n",
       "      <td>None</td>\n",
       "      <td>By Mark Landler and Stephen Castle</td>\n",
       "      <td>[{'firstname': 'Mark', 'middlename': None, 'la...</td>\n",
       "      <td>None</td>\n",
       "    </tr>\n",
       "  </tbody>\n",
       "</table>\n",
       "<p>5 rows × 27 columns</p>\n",
       "</div>"
      ],
      "text/plain": [
       "                                            abstract   \n",
       "0  President Trump will try to put the media on t...  \\\n",
       "1  Forced underground in the 1990s to a life of c...   \n",
       "2  The vice-presidential candidates will be on op...   \n",
       "3  Communities are running short on time to hire ...   \n",
       "4  Prime Minister Boris Johnson is threatening to...   \n",
       "\n",
       "                                             web_url   \n",
       "0  https://www.nytimes.com/2020/09/06/business/me...  \\\n",
       "1  https://www.nytimes.com/2020/09/06/world/europ...   \n",
       "2  https://www.nytimes.com/2020/09/07/us/politics...   \n",
       "3  https://www.nytimes.com/2020/09/07/us/politics...   \n",
       "4  https://www.nytimes.com/2020/09/07/world/europ...   \n",
       "\n",
       "                                             snippet   \n",
       "0  President Trump will try to put the media on t...  \\\n",
       "1  Forced underground in the 1990s to a life of c...   \n",
       "2  The vice-presidential candidates will be on op...   \n",
       "3  Communities are running short on time to hire ...   \n",
       "4  Prime Minister Boris Johnson is threatening to...   \n",
       "\n",
       "                                      lead_paragraph print_section print_page   \n",
       "0  The worst thing about being a reporter in the ...             B          3  \\\n",
       "1  MINSK, Belarus — Pit Pawlaw, guitar in hand, b...             A          1   \n",
       "2  LA CROSSE, Wis. — Labor Day is the traditional...           NaN        NaN   \n",
       "3  PHILADELPHIA — Unnerved by the difficulties of...             A          1   \n",
       "4  LONDON — Bellicose threats to walk away from t...             A          9   \n",
       "\n",
       "               source                                           keywords   \n",
       "0  The New York Times  [{'name': 'subject', 'value': 'News and News M...  \\\n",
       "1  The New York Times  [{'name': 'subject', 'value': 'Demonstrations,...   \n",
       "2  The New York Times  [{'name': 'persons', 'value': 'Harris, Kamala ...   \n",
       "3  The New York Times  [{'name': 'subject', 'value': 'Voting and Vote...   \n",
       "4  The New York Times  [{'name': 'subject', 'value': 'Great Britain W...   \n",
       "\n",
       "                   pub_date document_type  ...   \n",
       "0 2020-09-07 01:30:15+00:00       article  ...  \\\n",
       "1 2020-09-07 02:00:10+00:00       article  ...   \n",
       "2 2020-09-07 04:01:08+00:00       article  ...   \n",
       "3 2020-09-07 07:00:09+00:00       article  ...   \n",
       "4 2020-09-07 17:15:32+00:00       article  ...   \n",
       "\n",
       "                                       headline.main     headline.kicker   \n",
       "0  Journalists Aren’t the Enemy of the People. Bu...  the media equation  \\\n",
       "1  For Aging Belarus Rockers, a Late Shot at Stardom                None   \n",
       "2  What to Watch For as Harris and Pence Visit Wi...                None   \n",
       "3  In Year of Voting by Mail, a Scramble to Beef ...                None   \n",
       "4  As Brexit Deadlines Loom, the Posturing and Bi...                None   \n",
       "\n",
       "  headline.content_kicker                            headline.print_headline   \n",
       "0                    None  We Aren’t the Enemy of the People. But We’re N...  \\\n",
       "1                    None        Aging Rockers Emerge to Lead Belarus Revolt   \n",
       "2                    None                                               None   \n",
       "3                    None     Safety Shapes Plans to Fortify Voting Stations   \n",
       "4                    None  Brinkmanship Permeates Brexit Trade Deal Sessions   \n",
       "\n",
       "  headline.name  headline.seo headline.sub   \n",
       "0          None          None         None  \\\n",
       "1          None          None         None   \n",
       "2          None          None         None   \n",
       "3          None          None         None   \n",
       "4          None          None         None   \n",
       "\n",
       "                        byline.original   \n",
       "0                          By Ben Smith  \\\n",
       "1                  By Anton Troianovski   \n",
       "2                    By Jonathan Martin   \n",
       "3  By Nick Corasaniti and Michael Wines   \n",
       "4    By Mark Landler and Stephen Castle   \n",
       "\n",
       "                                       byline.person byline.organization  \n",
       "0  [{'firstname': 'Ben', 'middlename': None, 'las...                None  \n",
       "1  [{'firstname': 'Anton', 'middlename': None, 'l...                None  \n",
       "2  [{'firstname': 'Jonathan', 'middlename': None,...                None  \n",
       "3  [{'firstname': 'Nick', 'middlename': None, 'la...                None  \n",
       "4  [{'firstname': 'Mark', 'middlename': None, 'la...                None  \n",
       "\n",
       "[5 rows x 27 columns]"
      ]
     },
     "execution_count": 31,
     "metadata": {},
     "output_type": "execute_result"
    }
   ],
   "source": [
    "df = pd.read_pickle(\"../data/election2020_articles.pkl\")\n",
    "df.head()"
   ]
  },
  {
   "cell_type": "code",
   "execution_count": 32,
   "id": "65e4aa87-5f4b-42c6-8f6a-c252e91cdc60",
   "metadata": {},
   "outputs": [
    {
     "name": "stdout",
     "output_type": "stream",
     "text": [
      "<class 'pandas.core.frame.DataFrame'>\n",
      "RangeIndex: 1803 entries, 0 to 1802\n",
      "Data columns (total 27 columns):\n",
      " #   Column                   Non-Null Count  Dtype              \n",
      "---  ------                   --------------  -----              \n",
      " 0   abstract                 1803 non-null   object             \n",
      " 1   web_url                  1803 non-null   object             \n",
      " 2   snippet                  1803 non-null   object             \n",
      " 3   lead_paragraph           1803 non-null   object             \n",
      " 4   print_section            1052 non-null   object             \n",
      " 5   print_page               1052 non-null   object             \n",
      " 6   source                   1803 non-null   object             \n",
      " 7   keywords                 1803 non-null   object             \n",
      " 8   pub_date                 1803 non-null   datetime64[ns, UTC]\n",
      " 9   document_type            1803 non-null   object             \n",
      " 10  news_desk                1803 non-null   object             \n",
      " 11  section_name             1803 non-null   object             \n",
      " 12  subsection_name          1232 non-null   object             \n",
      " 13  type_of_material         1803 non-null   object             \n",
      " 14  _id                      1803 non-null   object             \n",
      " 15  word_count               1803 non-null   int64              \n",
      " 16  uri                      1803 non-null   object             \n",
      " 17  headline.main            1803 non-null   object             \n",
      " 18  headline.kicker          322 non-null    object             \n",
      " 19  headline.content_kicker  0 non-null      object             \n",
      " 20  headline.print_headline  1050 non-null   object             \n",
      " 21  headline.name            0 non-null      object             \n",
      " 22  headline.seo             0 non-null      object             \n",
      " 23  headline.sub             0 non-null      object             \n",
      " 24  byline.original          1726 non-null   object             \n",
      " 25  byline.person            1803 non-null   object             \n",
      " 26  byline.organization      32 non-null     object             \n",
      "dtypes: datetime64[ns, UTC](1), int64(1), object(25)\n",
      "memory usage: 380.4+ KB\n"
     ]
    }
   ],
   "source": [
    "# Inspect metadata\n",
    "df.info()"
   ]
  },
  {
   "cell_type": "markdown",
   "id": "3e46337e-600b-45a6-bf77-6a858efc1383",
   "metadata": {},
   "source": [
    "## Perform Sentiment Analysis\n",
    "\n",
    "Sentiment analysis is a common task when working with text data. Let's track the sentiment of articles about the election over the two month time period. We'll use the `vadersentiment` package to evaluate the sentiment of each article.\n",
    "\n",
    "According to the [VADER Github Repo](https://github.com/cjhutto/vaderSentiment), \"VADER (Valence Aware Dictionary and sEntiment Reasoner) is a lexicon and rule-based sentiment analysis tool that is *specifically attuned to sentiments expressed in social media*.\"\n",
    "\n",
    "We'll start by installing the `vadersentiment` library."
   ]
  },
  {
   "cell_type": "code",
   "execution_count": 33,
   "id": "b440d3fb-2ad2-4587-b395-2c862c5009aa",
   "metadata": {},
   "outputs": [
    {
     "name": "stdout",
     "output_type": "stream",
     "text": [
      "Requirement already satisfied: vadersentiment in c:\\users\\wqg16\\appdata\\local\\programs\\python\\python38\\lib\\site-packages (3.3.2)\n",
      "Requirement already satisfied: requests in c:\\users\\wqg16\\appdata\\local\\programs\\python\\python38\\lib\\site-packages (from vadersentiment) (2.28.1)\n",
      "Requirement already satisfied: charset-normalizer<3,>=2 in c:\\users\\wqg16\\appdata\\local\\programs\\python\\python38\\lib\\site-packages (from requests->vadersentiment) (2.1.1)\n",
      "Requirement already satisfied: idna<4,>=2.5 in c:\\users\\wqg16\\appdata\\local\\programs\\python\\python38\\lib\\site-packages (from requests->vadersentiment) (3.4)\n",
      "Requirement already satisfied: urllib3<1.27,>=1.21.1 in c:\\users\\wqg16\\appdata\\local\\programs\\python\\python38\\lib\\site-packages (from requests->vadersentiment) (1.26.12)\n",
      "Requirement already satisfied: certifi>=2017.4.17 in c:\\users\\wqg16\\appdata\\local\\programs\\python\\python38\\lib\\site-packages (from requests->vadersentiment) (2022.9.24)\n",
      "Note: you may need to restart the kernel to use updated packages.\n"
     ]
    }
   ],
   "source": [
    "# Install the vadersentiment library\n",
    "%pip install vadersentiment"
   ]
  },
  {
   "cell_type": "code",
   "execution_count": 34,
   "id": "3477c354-ce11-478c-9f99-1a24c0fbc549",
   "metadata": {},
   "outputs": [],
   "source": [
    "# Import the SentimentIntensityAnalyzer object\n",
    "from vaderSentiment.vaderSentiment import SentimentIntensityAnalyzer"
   ]
  },
  {
   "cell_type": "code",
   "execution_count": 35,
   "id": "0a12840c-372b-4b5d-96cc-c8f33c6116ed",
   "metadata": {},
   "outputs": [],
   "source": [
    "# Initialize analyzer object\n",
    "analyzer = SentimentIntensityAnalyzer()\n",
    "# Calculate the polarity scores of the lead paragraph and save it in df\n",
    "df[\"sentiment\"] = df.lead_paragraph.apply(analyzer.polarity_scores)"
   ]
  },
  {
   "cell_type": "code",
   "execution_count": 36,
   "id": "f005cb19-9a18-4c99-9835-ec2801cb5519",
   "metadata": {},
   "outputs": [
    {
     "data": {
      "text/plain": [
       "0    {'neg': 0.143, 'neu': 0.738, 'pos': 0.119, 'co...\n",
       "1    {'neg': 0.108, 'neu': 0.828, 'pos': 0.063, 'co...\n",
       "2    {'neg': 0.0, 'neu': 0.924, 'pos': 0.076, 'comp...\n",
       "3    {'neg': 0.037, 'neu': 0.963, 'pos': 0.0, 'comp...\n",
       "4    {'neg': 0.202, 'neu': 0.736, 'pos': 0.062, 'co...\n",
       "Name: sentiment, dtype: object"
      ]
     },
     "execution_count": 36,
     "metadata": {},
     "output_type": "execute_result"
    }
   ],
   "source": [
    "# Inspect the sentiment column\n",
    "df.sentiment.head()"
   ]
  },
  {
   "cell_type": "code",
   "execution_count": 37,
   "id": "3bcf1b6c-b87d-40e6-a1ba-26ca80056ef8",
   "metadata": {},
   "outputs": [
    {
     "data": {
      "text/plain": [
       "{'neg': 0.143, 'neu': 0.738, 'pos': 0.119, 'compound': -0.296}"
      ]
     },
     "execution_count": 37,
     "metadata": {},
     "output_type": "execute_result"
    }
   ],
   "source": [
    "# View single row\n",
    "df.sentiment.iloc[0]"
   ]
  },
  {
   "cell_type": "markdown",
   "id": "3b774a12-732b-46a4-aabc-b4c29c8fdb3e",
   "metadata": {},
   "source": [
    "The `compound` score is computed by summing the valence scores of each word in the lexicon, adjusted according to the rules, and then normalized to be between -1 (most negative) and +1 (most positive). This is the most useful metric if you want a single unidimensional measure of sentiment for a given sentence. We can think of this score as a normalized, weighted composite score. It is also useful for researchers who would like to set standardized thresholds for classifying sentences as either positive, neutral, or negative. \n",
    "\n",
    "Typical threshold values are:\n",
    "\n",
    "1. **Positive Sentiment**: compound score $\\geq 0.05$\n",
    " \n",
    "2. **Neutral  Sentiment**: $-0.05 <$ compound score $< 0.05$\n",
    " \n",
    "3. **Negative Sentiment**: compound score $\\leq -0.05$"
   ]
  },
  {
   "cell_type": "code",
   "execution_count": 38,
   "id": "6a4f20a8-96bc-4009-8424-d427e2b16755",
   "metadata": {},
   "outputs": [],
   "source": [
    "# Re-assign sentiment as the compound score\n",
    "df[\"sentiment\"] = df[\"sentiment\"].apply(lambda x: x[\"compound\"])"
   ]
  },
  {
   "cell_type": "markdown",
   "id": "574114c9-7261-4b7e-8494-8f7e962ac6c2",
   "metadata": {},
   "source": [
    "Let's get a sense of the distribution of scores by calculating some summary statistics and plotting a histogram:"
   ]
  },
  {
   "cell_type": "code",
   "execution_count": 39,
   "id": "dd45dbca-af6f-41fa-a70d-abd008b4ebbb",
   "metadata": {},
   "outputs": [
    {
     "data": {
      "text/plain": [
       "count    1803.000000\n",
       "mean        0.053598\n",
       "std         0.476783\n",
       "min        -0.984300\n",
       "25%        -0.296000\n",
       "50%         0.000000\n",
       "75%         0.458800\n",
       "max         0.980100\n",
       "Name: sentiment, dtype: float64"
      ]
     },
     "execution_count": 39,
     "metadata": {},
     "output_type": "execute_result"
    }
   ],
   "source": [
    "# Summary statistics\n",
    "df.sentiment.describe()"
   ]
  },
  {
   "cell_type": "code",
   "execution_count": 40,
   "id": "debbce8d-5e49-4b11-add9-0532b8cb2ee0",
   "metadata": {},
   "outputs": [
    {
     "data": {
      "text/plain": [
       "(-1.0, 1.0)"
      ]
     },
     "execution_count": 40,
     "metadata": {},
     "output_type": "execute_result"
    },
    {
     "data": {
      "image/png": "[encoded data removed]",
      "text/plain": [
       "<Figure size 900x700 with 1 Axes>"
      ]
     },
     "metadata": {},
     "output_type": "display_data"
    }
   ],
   "source": [
    "bins = np.linspace(-1, 1, 17)\n",
    "df.sentiment.hist(bins=bins, figsize= (9, 7))\n",
    "plt.xlabel(\"Sentiment Score\")\n",
    "plt.ylabel(\"Frequency\")\n",
    "plt.xlim([-1.0, 1.0])"
   ]
  },
  {
   "cell_type": "markdown",
   "id": "65a407db-1bbf-4ae4-ad07-7a10bdaf2ae9",
   "metadata": {},
   "source": [
    "## 🥊 Challenge: Additional Data Analysis\n",
    "\n",
    "- What are the 3 most positive and negative texts?\n",
    "- Using the VADER thresholds for positive, neutral, and negative, how many articles qualify for each of those labels?"
   ]
  },
  {
   "cell_type": "code",
   "execution_count": 48,
   "id": "e7a2ebef-41a7-4cc1-a553-a4fc33a3cc57",
   "metadata": {},
   "outputs": [
    {
     "data": {
      "text/html": [
       "<div>\n",
       "<style scoped>\n",
       "    .dataframe tbody tr th:only-of-type {\n",
       "        vertical-align: middle;\n",
       "    }\n",
       "\n",
       "    .dataframe tbody tr th {\n",
       "        vertical-align: top;\n",
       "    }\n",
       "\n",
       "    .dataframe thead th {\n",
       "        text-align: right;\n",
       "    }\n",
       "</style>\n",
       "<table border=\"1\" class=\"dataframe\">\n",
       "  <thead>\n",
       "    <tr style=\"text-align: right;\">\n",
       "      <th></th>\n",
       "      <th>abstract</th>\n",
       "      <th>web_url</th>\n",
       "      <th>snippet</th>\n",
       "      <th>lead_paragraph</th>\n",
       "      <th>print_section</th>\n",
       "      <th>print_page</th>\n",
       "      <th>source</th>\n",
       "      <th>keywords</th>\n",
       "      <th>pub_date</th>\n",
       "      <th>document_type</th>\n",
       "      <th>...</th>\n",
       "      <th>headline.kicker</th>\n",
       "      <th>headline.content_kicker</th>\n",
       "      <th>headline.print_headline</th>\n",
       "      <th>headline.name</th>\n",
       "      <th>headline.seo</th>\n",
       "      <th>headline.sub</th>\n",
       "      <th>byline.original</th>\n",
       "      <th>byline.person</th>\n",
       "      <th>byline.organization</th>\n",
       "      <th>sentiment</th>\n",
       "    </tr>\n",
       "  </thead>\n",
       "  <tbody>\n",
       "    <tr>\n",
       "      <th>132</th>\n",
       "      <td>Why do a vast majority of Black Americans, des...</td>\n",
       "      <td>https://www.nytimes.com/2020/09/16/magazine/bl...</td>\n",
       "      <td>Why do a vast majority of Black Americans, des...</td>\n",
       "      <td>In the autumn of 2008, just a few weeks after ...</td>\n",
       "      <td>MM</td>\n",
       "      <td>28</td>\n",
       "      <td>The New York Times</td>\n",
       "      <td>[{'name': 'subject', 'value': 'Black People', ...</td>\n",
       "      <td>2020-09-16 09:00:23+00:00</td>\n",
       "      <td>article</td>\n",
       "      <td>...</td>\n",
       "      <td>None</td>\n",
       "      <td>None</td>\n",
       "      <td>How the Black Vote Became a Monolith</td>\n",
       "      <td>None</td>\n",
       "      <td>None</td>\n",
       "      <td>None</td>\n",
       "      <td>By Theodore R. Johnson and posters by Kennedy ...</td>\n",
       "      <td>[{'firstname': 'Theodore', 'middlename': 'R.',...</td>\n",
       "      <td>None</td>\n",
       "      <td>0.9801</td>\n",
       "    </tr>\n",
       "    <tr>\n",
       "      <th>619</th>\n",
       "      <td>An educated citizenry is vital for the Republi...</td>\n",
       "      <td>https://www.nytimes.com/2020/10/03/at-home/pod...</td>\n",
       "      <td>An educated citizenry is vital for the Republi...</td>\n",
       "      <td>The same year George Washington took the oath ...</td>\n",
       "      <td>D</td>\n",
       "      <td>7</td>\n",
       "      <td>The New York Times</td>\n",
       "      <td>[{'name': 'subject', 'value': 'Absentee Voting...</td>\n",
       "      <td>2020-10-04 02:22:07+00:00</td>\n",
       "      <td>article</td>\n",
       "      <td>...</td>\n",
       "      <td>None</td>\n",
       "      <td>None</td>\n",
       "      <td>Learn Civics By Ear</td>\n",
       "      <td>None</td>\n",
       "      <td>None</td>\n",
       "      <td>None</td>\n",
       "      <td>By Phoebe Lett</td>\n",
       "      <td>[{'firstname': 'Phoebe', 'middlename': None, '...</td>\n",
       "      <td>None</td>\n",
       "      <td>0.9450</td>\n",
       "    </tr>\n",
       "    <tr>\n",
       "      <th>1614</th>\n",
       "      <td>Prime Minister Abiy Ahmed, winner of the Nobel...</td>\n",
       "      <td>https://www.nytimes.com/2020/11/04/world/afric...</td>\n",
       "      <td>Prime Minister Abiy Ahmed, winner of the Nobel...</td>\n",
       "      <td>NAIROBI, Kenya — Barely a year ago Prime Minis...</td>\n",
       "      <td>A</td>\n",
       "      <td>10</td>\n",
       "      <td>The New York Times</td>\n",
       "      <td>[{'name': 'glocations', 'value': 'Ethiopia', '...</td>\n",
       "      <td>2020-11-04 08:19:39+00:00</td>\n",
       "      <td>article</td>\n",
       "      <td>...</td>\n",
       "      <td>None</td>\n",
       "      <td>None</td>\n",
       "      <td>Ethiopia Prime Minister  Starts Military Opera...</td>\n",
       "      <td>None</td>\n",
       "      <td>None</td>\n",
       "      <td>None</td>\n",
       "      <td>By Declan Walsh and Simon Marks</td>\n",
       "      <td>[{'firstname': 'Declan', 'middlename': None, '...</td>\n",
       "      <td>None</td>\n",
       "      <td>0.9403</td>\n",
       "    </tr>\n",
       "  </tbody>\n",
       "</table>\n",
       "<p>3 rows × 28 columns</p>\n",
       "</div>"
      ],
      "text/plain": [
       "                                               abstract   \n",
       "132   Why do a vast majority of Black Americans, des...  \\\n",
       "619   An educated citizenry is vital for the Republi...   \n",
       "1614  Prime Minister Abiy Ahmed, winner of the Nobel...   \n",
       "\n",
       "                                                web_url   \n",
       "132   https://www.nytimes.com/2020/09/16/magazine/bl...  \\\n",
       "619   https://www.nytimes.com/2020/10/03/at-home/pod...   \n",
       "1614  https://www.nytimes.com/2020/11/04/world/afric...   \n",
       "\n",
       "                                                snippet   \n",
       "132   Why do a vast majority of Black Americans, des...  \\\n",
       "619   An educated citizenry is vital for the Republi...   \n",
       "1614  Prime Minister Abiy Ahmed, winner of the Nobel...   \n",
       "\n",
       "                                         lead_paragraph print_section   \n",
       "132   In the autumn of 2008, just a few weeks after ...            MM  \\\n",
       "619   The same year George Washington took the oath ...             D   \n",
       "1614  NAIROBI, Kenya — Barely a year ago Prime Minis...             A   \n",
       "\n",
       "     print_page              source   \n",
       "132          28  The New York Times  \\\n",
       "619           7  The New York Times   \n",
       "1614         10  The New York Times   \n",
       "\n",
       "                                               keywords   \n",
       "132   [{'name': 'subject', 'value': 'Black People', ...  \\\n",
       "619   [{'name': 'subject', 'value': 'Absentee Voting...   \n",
       "1614  [{'name': 'glocations', 'value': 'Ethiopia', '...   \n",
       "\n",
       "                      pub_date document_type  ... headline.kicker   \n",
       "132  2020-09-16 09:00:23+00:00       article  ...            None  \\\n",
       "619  2020-10-04 02:22:07+00:00       article  ...            None   \n",
       "1614 2020-11-04 08:19:39+00:00       article  ...            None   \n",
       "\n",
       "     headline.content_kicker   \n",
       "132                     None  \\\n",
       "619                     None   \n",
       "1614                    None   \n",
       "\n",
       "                                headline.print_headline headline.name   \n",
       "132                How the Black Vote Became a Monolith          None  \\\n",
       "619                                 Learn Civics By Ear          None   \n",
       "1614  Ethiopia Prime Minister  Starts Military Opera...          None   \n",
       "\n",
       "     headline.seo  headline.sub   \n",
       "132          None          None  \\\n",
       "619          None          None   \n",
       "1614         None          None   \n",
       "\n",
       "                                        byline.original   \n",
       "132   By Theodore R. Johnson and posters by Kennedy ...  \\\n",
       "619                                      By Phoebe Lett   \n",
       "1614                    By Declan Walsh and Simon Marks   \n",
       "\n",
       "                                          byline.person byline.organization   \n",
       "132   [{'firstname': 'Theodore', 'middlename': 'R.',...                None  \\\n",
       "619   [{'firstname': 'Phoebe', 'middlename': None, '...                None   \n",
       "1614  [{'firstname': 'Declan', 'middlename': None, '...                None   \n",
       "\n",
       "     sentiment  \n",
       "132     0.9801  \n",
       "619     0.9450  \n",
       "1614    0.9403  \n",
       "\n",
       "[3 rows x 28 columns]"
      ]
     },
     "metadata": {},
     "output_type": "display_data"
    },
    {
     "data": {
      "text/html": [
       "<div>\n",
       "<style scoped>\n",
       "    .dataframe tbody tr th:only-of-type {\n",
       "        vertical-align: middle;\n",
       "    }\n",
       "\n",
       "    .dataframe tbody tr th {\n",
       "        vertical-align: top;\n",
       "    }\n",
       "\n",
       "    .dataframe thead th {\n",
       "        text-align: right;\n",
       "    }\n",
       "</style>\n",
       "<table border=\"1\" class=\"dataframe\">\n",
       "  <thead>\n",
       "    <tr style=\"text-align: right;\">\n",
       "      <th></th>\n",
       "      <th>abstract</th>\n",
       "      <th>web_url</th>\n",
       "      <th>snippet</th>\n",
       "      <th>lead_paragraph</th>\n",
       "      <th>print_section</th>\n",
       "      <th>print_page</th>\n",
       "      <th>source</th>\n",
       "      <th>keywords</th>\n",
       "      <th>pub_date</th>\n",
       "      <th>document_type</th>\n",
       "      <th>...</th>\n",
       "      <th>headline.kicker</th>\n",
       "      <th>headline.content_kicker</th>\n",
       "      <th>headline.print_headline</th>\n",
       "      <th>headline.name</th>\n",
       "      <th>headline.seo</th>\n",
       "      <th>headline.sub</th>\n",
       "      <th>byline.original</th>\n",
       "      <th>byline.person</th>\n",
       "      <th>byline.organization</th>\n",
       "      <th>sentiment</th>\n",
       "    </tr>\n",
       "  </thead>\n",
       "  <tbody>\n",
       "    <tr>\n",
       "      <th>1328</th>\n",
       "      <td>The shooting and its aftermath were guaranteed...</td>\n",
       "      <td>https://www.nytimes.com/2020/10/28/us/philadel...</td>\n",
       "      <td>The shooting and its aftermath were guaranteed...</td>\n",
       "      <td>PHILADELPHIA — There is a grim familiarity to ...</td>\n",
       "      <td>A</td>\n",
       "      <td>1</td>\n",
       "      <td>The New York Times</td>\n",
       "      <td>[{'name': 'subject', 'value': 'Police Brutalit...</td>\n",
       "      <td>2020-10-28 22:53:10+00:00</td>\n",
       "      <td>article</td>\n",
       "      <td>...</td>\n",
       "      <td>None</td>\n",
       "      <td>None</td>\n",
       "      <td>Philadelphia in Election’s Glare, and Now a Ki...</td>\n",
       "      <td>None</td>\n",
       "      <td>None</td>\n",
       "      <td>None</td>\n",
       "      <td>By Jon Hurdle, Campbell Robertson and Richard ...</td>\n",
       "      <td>[{'firstname': 'Jon', 'middlename': None, 'las...</td>\n",
       "      <td>None</td>\n",
       "      <td>-0.9545</td>\n",
       "    </tr>\n",
       "    <tr>\n",
       "      <th>1591</th>\n",
       "      <td>There were glitches and partisan skirmishes as...</td>\n",
       "      <td>https://www.nytimes.com/2020/11/03/us/politics...</td>\n",
       "      <td>There were glitches and partisan skirmishes as...</td>\n",
       "      <td>The worst fears about a chaotic end to a chaot...</td>\n",
       "      <td>A</td>\n",
       "      <td>1</td>\n",
       "      <td>The New York Times</td>\n",
       "      <td>[{'name': 'subject', 'value': 'Presidential El...</td>\n",
       "      <td>2020-11-04 00:54:02+00:00</td>\n",
       "      <td>article</td>\n",
       "      <td>...</td>\n",
       "      <td>None</td>\n",
       "      <td>None</td>\n",
       "      <td>Final Rush to the Ballot Box Is Smoother Than ...</td>\n",
       "      <td>None</td>\n",
       "      <td>None</td>\n",
       "      <td>None</td>\n",
       "      <td>By Nick Corasaniti, Jim Rutenberg and Stephani...</td>\n",
       "      <td>[{'firstname': 'Nick', 'middlename': None, 'la...</td>\n",
       "      <td>None</td>\n",
       "      <td>-0.9657</td>\n",
       "    </tr>\n",
       "    <tr>\n",
       "      <th>506</th>\n",
       "      <td>The president is harnessing the power of the g...</td>\n",
       "      <td>https://www.nytimes.com/2020/09/30/magazine/tr...</td>\n",
       "      <td>The president is harnessing the power of the g...</td>\n",
       "      <td>On an October morning four years ago, eight yo...</td>\n",
       "      <td>MM</td>\n",
       "      <td>28</td>\n",
       "      <td>The New York Times</td>\n",
       "      <td>[{'name': 'subject', 'value': 'Presidential El...</td>\n",
       "      <td>2020-09-30 17:14:09+00:00</td>\n",
       "      <td>article</td>\n",
       "      <td>...</td>\n",
       "      <td>None</td>\n",
       "      <td>None</td>\n",
       "      <td>The Attack on Voting</td>\n",
       "      <td>None</td>\n",
       "      <td>None</td>\n",
       "      <td>None</td>\n",
       "      <td>By Jim Rutenberg</td>\n",
       "      <td>[{'firstname': 'Jim', 'middlename': None, 'las...</td>\n",
       "      <td>None</td>\n",
       "      <td>-0.9843</td>\n",
       "    </tr>\n",
       "  </tbody>\n",
       "</table>\n",
       "<p>3 rows × 28 columns</p>\n",
       "</div>"
      ],
      "text/plain": [
       "                                               abstract   \n",
       "1328  The shooting and its aftermath were guaranteed...  \\\n",
       "1591  There were glitches and partisan skirmishes as...   \n",
       "506   The president is harnessing the power of the g...   \n",
       "\n",
       "                                                web_url   \n",
       "1328  https://www.nytimes.com/2020/10/28/us/philadel...  \\\n",
       "1591  https://www.nytimes.com/2020/11/03/us/politics...   \n",
       "506   https://www.nytimes.com/2020/09/30/magazine/tr...   \n",
       "\n",
       "                                                snippet   \n",
       "1328  The shooting and its aftermath were guaranteed...  \\\n",
       "1591  There were glitches and partisan skirmishes as...   \n",
       "506   The president is harnessing the power of the g...   \n",
       "\n",
       "                                         lead_paragraph print_section   \n",
       "1328  PHILADELPHIA — There is a grim familiarity to ...             A  \\\n",
       "1591  The worst fears about a chaotic end to a chaot...             A   \n",
       "506   On an October morning four years ago, eight yo...            MM   \n",
       "\n",
       "     print_page              source   \n",
       "1328          1  The New York Times  \\\n",
       "1591          1  The New York Times   \n",
       "506          28  The New York Times   \n",
       "\n",
       "                                               keywords   \n",
       "1328  [{'name': 'subject', 'value': 'Police Brutalit...  \\\n",
       "1591  [{'name': 'subject', 'value': 'Presidential El...   \n",
       "506   [{'name': 'subject', 'value': 'Presidential El...   \n",
       "\n",
       "                      pub_date document_type  ... headline.kicker   \n",
       "1328 2020-10-28 22:53:10+00:00       article  ...            None  \\\n",
       "1591 2020-11-04 00:54:02+00:00       article  ...            None   \n",
       "506  2020-09-30 17:14:09+00:00       article  ...            None   \n",
       "\n",
       "     headline.content_kicker   \n",
       "1328                    None  \\\n",
       "1591                    None   \n",
       "506                     None   \n",
       "\n",
       "                                headline.print_headline headline.name   \n",
       "1328  Philadelphia in Election’s Glare, and Now a Ki...          None  \\\n",
       "1591  Final Rush to the Ballot Box Is Smoother Than ...          None   \n",
       "506                                The Attack on Voting          None   \n",
       "\n",
       "     headline.seo  headline.sub   \n",
       "1328         None          None  \\\n",
       "1591         None          None   \n",
       "506          None          None   \n",
       "\n",
       "                                        byline.original   \n",
       "1328  By Jon Hurdle, Campbell Robertson and Richard ...  \\\n",
       "1591  By Nick Corasaniti, Jim Rutenberg and Stephani...   \n",
       "506                                    By Jim Rutenberg   \n",
       "\n",
       "                                          byline.person byline.organization   \n",
       "1328  [{'firstname': 'Jon', 'middlename': None, 'las...                None  \\\n",
       "1591  [{'firstname': 'Nick', 'middlename': None, 'la...                None   \n",
       "506   [{'firstname': 'Jim', 'middlename': None, 'las...                None   \n",
       "\n",
       "     sentiment  \n",
       "1328   -0.9545  \n",
       "1591   -0.9657  \n",
       "506    -0.9843  \n",
       "\n",
       "[3 rows x 28 columns]"
      ]
     },
     "metadata": {},
     "output_type": "display_data"
    }
   ],
   "source": [
    "# YOUR CODE HERE\n",
    "df = df.sort_values(by = ['sentiment'], ascending = 0)\n",
    "display(df.head(3)) \n",
    "display(df.tail(3)) "
   ]
  },
  {
   "cell_type": "markdown",
   "id": "0fc1297f-70a1-48cf-bdac-5e251ee697c2",
   "metadata": {},
   "source": [
    "## Sentiment Over the Course of the Campaign"
   ]
  },
  {
   "cell_type": "markdown",
   "id": "db927bc2-514b-4990-8b06-94e9a8650fd7",
   "metadata": {},
   "source": [
    "Let's examine how the compound score evolved over the course of the campaign. Do you have expectations on how this quantity might behave as the election nears? \n",
    "\n",
    "First, let's create a new `pandas` series which tracks the sentiment over time:"
   ]
  },
  {
   "cell_type": "code",
   "execution_count": 49,
   "id": "cdbdbe85-27c1-40a2-9693-48955352623d",
   "metadata": {},
   "outputs": [],
   "source": [
    "# Create a time series with publication date as the index and sentiment score as the value\n",
    "sentiment_ts = pd.Series(index= df.pub_date.tolist(),\n",
    "                         data = df.sentiment.tolist())"
   ]
  },
  {
   "cell_type": "markdown",
   "id": "f25e495e-dc35-447c-b903-d1b4dfde1288",
   "metadata": {},
   "source": [
    "Next, we'll calculate daily and weekly averages:"
   ]
  },
  {
   "cell_type": "code",
   "execution_count": 50,
   "id": "8d6f9cb9-6c8d-4c6e-9596-2e7e0e2313ce",
   "metadata": {},
   "outputs": [],
   "source": [
    "# Resample the data with daily averages and weekly averages\n",
    "daily = sentiment_ts.resample(\"d\").mean()\n",
    "weekly = sentiment_ts.resample(\"w\").mean()"
   ]
  },
  {
   "cell_type": "markdown",
   "id": "568bd7c7-1bf1-4c43-9f2b-294f7943cfb9",
   "metadata": {},
   "source": [
    "🔔 **Question**: We can plot the results below. Do you notice any patterns?"
   ]
  },
  {
   "cell_type": "code",
   "execution_count": 51,
   "id": "8d4394c7-ea1d-4583-8a59-8284022ad2fb",
   "metadata": {},
   "outputs": [
    {
     "data": {
      "image/png": "[encoded data removed]",
      "text/plain": [
       "<Figure size 1100x700 with 1 Axes>"
      ]
     },
     "metadata": {},
     "output_type": "display_data"
    }
   ],
   "source": [
    "# Daily average sentiment of articles.\n",
    "daily.plot(figsize = (11, 7))\n",
    "plt.xlabel(\"Dates\")\n",
    "plt.ylabel(\"Sentiment Score\")"
   ]
  },
  {
   "cell_type": "code",
   "execution_count": 52,
   "id": "c7a741f8-d9a9-47a5-bbef-9c1e629b530f",
   "metadata": {},
   "outputs": [
    {
     "data": {
      "image/png": "[encoded data removed]",
      "text/plain": [
       "<Figure size 1100x700 with 1 Axes>"
      ]
     },
     "metadata": {},
     "output_type": "display_data"
    }
   ],
   "source": [
    "# Weekly average sentiment of articles.\n",
    "weekly.plot(figsize = (11, 7))\n",
    "plt.xlabel(\"Dates\")\n",
    "plt.ylabel(\"Sentiment Score\");"
   ]
  },
  {
   "cell_type": "markdown",
   "id": "e1da9002-dfeb-4c44-bc7b-c358221ba931",
   "metadata": {},
   "source": [
    "# 🎬 Demo: Handling Nested Arrays of Keywords"
   ]
  },
  {
   "cell_type": "markdown",
   "id": "e66e600e-927b-41c4-a39a-1cd7decb8df0",
   "metadata": {},
   "source": [
    "The Times has done us a favor in providing the named entities in the articles, thus relieving us of having to do the tagging ourselves. However, the data structure that it comes in can be tricky to handle. Here, we provide a short tutorial showing one way to cleanly extract keyword data."
   ]
  },
  {
   "cell_type": "code",
   "execution_count": 53,
   "id": "3c743c86-6522-41fa-a4ca-50109b9c1b98",
   "metadata": {},
   "outputs": [
    {
     "data": {
      "text/plain": [
       "[{'name': 'subject', 'value': 'Absentee Voting', 'rank': 1, 'major': 'N'},\n",
       " {'name': 'subject',\n",
       "  'value': 'Presidential Election of 2020',\n",
       "  'rank': 2,\n",
       "  'major': 'N'},\n",
       " {'name': 'subject',\n",
       "  'value': 'United States Politics and Government',\n",
       "  'rank': 3,\n",
       "  'major': 'N'},\n",
       " {'name': 'subject',\n",
       "  'value': 'Polls and Public Opinion',\n",
       "  'rank': 4,\n",
       "  'major': 'N'},\n",
       " {'name': 'subject', 'value': 'Podcasts', 'rank': 5, 'major': 'N'},\n",
       " {'name': 'organizations',\n",
       "  'value': 'iHeartMedia Inc',\n",
       "  'rank': 6,\n",
       "  'major': 'N'},\n",
       " {'name': 'organizations',\n",
       "  'value': 'New Hampshire Public Radio',\n",
       "  'rank': 7,\n",
       "  'major': 'N'},\n",
       " {'name': 'persons',\n",
       "  'value': 'Andres, Jose (1969- )',\n",
       "  'rank': 8,\n",
       "  'major': 'N'},\n",
       " {'name': 'persons', 'value': 'Thurston, Baratunde', 'rank': 9, 'major': 'N'},\n",
       " {'name': 'subject',\n",
       "  'value': 'Civil Rights and Liberties',\n",
       "  'rank': 10,\n",
       "  'major': 'N'},\n",
       " {'name': 'subject',\n",
       "  'value': 'Quarantine (Life and Culture)',\n",
       "  'rank': 11,\n",
       "  'major': 'N'},\n",
       " {'name': 'glocations', 'value': 'United States', 'rank': 12, 'major': 'N'}]"
      ]
     },
     "execution_count": 53,
     "metadata": {},
     "output_type": "execute_result"
    }
   ],
   "source": [
    "# Refer to a sample article's set of keywords\n",
    "df.keywords.iloc[1]"
   ]
  },
  {
   "cell_type": "markdown",
   "id": "ada82a2d-ab47-40e5-9425-d86342a5df10",
   "metadata": {},
   "source": [
    "We see a number of things here:\n",
    "- Each article's keywords are laid out in a list of dictionaries.\n",
    "- A dictionary tell us the name, type, ranking, and major of the keyword.\n",
    "- The five types of keywords are: `subject`, `persons`, `glocations`, `organizations`, and `creative_works`.\n",
    "- The ordering of the list corresponds to the ranking.\n",
    "- All articles do not all have the same number of rankings."
   ]
  },
  {
   "cell_type": "markdown",
   "id": "4f8534e5-9097-427d-ba9b-1e04ce668064",
   "metadata": {},
   "source": [
    "We've created a function to extract keyword data based on the ranking. This function will be applied over the pandas series of keyword data."
   ]
  },
  {
   "cell_type": "code",
   "execution_count": null,
   "id": "04b1fede-fd8c-432c-b1e1-2a805a1e9b87",
   "metadata": {},
   "outputs": [],
   "source": [
    "def rank_extractor(data, rank):\n",
    "    \"\"\"Extracts keyword data based on ranking.\n",
    "\n",
    "    Parameters\n",
    "    ----------\n",
    "    data : pd.DataFrame\n",
    "        The dataframe containing the keywords.\n",
    "    rank : int\n",
    "        The rank of the keywords to extract.\n",
    "\n",
    "    Returns\n",
    "    -------\n",
    "    keyword : dict\n",
    "        A dictionary containing the name and value of the keyword.\n",
    "    \"\"\"\n",
    "    # If empty, return None\n",
    "    if data == []:\n",
    "        return None\n",
    "    # Iterate over the list of keywords until you reach the keyword corresponding with the ranking\n",
    "    for keyword in data:\n",
    "        if keyword[\"rank\"] == rank:\n",
    "            return {\"name\": keyword[\"name\"], \"value\": keyword[\"value\"]}"
   ]
  },
  {
   "cell_type": "code",
   "execution_count": null,
   "id": "d701072e-8d36-4cab-9ee5-f58e8aed62b6",
   "metadata": {},
   "outputs": [],
   "source": [
    "# Extract the first, second, and third keywords\n",
    "rank1 = df.keywords.apply(lambda x: rank_extractor(x, 1))\n",
    "rank2 = df.keywords.apply(lambda x: rank_extractor(x, 2))\n",
    "rank3 = df.keywords.apply(lambda x: rank_extractor(x, 3))"
   ]
  },
  {
   "cell_type": "code",
   "execution_count": null,
   "id": "e3f18704-1d57-4c70-9170-04f644b915dc",
   "metadata": {},
   "outputs": [],
   "source": [
    "# View results\n",
    "rank1.head()"
   ]
  },
  {
   "cell_type": "markdown",
   "id": "b7ec099e-b5d5-4e2c-b617-78043b28be1e",
   "metadata": {},
   "source": [
    "Let's convert these dictionaries into `pandas` Series:"
   ]
  },
  {
   "cell_type": "code",
   "execution_count": null,
   "id": "762ed380-57f2-4dec-8f31-210567a5057b",
   "metadata": {},
   "outputs": [],
   "source": [
    "rank1 = rank1.apply(pd.Series)\n",
    "rank2 = rank2.apply(pd.Series)\n",
    "rank3 = rank3.apply(pd.Series)\n",
    "rank1.head()"
   ]
  },
  {
   "cell_type": "markdown",
   "id": "49e9b4ab-7113-4321-8e3e-82b86effeb6c",
   "metadata": {},
   "source": [
    "Voila! A nice clean format. Now can we conduct some light analysis:"
   ]
  },
  {
   "cell_type": "code",
   "execution_count": null,
   "id": "311b066f-ce49-4aa4-889c-d79c919a3811",
   "metadata": {},
   "outputs": [],
   "source": [
    "# Most frequent type of keyword in ranking #1\n",
    "rank1.name.value_counts()"
   ]
  },
  {
   "cell_type": "code",
   "execution_count": null,
   "id": "131a13f9-d941-4787-aa24-2caa650eae96",
   "metadata": {},
   "outputs": [],
   "source": [
    "# The most common keywords in ranking #1:\n",
    "rank1.value.value_counts()"
   ]
  }
 ],
 "metadata": {
  "kernelspec": {
   "display_name": "Python 3.11.0 64-bit",
   "language": "python",
   "name": "python3"
  },
  "language_info": {
   "codemirror_mode": {
    "name": "ipython",
    "version": 3
   },
   "file_extension": ".py",
   "mimetype": "text/x-python",
   "name": "python",
   "nbconvert_exporter": "python",
   "pygments_lexer": "ipython3",
   "version": "3.8.0"
  },
  "vscode": {
   "interpreter": {
    "hash": "aee8b7b246df8f9039afb4144a1f6fd8d2ca17a180786b69acc140d282b71a49"
   }
  }
 },
 "nbformat": 4,
 "nbformat_minor": 5
}
