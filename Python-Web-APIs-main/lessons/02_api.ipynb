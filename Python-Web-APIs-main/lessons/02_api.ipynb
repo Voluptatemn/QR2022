{
 "cells": [
  {
   "cell_type": "markdown",
   "id": "6caa532f-d502-4576-9ee6-5ad88ca0c550",
   "metadata": {},
   "source": [
    "# Accessing Data via Web APIs\n",
    "\n",
    "* * * \n",
    "\n",
    "### Icons used in this notebook\n",
    "🔔 **Question**: A quick question to help you understand what's going on.<br>\n",
    "🥊 **Challenge**: Interactive excercise. We'll work through these in the workshop!<br>\n",
    "⚠️ **Warning**: Heads-up about tricky stuff or common mistakes.<br>\n",
    "💡 **Tip**: How to do something a bit more efficiently or effectively.<br>\n",
    "🎬 **Demo**: Showing off something more advanced – so you know what Python can be used for!<br>\n",
    "\n",
    "### Learning Objectives\n",
    "1. [The New York Times API](#nyt)\n",
    "2. [Top stories API](#top)\n",
    "3. [Most Viewed and Most Shared APIs](#most)\n",
    "4. [Article Search API](#search)\n",
    "5. [Data Analysis](#analysis)\n",
    "6. [Demo: Handling Nested Arrays of Keywords](#demo)"
   ]
  },
  {
   "cell_type": "code",
   "execution_count": 18,
   "id": "b0379359-694d-491c-ba18-fa80ea3c65bc",
   "metadata": {},
   "outputs": [],
   "source": [
    "# Import required libraries\n",
    "import matplotlib.pyplot as plt\n",
    "import numpy as np\n",
    "import pandas as pd\n",
    "from datetime import datetime"
   ]
  },
  {
   "cell_type": "markdown",
   "id": "8d2eeb34-dab0-464c-8fca-568624fe2cbb",
   "metadata": {},
   "source": [
    "<a id='nyt'></a>\n",
    "\n",
    "# The New York Times API\n",
    "\n",
    "We are going to use the NYT API to demonstrate how Web APIs can be used to access useful information in an easy way. Before proceeding with this lesson, you should have already set up an API key in `01_api_lesson.md`. Copy that API key now."
   ]
  },
  {
   "cell_type": "markdown",
   "id": "a639eb32-15e0-48fc-9cb5-3bd804fae0f9",
   "metadata": {},
   "source": [
    "## Establishing the Connection"
   ]
  },
  {
   "cell_type": "markdown",
   "id": "da084101-19bc-46c1-9722-317d0514da5e",
   "metadata": {},
   "source": [
    "Put the API Key you just created in the `api_key` variable in the cell below:"
   ]
  },
  {
   "cell_type": "code",
   "execution_count": 1,
   "id": "5fbdc8b6-a91d-4f07-a98c-2ba3e8b01726",
   "metadata": {},
   "outputs": [],
   "source": [
    "# Put your API key here\n",
    "api_key = \"fVZ7NhY817464fBxgpAJEx6tb2xKULdr\""
   ]
  },
  {
   "cell_type": "markdown",
   "id": "c8f60b12-cced-49b4-9627-2782a75a8429",
   "metadata": {},
   "source": [
    "You can save your API Key locally so that you don't always have to copy it. Just be sure not to put this file on Github, or else your API key may be compromised!"
   ]
  },
  {
   "cell_type": "code",
   "execution_count": 2,
   "id": "a62d2d57",
   "metadata": {},
   "outputs": [],
   "source": [
    "# Save your key locally\n",
    "with open(\"nyt_api_key.txt\", \"w\") as f:\n",
    "    f.write(api_key)"
   ]
  },
  {
   "cell_type": "code",
   "execution_count": 3,
   "id": "a07ed22e-948c-4b21-990e-50c1a8e8238c",
   "metadata": {},
   "outputs": [],
   "source": [
    "# Read your key locally\n",
    "with open(\"nyt_api_key.txt\", \"r\") as f:\n",
    "    api_key = f.read()"
   ]
  },
  {
   "cell_type": "markdown",
   "id": "582ed0ad-ccad-4294-a50f-e1d4843217c6",
   "metadata": {},
   "source": [
    "To access the NYTimes' databases, we'll be using a third-party library called [pynytimes](https://github.com/michadenheijer/pynytimes). This package provides an easy to use tool for accessing the wealth of data hosted by the Times.\n",
    "\n",
    "To install the library, follow the instructions taken from their [Github repo](https://github.com/michadenheijer/pynytimes)."
   ]
  },
  {
   "cell_type": "markdown",
   "id": "5f5b395a-443f-4e40-91f7-8fcb5c33bbbe",
   "metadata": {},
   "source": [
    "## Installation\n",
    "\n",
    "There are multiple options to install `pynytimes`, but the easiest is by just installing it using `pip` in the Jupyter notebook itself, using a magic command:"
   ]
  },
  {
   "cell_type": "code",
   "execution_count": 4,
   "id": "d1d80b96-2285-43ab-bbd6-090fd4a9c2d7",
   "metadata": {},
   "outputs": [],
   "source": [
    "#%pip install pynytimes"
   ]
  },
  {
   "cell_type": "markdown",
   "id": "254a91bf-8626-46f8-acfc-163da0b862f2",
   "metadata": {},
   "source": [
    "You can also install it via the command line or Anaconda Navigator - whichever you're more comfortable with."
   ]
  },
  {
   "cell_type": "markdown",
   "id": "dc6d8416-3a3b-4641-954e-85519ca613ad",
   "metadata": {},
   "source": [
    "Once the package installed, let's go ahead import the library and initialize a connection to their servers using our api keys."
   ]
  },
  {
   "cell_type": "code",
   "execution_count": 5,
   "id": "dce57534-fe5d-45a4-bb97-f2df8dc3d9d6",
   "metadata": {},
   "outputs": [],
   "source": [
    "# Import the NYTAPI object which we'll use to access the API\n",
    "from pynytimes import NYTAPI"
   ]
  },
  {
   "cell_type": "code",
   "execution_count": 6,
   "id": "018a6dfa-9343-42b1-9014-165ae7507b0c",
   "metadata": {},
   "outputs": [],
   "source": [
    "# Intialize the NYT API class into an object using your API key\n",
    "nyt = NYTAPI(api_key, parse_dates=True)"
   ]
  },
  {
   "cell_type": "markdown",
   "id": "e13137c6-c776-4da0-b1a2-195726244be5",
   "metadata": {},
   "source": [
    "Ta-da! We are now ready to make some API calls!"
   ]
  },
  {
   "cell_type": "markdown",
   "id": "2a4a288c-8d6d-4774-bc84-822c9fedfaf0",
   "metadata": {},
   "source": [
    "## Making API Calls\n",
    "\n",
    " Now that we've established a connection to New York Times' rich database, let's go over what kind of data and privileges we have access to."
   ]
  },
  {
   "cell_type": "markdown",
   "id": "deedf92b-e0bb-4d6a-996c-3c3b4078a7cf",
   "metadata": {},
   "source": [
    "### APIs\n",
    "\n",
    "[Here is the collection of the APIs the NYT gives us:](https://developer.nytimes.com/apis)\n",
    "\n",
    "- [Top stories](https://developer.nytimes.com/docs/top-stories-product/1/overview): Returns an array of articles currently on the specified section \n",
    "- [Most viewed/shared articles](https://developer.nytimes.com/docs/most-popular-product/1/overview): Provides services for getting the most popular articles on NYTimes.com based on emails, shares, or views.\n",
    "- [Article search](https://developer.nytimes.com/docs/articlesearch-product/1/overview): Look up articles by keyword. You can refine your search using filters and facets.\n",
    "- [Books](https://developer.nytimes.com/docs/books-product/1/overview): Provides information about book reviews and The New York Times Best Sellers lists.\n",
    "- [Movie reviews](https://developer.nytimes.com/docs/movie-reviews-api/1/overview): Search movie reviews by keyword and opening date and filter by Critics' Picks.\n",
    "- [Times Wire](https://developer.nytimes.com/docs/timeswire-product/1/overview): Get links and metadata for Times' articles as soon as they are published on NYTimes.com. The Times Newswire API provides an up-to-the-minute stream of published articles.\n",
    "- [Tag query (TimesTags)](https://developer.nytimes.com/docs/timestags-product/1/overview): Provide a string of characters and the service returns a ranked list of suggested terms.\n",
    "- [Archive metadata](https://developer.nytimes.com/docs/archive-product/1/overview): Returns an array of NYT articles for a given month, going back to 1851."
   ]
  },
  {
   "cell_type": "markdown",
   "id": "44a18eac-436d-43ef-8151-6bfc85a74a8d",
   "metadata": {},
   "source": [
    "<a id='top'></a>\n",
    "\n",
    "# Top Stories API\n",
    "\n",
    "Let's look at the top stories of the day. All we have to do is call a single method on the `nyt` object:"
   ]
  },
  {
   "cell_type": "code",
   "execution_count": 7,
   "id": "c6d14b2a-67f3-42b6-b383-1eb78962a05a",
   "metadata": {},
   "outputs": [
    {
     "name": "stdout",
     "output_type": "stream",
     "text": [
      "top_stories is a list of length 28\n"
     ]
    }
   ],
   "source": [
    "# Get all the top stories from the home page\n",
    "top_stories = nyt.top_stories()\n",
    "\n",
    "print(f\"top_stories is a list of length {len(top_stories)}\")"
   ]
  },
  {
   "cell_type": "markdown",
   "id": "8eded794-5f47-4848-9c59-9ba325efecaf",
   "metadata": {},
   "source": [
    "The `top_stories` method has a single paramater called `section` parameter defaults to \"home\"."
   ]
  },
  {
   "cell_type": "code",
   "execution_count": 8,
   "id": "b582b805-46fb-48f4-8b0c-fc5585b7b898",
   "metadata": {},
   "outputs": [
    {
     "data": {
      "text/plain": [
       "[{'section': 'business',\n",
       "  'subsection': 'economy',\n",
       "  'title': 'Russia Is Importing Western Weapons Technology, Bypassing Sanctions',\n",
       "  'abstract': 'Western technology goods are winding up in Russian missiles, raising questions about the efficacy of sanctions.',\n",
       "  'url': 'https://www.nytimes.com/2023/04/18/business/economy/us-russia-chips-sanctions.html',\n",
       "  'uri': 'nyt://article/1e1a88f4-a54e-5780-9e9e-d031d86859bf',\n",
       "  'byline': 'By Ana Swanson and Matina Stevis-Gridneff',\n",
       "  'item_type': 'Article',\n",
       "  'updated_date': datetime.datetime(2023, 4, 18, 14, 13, 2, tzinfo=datetime.timezone(datetime.timedelta(days=-1, seconds=72000))),\n",
       "  'created_date': datetime.datetime(2023, 4, 18, 9, 37, 27, tzinfo=datetime.timezone(datetime.timedelta(days=-1, seconds=72000))),\n",
       "  'published_date': datetime.datetime(2023, 4, 18, 9, 37, 27, tzinfo=datetime.timezone(datetime.timedelta(days=-1, seconds=72000))),\n",
       "  'material_type_facet': '',\n",
       "  'kicker': '',\n",
       "  'des_facet': ['International Relations',\n",
       "   'Defense and Military Forces',\n",
       "   'International Trade and World Market',\n",
       "   'Russian Invasion of Ukraine (2022)',\n",
       "   'Embargoes and Sanctions',\n",
       "   'Computer Chips',\n",
       "   'Supply Chain',\n",
       "   'United States International Relations'],\n",
       "  'org_facet': ['European Union', 'Semiconductor Industry Assn'],\n",
       "  'per_facet': [],\n",
       "  'geo_facet': ['Russia', 'Ukraine', 'United States'],\n",
       "  'multimedia': [{'url': 'https://static01.nyt.com/images/2023/04/18/multimedia/18DC-UKRAINE-SANCTIONS-1-vjfz/18DC-UKRAINE-SANCTIONS-1-vjfz-superJumbo.jpg',\n",
       "    'format': 'Super Jumbo',\n",
       "    'height': 1365,\n",
       "    'width': 2048,\n",
       "    'type': 'image',\n",
       "    'subtype': 'photo',\n",
       "    'caption': 'Smoke rises from the site of a Russian rocket strike in March at an industrial complex in Slovyansk, Ukraine.',\n",
       "    'copyright': 'Daniel Berehulak/The New York Times'},\n",
       "   {'url': 'https://static01.nyt.com/images/2023/04/18/multimedia/18DC-UKRAINE-SANCTIONS-1-vjfz/18DC-UKRAINE-SANCTIONS-1-vjfz-threeByTwoSmallAt2X.jpg',\n",
       "    'format': 'threeByTwoSmallAt2X',\n",
       "    'height': 400,\n",
       "    'width': 600,\n",
       "    'type': 'image',\n",
       "    'subtype': 'photo',\n",
       "    'caption': 'Smoke rises from the site of a Russian rocket strike in March at an industrial complex in Slovyansk, Ukraine.',\n",
       "    'copyright': 'Daniel Berehulak/The New York Times'},\n",
       "   {'url': 'https://static01.nyt.com/images/2023/04/18/multimedia/18DC-UKRAINE-SANCTIONS-1-vjfz/18DC-UKRAINE-SANCTIONS-1-vjfz-thumbLarge.jpg',\n",
       "    'format': 'Large Thumbnail',\n",
       "    'height': 150,\n",
       "    'width': 150,\n",
       "    'type': 'image',\n",
       "    'subtype': 'photo',\n",
       "    'caption': 'Smoke rises from the site of a Russian rocket strike in March at an industrial complex in Slovyansk, Ukraine.',\n",
       "    'copyright': 'Daniel Berehulak/The New York Times'}],\n",
       "  'short_url': 'https://nyti.ms/3UMJMet'},\n",
       " {'section': 'world',\n",
       "  'subsection': 'europe',\n",
       "  'title': 'Evan Gershkovich declares his innocence in a Moscow court, but his detention is upheld.',\n",
       "  'abstract': 'It was the first time Mr. Gershkovich, a 31-year-old American, has been seen clearly since he was detained last month.',\n",
       "  'url': 'https://www.nytimes.com/2023/04/18/world/europe/wsj-reporter-evan-gershkovich-moscow-court-detention.html',\n",
       "  'uri': 'nyt://article/76299c9e-c220-5f9f-bfc9-c4a48af5c0d7',\n",
       "  'byline': 'By Ivan Nechepurenko and Anton Troianovski',\n",
       "  'item_type': 'Article',\n",
       "  'updated_date': datetime.datetime(2023, 4, 18, 14, 45, 54, tzinfo=datetime.timezone(datetime.timedelta(days=-1, seconds=72000))),\n",
       "  'created_date': datetime.datetime(2023, 4, 18, 8, 11, 28, tzinfo=datetime.timezone(datetime.timedelta(days=-1, seconds=72000))),\n",
       "  'published_date': datetime.datetime(2023, 4, 18, 8, 11, 28, tzinfo=datetime.timezone(datetime.timedelta(days=-1, seconds=72000))),\n",
       "  'material_type_facet': '',\n",
       "  'kicker': '',\n",
       "  'des_facet': ['News and News Media', 'Political Prisoners'],\n",
       "  'org_facet': ['Wall Street Journal'],\n",
       "  'per_facet': ['Gershkovich, Evan'],\n",
       "  'geo_facet': ['Russia'],\n",
       "  'multimedia': [{'url': 'https://static01.nyt.com/images/2023/04/18/multimedia/18ukraine-briefing-HFO-Gershkovich-hearing-wgpv/18ukraine-briefing-HFO-Gershkovich-hearing-wgpv-superJumbo.jpg',\n",
       "    'format': 'Super Jumbo',\n",
       "    'height': 1409,\n",
       "    'width': 2048,\n",
       "    'type': 'image',\n",
       "    'subtype': 'photo',\n",
       "    'caption': 'The Wall Street Journal reporter Evan Gershkovich attending a court hearing of the Moscow City Court, on Tuesday.',\n",
       "    'copyright': 'Maxim Shipenkov/EPA, via Shutterstock'},\n",
       "   {'url': 'https://static01.nyt.com/images/2023/04/18/multimedia/18ukraine-briefing-HFO-Gershkovich-hearing-wgpv/18ukraine-briefing-HFO-Gershkovich-hearing-wgpv-threeByTwoSmallAt2X.jpg',\n",
       "    'format': 'threeByTwoSmallAt2X',\n",
       "    'height': 400,\n",
       "    'width': 600,\n",
       "    'type': 'image',\n",
       "    'subtype': 'photo',\n",
       "    'caption': 'The Wall Street Journal reporter Evan Gershkovich attending a court hearing of the Moscow City Court, on Tuesday.',\n",
       "    'copyright': 'Maxim Shipenkov/EPA, via Shutterstock'},\n",
       "   {'url': 'https://static01.nyt.com/images/2023/04/18/multimedia/18ukraine-briefing-HFO-Gershkovich-hearing-wgpv/18ukraine-briefing-HFO-Gershkovich-hearing-wgpv-thumbLarge.jpg',\n",
       "    'format': 'Large Thumbnail',\n",
       "    'height': 150,\n",
       "    'width': 150,\n",
       "    'type': 'image',\n",
       "    'subtype': 'photo',\n",
       "    'caption': 'The Wall Street Journal reporter Evan Gershkovich attending a court hearing of the Moscow City Court, on Tuesday.',\n",
       "    'copyright': 'Maxim Shipenkov/EPA, via Shutterstock'}],\n",
       "  'short_url': 'https://nyti.ms/3ol2w94'}]"
      ]
     },
     "execution_count": 8,
     "metadata": {},
     "output_type": "execute_result"
    }
   ],
   "source": [
    "# Preview the results\n",
    "top_stories[:2]"
   ]
  },
  {
   "cell_type": "markdown",
   "id": "5724e114-fe34-4471-9ffe-310f9d921a7e",
   "metadata": {},
   "source": [
    "This is pretty typical output for data pulled from an API. We are looking at a list of nested JSON dictionaries."
   ]
  },
  {
   "cell_type": "markdown",
   "id": "38b034d1-32f9-4a41-93c3-e76c90ebaa81",
   "metadata": {},
   "source": [
    "When working with a new API, a good way to establish an understanding of the data is to inspect a single object in the collection. Let's grab the first story in the array and inspect its attributes and data:"
   ]
  },
  {
   "cell_type": "code",
   "execution_count": 9,
   "id": "f744cb9e-d991-4c2e-97bd-d12aa5912119",
   "metadata": {},
   "outputs": [
    {
     "data": {
      "text/plain": [
       "{'section': 'business',\n",
       " 'subsection': 'economy',\n",
       " 'title': 'Russia Is Importing Western Weapons Technology, Bypassing Sanctions',\n",
       " 'abstract': 'Western technology goods are winding up in Russian missiles, raising questions about the efficacy of sanctions.',\n",
       " 'url': 'https://www.nytimes.com/2023/04/18/business/economy/us-russia-chips-sanctions.html',\n",
       " 'uri': 'nyt://article/1e1a88f4-a54e-5780-9e9e-d031d86859bf',\n",
       " 'byline': 'By Ana Swanson and Matina Stevis-Gridneff',\n",
       " 'item_type': 'Article',\n",
       " 'updated_date': datetime.datetime(2023, 4, 18, 14, 13, 2, tzinfo=datetime.timezone(datetime.timedelta(days=-1, seconds=72000))),\n",
       " 'created_date': datetime.datetime(2023, 4, 18, 9, 37, 27, tzinfo=datetime.timezone(datetime.timedelta(days=-1, seconds=72000))),\n",
       " 'published_date': datetime.datetime(2023, 4, 18, 9, 37, 27, tzinfo=datetime.timezone(datetime.timedelta(days=-1, seconds=72000))),\n",
       " 'material_type_facet': '',\n",
       " 'kicker': '',\n",
       " 'des_facet': ['International Relations',\n",
       "  'Defense and Military Forces',\n",
       "  'International Trade and World Market',\n",
       "  'Russian Invasion of Ukraine (2022)',\n",
       "  'Embargoes and Sanctions',\n",
       "  'Computer Chips',\n",
       "  'Supply Chain',\n",
       "  'United States International Relations'],\n",
       " 'org_facet': ['European Union', 'Semiconductor Industry Assn'],\n",
       " 'per_facet': [],\n",
       " 'geo_facet': ['Russia', 'Ukraine', 'United States'],\n",
       " 'multimedia': [{'url': 'https://static01.nyt.com/images/2023/04/18/multimedia/18DC-UKRAINE-SANCTIONS-1-vjfz/18DC-UKRAINE-SANCTIONS-1-vjfz-superJumbo.jpg',\n",
       "   'format': 'Super Jumbo',\n",
       "   'height': 1365,\n",
       "   'width': 2048,\n",
       "   'type': 'image',\n",
       "   'subtype': 'photo',\n",
       "   'caption': 'Smoke rises from the site of a Russian rocket strike in March at an industrial complex in Slovyansk, Ukraine.',\n",
       "   'copyright': 'Daniel Berehulak/The New York Times'},\n",
       "  {'url': 'https://static01.nyt.com/images/2023/04/18/multimedia/18DC-UKRAINE-SANCTIONS-1-vjfz/18DC-UKRAINE-SANCTIONS-1-vjfz-threeByTwoSmallAt2X.jpg',\n",
       "   'format': 'threeByTwoSmallAt2X',\n",
       "   'height': 400,\n",
       "   'width': 600,\n",
       "   'type': 'image',\n",
       "   'subtype': 'photo',\n",
       "   'caption': 'Smoke rises from the site of a Russian rocket strike in March at an industrial complex in Slovyansk, Ukraine.',\n",
       "   'copyright': 'Daniel Berehulak/The New York Times'},\n",
       "  {'url': 'https://static01.nyt.com/images/2023/04/18/multimedia/18DC-UKRAINE-SANCTIONS-1-vjfz/18DC-UKRAINE-SANCTIONS-1-vjfz-thumbLarge.jpg',\n",
       "   'format': 'Large Thumbnail',\n",
       "   'height': 150,\n",
       "   'width': 150,\n",
       "   'type': 'image',\n",
       "   'subtype': 'photo',\n",
       "   'caption': 'Smoke rises from the site of a Russian rocket strike in March at an industrial complex in Slovyansk, Ukraine.',\n",
       "   'copyright': 'Daniel Berehulak/The New York Times'}],\n",
       " 'short_url': 'https://nyti.ms/3UMJMet'}"
      ]
     },
     "execution_count": 9,
     "metadata": {},
     "output_type": "execute_result"
    }
   ],
   "source": [
    "top_story = top_stories[0]\n",
    "top_story"
   ]
  },
  {
   "cell_type": "markdown",
   "id": "08a0fa06-969c-4e20-b392-3e4adb298a7d",
   "metadata": {},
   "source": [
    "We are provided a diverse collection of data for the article ranging from the expected (title, author, section) and to NLP-derived information such as named entities. Notice that the full article itself is not included - the API does not provide that to us."
   ]
  },
  {
   "cell_type": "markdown",
   "id": "c7cc9364-4bb4-477c-989c-97ca2fe0815e",
   "metadata": {},
   "source": [
    "🔔 **Question**: Does anything about the data stand out to you? What bits of information could be useful to you and your research needs?"
   ]
  },
  {
   "cell_type": "markdown",
   "id": "6169914c-9e61-459d-acad-67d579cb153d",
   "metadata": {},
   "source": [
    "💡 **Tip**: If we are interested in a specific section, we can pass in one of the following tags into the `section` parameter:\n",
    "\n",
    "\n",
    "```arts```, ```automobiles```, ```books```, ```business```, ```fashion```, ```food```, ```health```, ```home```, ```insider```, ```magazine```, ```movies```, ```national```, ```nyregion```, ```obituaries```, ```opinion```, ```politics```, ```realestate```, ```science```, ```sports```, ```sundayreview```, ```technology```, ```theater```, ```tmagazine```, ```travel```, ```upshot```, and ```world```.\n"
   ]
  },
  {
   "cell_type": "code",
   "execution_count": 10,
   "id": "df012cca-1573-4347-9e91-41e7c6178fcd",
   "metadata": {},
   "outputs": [
    {
     "name": "stdout",
     "output_type": "stream",
     "text": [
      "arts\n"
     ]
    },
    {
     "data": {
      "text/plain": [
       "{'section': 'arts',\n",
       " 'subsection': 'television',\n",
       " 'title': 'In ‘The Diplomat,’ Keri Russell Shows Her Good Side',\n",
       " 'abstract': 'The actor’s first substantial TV role since the Soviet spy drama “The Americans” finds her switching sides, starring as a savvy civil servant tasked with upholding America’s reputation abroad.',\n",
       " 'url': 'https://www.nytimes.com/2023/04/18/arts/television/keri-russell-the-diplomat.html',\n",
       " 'uri': 'nyt://article/6e8f2317-7e33-5070-b32b-b7b054c99464',\n",
       " 'byline': 'By Alexis Soloski',\n",
       " 'item_type': 'Article',\n",
       " 'updated_date': datetime.datetime(2023, 4, 18, 8, 0, 5, tzinfo=datetime.timezone(datetime.timedelta(days=-1, seconds=72000))),\n",
       " 'created_date': datetime.datetime(2023, 4, 18, 8, 0, 5, tzinfo=datetime.timezone(datetime.timedelta(days=-1, seconds=72000))),\n",
       " 'published_date': datetime.datetime(2023, 4, 18, 8, 0, 5, tzinfo=datetime.timezone(datetime.timedelta(days=-1, seconds=72000))),\n",
       " 'material_type_facet': '',\n",
       " 'kicker': '',\n",
       " 'des_facet': ['Television', 'The Diplomat (TV Program)'],\n",
       " 'org_facet': ['Netflix Inc'],\n",
       " 'per_facet': ['Russell, Keri'],\n",
       " 'geo_facet': [],\n",
       " 'multimedia': [{'url': 'https://static01.nyt.com/images/2023/04/18/multimedia/18russell1-hkpl/18russell1-hkpl-superJumbo.jpg',\n",
       "   'format': 'Super Jumbo',\n",
       "   'height': 2048,\n",
       "   'width': 1366,\n",
       "   'type': 'image',\n",
       "   'subtype': 'photo',\n",
       "   'caption': 'Keri Russell used to beat herself up for her unease with the public-facing aspects of her profession, but she has since accepted it. “That’s who I am,” she said.',\n",
       "   'copyright': 'Celeste Sloman for The New York Times'},\n",
       "  {'url': 'https://static01.nyt.com/images/2023/04/18/multimedia/18russell1-hkpl/18russell1-hkpl-threeByTwoSmallAt2X.jpg',\n",
       "   'format': 'threeByTwoSmallAt2X',\n",
       "   'height': 400,\n",
       "   'width': 600,\n",
       "   'type': 'image',\n",
       "   'subtype': 'photo',\n",
       "   'caption': 'Keri Russell used to beat herself up for her unease with the public-facing aspects of her profession, but she has since accepted it. “That’s who I am,” she said.',\n",
       "   'copyright': 'Celeste Sloman for The New York Times'},\n",
       "  {'url': 'https://static01.nyt.com/images/2023/04/18/multimedia/18russell1-hkpl/18russell1-hkpl-thumbLarge.jpg',\n",
       "   'format': 'Large Thumbnail',\n",
       "   'height': 150,\n",
       "   'width': 150,\n",
       "   'type': 'image',\n",
       "   'subtype': 'photo',\n",
       "   'caption': 'Keri Russell used to beat herself up for her unease with the public-facing aspects of her profession, but she has since accepted it. “That’s who I am,” she said.',\n",
       "   'copyright': 'Celeste Sloman for The New York Times'}],\n",
       " 'short_url': 'https://nyti.ms/41gyqlG'}"
      ]
     },
     "execution_count": 10,
     "metadata": {},
     "output_type": "execute_result"
    }
   ],
   "source": [
    "top_arts_stories = nyt.top_stories(section='arts')\n",
    "print(top_arts_stories[0]['section'])\n",
    "top_arts_stories[0]"
   ]
  },
  {
   "cell_type": "markdown",
   "id": "cc28bc7d-d3dd-48ff-99d8-20b9db7046b0",
   "metadata": {},
   "source": [
    "## 🥊 Challenge: Find the top stories for a section\n",
    "\n",
    "- Choose 2 sections. Grab their top stories and store them in two separate lists.\n",
    "- How many stories are each in section?\n",
    "- What is the title of the first story in each list?"
   ]
  },
  {
   "cell_type": "code",
   "execution_count": 16,
   "id": "12c920bc-bf8c-48a4-a34e-d10e4a23476d",
   "metadata": {},
   "outputs": [
    {
     "name": "stdout",
     "output_type": "stream",
     "text": [
      "books\n"
     ]
    },
    {
     "data": {
      "text/plain": [
       "{'section': 'books',\n",
       " 'subsection': 'review',\n",
       " 'title': 'Finding Love in a Fake World',\n",
       " 'abstract': 'Julia Argy’s debut novel, “The One,” goes behind the cameras at a reality TV show. Is the protagonist there for the right reasons?',\n",
       " 'url': 'https://www.nytimes.com/2023/04/18/books/review/julia-argy-the-one.html',\n",
       " 'uri': 'nyt://article/70ba4144-e75a-5a58-8b18-723377073837',\n",
       " 'byline': 'By Julia May Jonas',\n",
       " 'item_type': 'Article',\n",
       " 'updated_date': datetime.datetime(2023, 4, 18, 14, 55, 13, tzinfo=datetime.timezone(datetime.timedelta(days=-1, seconds=72000))),\n",
       " 'created_date': datetime.datetime(2023, 4, 18, 5, 0, 8, tzinfo=datetime.timezone(datetime.timedelta(days=-1, seconds=72000))),\n",
       " 'published_date': datetime.datetime(2023, 4, 18, 5, 0, 8, tzinfo=datetime.timezone(datetime.timedelta(days=-1, seconds=72000))),\n",
       " 'material_type_facet': '',\n",
       " 'kicker': 'Fiction',\n",
       " 'des_facet': ['Books and Literature', 'The One (Book)'],\n",
       " 'org_facet': [],\n",
       " 'per_facet': ['Argy, Julia'],\n",
       " 'geo_facet': [],\n",
       " 'multimedia': [{'url': 'https://static01.nyt.com/images/2023/04/18/books/review/18Argy-Ferrentino/18Argy-Ferrentino-superJumbo.jpg',\n",
       "   'format': 'Super Jumbo',\n",
       "   'height': 1365,\n",
       "   'width': 2048,\n",
       "   'type': 'image',\n",
       "   'subtype': 'photo',\n",
       "   'caption': '',\n",
       "   'copyright': 'Jackie Ferrentino'},\n",
       "  {'url': 'https://static01.nyt.com/images/2023/04/18/books/review/18Argy-Ferrentino/18Argy-Ferrentino-threeByTwoSmallAt2X.jpg',\n",
       "   'format': 'threeByTwoSmallAt2X',\n",
       "   'height': 400,\n",
       "   'width': 600,\n",
       "   'type': 'image',\n",
       "   'subtype': 'photo',\n",
       "   'caption': '',\n",
       "   'copyright': 'Jackie Ferrentino'},\n",
       "  {'url': 'https://static01.nyt.com/images/2023/04/18/books/review/18Argy-Ferrentino/18Argy-Ferrentino-thumbLarge.jpg',\n",
       "   'format': 'Large Thumbnail',\n",
       "   'height': 150,\n",
       "   'width': 150,\n",
       "   'type': 'image',\n",
       "   'subtype': 'photo',\n",
       "   'caption': '',\n",
       "   'copyright': 'Jackie Ferrentino'}],\n",
       " 'short_url': 'https://nyti.ms/3A68i0D'}"
      ]
     },
     "metadata": {},
     "output_type": "display_data"
    },
    {
     "name": "stdout",
     "output_type": "stream",
     "text": [
      "business\n"
     ]
    },
    {
     "data": {
      "text/plain": [
       "{'section': 'business',\n",
       " 'subsection': 'economy',\n",
       " 'title': 'Russia Is Importing Western Weapons Technology, Bypassing Sanctions',\n",
       " 'abstract': 'Western technology goods are winding up in Russian missiles, raising questions about the efficacy of sanctions.',\n",
       " 'url': 'https://www.nytimes.com/2023/04/18/business/economy/us-russia-chips-sanctions.html',\n",
       " 'uri': 'nyt://article/1e1a88f4-a54e-5780-9e9e-d031d86859bf',\n",
       " 'byline': 'By Ana Swanson and Matina Stevis-Gridneff',\n",
       " 'item_type': 'Article',\n",
       " 'updated_date': datetime.datetime(2023, 4, 18, 14, 13, 2, tzinfo=datetime.timezone(datetime.timedelta(days=-1, seconds=72000))),\n",
       " 'created_date': datetime.datetime(2023, 4, 18, 9, 37, 27, tzinfo=datetime.timezone(datetime.timedelta(days=-1, seconds=72000))),\n",
       " 'published_date': datetime.datetime(2023, 4, 18, 9, 37, 27, tzinfo=datetime.timezone(datetime.timedelta(days=-1, seconds=72000))),\n",
       " 'material_type_facet': '',\n",
       " 'kicker': '',\n",
       " 'des_facet': ['International Relations',\n",
       "  'Defense and Military Forces',\n",
       "  'International Trade and World Market',\n",
       "  'Russian Invasion of Ukraine (2022)',\n",
       "  'Embargoes and Sanctions',\n",
       "  'Computer Chips',\n",
       "  'Supply Chain',\n",
       "  'United States International Relations'],\n",
       " 'org_facet': ['European Union', 'Semiconductor Industry Assn'],\n",
       " 'per_facet': [],\n",
       " 'geo_facet': ['Russia', 'Ukraine', 'United States'],\n",
       " 'multimedia': [{'url': 'https://static01.nyt.com/images/2023/04/18/multimedia/18DC-UKRAINE-SANCTIONS-1-vjfz/18DC-UKRAINE-SANCTIONS-1-vjfz-superJumbo.jpg',\n",
       "   'format': 'Super Jumbo',\n",
       "   'height': 1365,\n",
       "   'width': 2048,\n",
       "   'type': 'image',\n",
       "   'subtype': 'photo',\n",
       "   'caption': 'Smoke rises from the site of a Russian rocket strike in March at an industrial complex in Slovyansk, Ukraine.',\n",
       "   'copyright': 'Daniel Berehulak/The New York Times'},\n",
       "  {'url': 'https://static01.nyt.com/images/2023/04/18/multimedia/18DC-UKRAINE-SANCTIONS-1-vjfz/18DC-UKRAINE-SANCTIONS-1-vjfz-threeByTwoSmallAt2X.jpg',\n",
       "   'format': 'threeByTwoSmallAt2X',\n",
       "   'height': 400,\n",
       "   'width': 600,\n",
       "   'type': 'image',\n",
       "   'subtype': 'photo',\n",
       "   'caption': 'Smoke rises from the site of a Russian rocket strike in March at an industrial complex in Slovyansk, Ukraine.',\n",
       "   'copyright': 'Daniel Berehulak/The New York Times'},\n",
       "  {'url': 'https://static01.nyt.com/images/2023/04/18/multimedia/18DC-UKRAINE-SANCTIONS-1-vjfz/18DC-UKRAINE-SANCTIONS-1-vjfz-thumbLarge.jpg',\n",
       "   'format': 'Large Thumbnail',\n",
       "   'height': 150,\n",
       "   'width': 150,\n",
       "   'type': 'image',\n",
       "   'subtype': 'photo',\n",
       "   'caption': 'Smoke rises from the site of a Russian rocket strike in March at an industrial complex in Slovyansk, Ukraine.',\n",
       "   'copyright': 'Daniel Berehulak/The New York Times'}],\n",
       " 'short_url': 'https://nyti.ms/3UMJMet'}"
      ]
     },
     "execution_count": 16,
     "metadata": {},
     "output_type": "execute_result"
    }
   ],
   "source": [
    "# YOUR CODE HERE\n",
    "\n",
    "top_world_stories = nyt.top_stories(section='books')\n",
    "print(top_world_stories[0]['section'])\n",
    "display(top_world_stories[0])\n",
    "\n",
    "top_eco_stories = nyt.top_stories(section='business')\n",
    "print(top_eco_stories[0]['section'])\n",
    "top_eco_stories[0]\n"
   ]
  },
  {
   "cell_type": "markdown",
   "id": "73610bbb-e547-4dac-9d55-be815fba4009",
   "metadata": {},
   "source": [
    "## Organizing the API Results into a `pandas` DataFrame\n",
    "\n",
    "In order to conduct subsequent data analysis, we need to convert the list of JSON data to a `pandas` DataFrame. `pandas` allows us to simply pass in the JSON list and produce a clean table in one line of code. "
   ]
  },
  {
   "cell_type": "markdown",
   "id": "cab0d546-3798-4ed9-bb8c-15bfd6ad5333",
   "metadata": {},
   "source": [
    "First, let's see what happens when we pass in `top_stories` to `pd.json_normalize`:"
   ]
  },
  {
   "cell_type": "code",
   "execution_count": 19,
   "id": "176bb5a8-53db-4244-a525-bd836b902ede",
   "metadata": {},
   "outputs": [
    {
     "data": {
      "text/html": [
       "<div>\n",
       "<style scoped>\n",
       "    .dataframe tbody tr th:only-of-type {\n",
       "        vertical-align: middle;\n",
       "    }\n",
       "\n",
       "    .dataframe tbody tr th {\n",
       "        vertical-align: top;\n",
       "    }\n",
       "\n",
       "    .dataframe thead th {\n",
       "        text-align: right;\n",
       "    }\n",
       "</style>\n",
       "<table border=\"1\" class=\"dataframe\">\n",
       "  <thead>\n",
       "    <tr style=\"text-align: right;\">\n",
       "      <th></th>\n",
       "      <th>section</th>\n",
       "      <th>subsection</th>\n",
       "      <th>title</th>\n",
       "      <th>abstract</th>\n",
       "      <th>url</th>\n",
       "      <th>uri</th>\n",
       "      <th>byline</th>\n",
       "      <th>item_type</th>\n",
       "      <th>updated_date</th>\n",
       "      <th>created_date</th>\n",
       "      <th>published_date</th>\n",
       "      <th>material_type_facet</th>\n",
       "      <th>kicker</th>\n",
       "      <th>des_facet</th>\n",
       "      <th>org_facet</th>\n",
       "      <th>per_facet</th>\n",
       "      <th>geo_facet</th>\n",
       "      <th>multimedia</th>\n",
       "      <th>short_url</th>\n",
       "    </tr>\n",
       "  </thead>\n",
       "  <tbody>\n",
       "    <tr>\n",
       "      <th>0</th>\n",
       "      <td>business</td>\n",
       "      <td>economy</td>\n",
       "      <td>Russia Is Importing Western Weapons Technology...</td>\n",
       "      <td>Western technology goods are winding up in Rus...</td>\n",
       "      <td>https://www.nytimes.com/2023/04/18/business/ec...</td>\n",
       "      <td>nyt://article/1e1a88f4-a54e-5780-9e9e-d031d868...</td>\n",
       "      <td>By Ana Swanson and Matina Stevis-Gridneff</td>\n",
       "      <td>Article</td>\n",
       "      <td>2023-04-18 14:13:02-04:00</td>\n",
       "      <td>2023-04-18 09:37:27-04:00</td>\n",
       "      <td>2023-04-18 09:37:27-04:00</td>\n",
       "      <td></td>\n",
       "      <td></td>\n",
       "      <td>[International Relations, Defense and Military...</td>\n",
       "      <td>[European Union, Semiconductor Industry Assn]</td>\n",
       "      <td>[]</td>\n",
       "      <td>[Russia, Ukraine, United States]</td>\n",
       "      <td>[{'url': 'https://static01.nyt.com/images/2023...</td>\n",
       "      <td>https://nyti.ms/3UMJMet</td>\n",
       "    </tr>\n",
       "    <tr>\n",
       "      <th>1</th>\n",
       "      <td>world</td>\n",
       "      <td>europe</td>\n",
       "      <td>Evan Gershkovich declares his innocence in a M...</td>\n",
       "      <td>It was the first time Mr. Gershkovich, a 31-ye...</td>\n",
       "      <td>https://www.nytimes.com/2023/04/18/world/europ...</td>\n",
       "      <td>nyt://article/76299c9e-c220-5f9f-bfc9-c4a48af5...</td>\n",
       "      <td>By Ivan Nechepurenko and Anton Troianovski</td>\n",
       "      <td>Article</td>\n",
       "      <td>2023-04-18 14:45:54-04:00</td>\n",
       "      <td>2023-04-18 08:11:28-04:00</td>\n",
       "      <td>2023-04-18 08:11:28-04:00</td>\n",
       "      <td></td>\n",
       "      <td></td>\n",
       "      <td>[News and News Media, Political Prisoners]</td>\n",
       "      <td>[Wall Street Journal]</td>\n",
       "      <td>[Gershkovich, Evan]</td>\n",
       "      <td>[Russia]</td>\n",
       "      <td>[{'url': 'https://static01.nyt.com/images/2023...</td>\n",
       "      <td>https://nyti.ms/3ol2w94</td>\n",
       "    </tr>\n",
       "    <tr>\n",
       "      <th>2</th>\n",
       "      <td>world</td>\n",
       "      <td>asia</td>\n",
       "      <td>Blinken and Top Diplomats Stress Unity on Russ...</td>\n",
       "      <td>The foreign ministers of the Group of 7 nation...</td>\n",
       "      <td>https://www.nytimes.com/2023/04/18/world/asia/...</td>\n",
       "      <td>nyt://article/7ec8c525-fa46-5eb0-8bec-d1b0adc5...</td>\n",
       "      <td>By Edward Wong</td>\n",
       "      <td>Article</td>\n",
       "      <td>2023-04-18 11:44:19-04:00</td>\n",
       "      <td>2023-04-18 05:57:42-04:00</td>\n",
       "      <td>2023-04-18 05:57:42-04:00</td>\n",
       "      <td></td>\n",
       "      <td></td>\n",
       "      <td>[International Relations, United States Intern...</td>\n",
       "      <td>[Group of Seven]</td>\n",
       "      <td>[Blinken, Antony J]</td>\n",
       "      <td>[Karuizawa (Japan)]</td>\n",
       "      <td>[{'url': 'https://static01.nyt.com/images/2023...</td>\n",
       "      <td>https://nyti.ms/3UMrBpt</td>\n",
       "    </tr>\n",
       "    <tr>\n",
       "      <th>3</th>\n",
       "      <td>business</td>\n",
       "      <td></td>\n",
       "      <td>As Possible Debt Limit Crisis Nears, Wall Stre...</td>\n",
       "      <td>Few investors have focused on the possibility ...</td>\n",
       "      <td>https://www.nytimes.com/2023/04/18/business/de...</td>\n",
       "      <td>nyt://article/91823f27-36a0-5e7f-90f9-83d53a0b...</td>\n",
       "      <td>By Jim Tankersley</td>\n",
       "      <td>Article</td>\n",
       "      <td>2023-04-18 15:54:09-04:00</td>\n",
       "      <td>2023-04-18 10:47:14-04:00</td>\n",
       "      <td>2023-04-18 10:47:14-04:00</td>\n",
       "      <td></td>\n",
       "      <td></td>\n",
       "      <td>[United States Politics and Government, Stocks...</td>\n",
       "      <td>[House of Representatives, Republican Party, T...</td>\n",
       "      <td>[McCarthy, Kevin (1965- )]</td>\n",
       "      <td>[]</td>\n",
       "      <td>[{'url': 'https://static01.nyt.com/images/2023...</td>\n",
       "      <td>https://nyti.ms/40lJfS5</td>\n",
       "    </tr>\n",
       "    <tr>\n",
       "      <th>4</th>\n",
       "      <td>us</td>\n",
       "      <td>politics</td>\n",
       "      <td>The G.O.P.’s Fiscal Hawks Fly Far Away From De...</td>\n",
       "      <td>After a decade of rising deficits and soaring ...</td>\n",
       "      <td>https://www.nytimes.com/2023/04/18/us/politics...</td>\n",
       "      <td>nyt://article/5f13f1d8-ed7d-5b96-8497-f62caf31...</td>\n",
       "      <td>By Jonathan Weisman</td>\n",
       "      <td>Article</td>\n",
       "      <td>2023-04-18 16:40:17-04:00</td>\n",
       "      <td>2023-04-18 15:30:40-04:00</td>\n",
       "      <td>2023-04-18 15:30:40-04:00</td>\n",
       "      <td></td>\n",
       "      <td>Political Memo</td>\n",
       "      <td>[Federal Budget (US), United States Politics a...</td>\n",
       "      <td>[Committee for a Responsible Federal Budget]</td>\n",
       "      <td>[DeSantis, Ron, Trump, Donald J]</td>\n",
       "      <td>[]</td>\n",
       "      <td>[{'url': 'https://static01.nyt.com/images/2023...</td>\n",
       "      <td>https://nyti.ms/43HbfT6</td>\n",
       "    </tr>\n",
       "  </tbody>\n",
       "</table>\n",
       "</div>"
      ],
      "text/plain": [
       "    section subsection                                              title   \n",
       "0  business    economy  Russia Is Importing Western Weapons Technology...  \\\n",
       "1     world     europe  Evan Gershkovich declares his innocence in a M...   \n",
       "2     world       asia  Blinken and Top Diplomats Stress Unity on Russ...   \n",
       "3  business             As Possible Debt Limit Crisis Nears, Wall Stre...   \n",
       "4        us   politics  The G.O.P.’s Fiscal Hawks Fly Far Away From De...   \n",
       "\n",
       "                                            abstract   \n",
       "0  Western technology goods are winding up in Rus...  \\\n",
       "1  It was the first time Mr. Gershkovich, a 31-ye...   \n",
       "2  The foreign ministers of the Group of 7 nation...   \n",
       "3  Few investors have focused on the possibility ...   \n",
       "4  After a decade of rising deficits and soaring ...   \n",
       "\n",
       "                                                 url   \n",
       "0  https://www.nytimes.com/2023/04/18/business/ec...  \\\n",
       "1  https://www.nytimes.com/2023/04/18/world/europ...   \n",
       "2  https://www.nytimes.com/2023/04/18/world/asia/...   \n",
       "3  https://www.nytimes.com/2023/04/18/business/de...   \n",
       "4  https://www.nytimes.com/2023/04/18/us/politics...   \n",
       "\n",
       "                                                 uri   \n",
       "0  nyt://article/1e1a88f4-a54e-5780-9e9e-d031d868...  \\\n",
       "1  nyt://article/76299c9e-c220-5f9f-bfc9-c4a48af5...   \n",
       "2  nyt://article/7ec8c525-fa46-5eb0-8bec-d1b0adc5...   \n",
       "3  nyt://article/91823f27-36a0-5e7f-90f9-83d53a0b...   \n",
       "4  nyt://article/5f13f1d8-ed7d-5b96-8497-f62caf31...   \n",
       "\n",
       "                                       byline item_type   \n",
       "0   By Ana Swanson and Matina Stevis-Gridneff   Article  \\\n",
       "1  By Ivan Nechepurenko and Anton Troianovski   Article   \n",
       "2                              By Edward Wong   Article   \n",
       "3                           By Jim Tankersley   Article   \n",
       "4                         By Jonathan Weisman   Article   \n",
       "\n",
       "               updated_date              created_date   \n",
       "0 2023-04-18 14:13:02-04:00 2023-04-18 09:37:27-04:00  \\\n",
       "1 2023-04-18 14:45:54-04:00 2023-04-18 08:11:28-04:00   \n",
       "2 2023-04-18 11:44:19-04:00 2023-04-18 05:57:42-04:00   \n",
       "3 2023-04-18 15:54:09-04:00 2023-04-18 10:47:14-04:00   \n",
       "4 2023-04-18 16:40:17-04:00 2023-04-18 15:30:40-04:00   \n",
       "\n",
       "             published_date material_type_facet          kicker   \n",
       "0 2023-04-18 09:37:27-04:00                                      \\\n",
       "1 2023-04-18 08:11:28-04:00                                       \n",
       "2 2023-04-18 05:57:42-04:00                                       \n",
       "3 2023-04-18 10:47:14-04:00                                       \n",
       "4 2023-04-18 15:30:40-04:00                      Political Memo   \n",
       "\n",
       "                                           des_facet   \n",
       "0  [International Relations, Defense and Military...  \\\n",
       "1         [News and News Media, Political Prisoners]   \n",
       "2  [International Relations, United States Intern...   \n",
       "3  [United States Politics and Government, Stocks...   \n",
       "4  [Federal Budget (US), United States Politics a...   \n",
       "\n",
       "                                           org_facet   \n",
       "0      [European Union, Semiconductor Industry Assn]  \\\n",
       "1                              [Wall Street Journal]   \n",
       "2                                   [Group of Seven]   \n",
       "3  [House of Representatives, Republican Party, T...   \n",
       "4       [Committee for a Responsible Federal Budget]   \n",
       "\n",
       "                          per_facet                         geo_facet   \n",
       "0                                []  [Russia, Ukraine, United States]  \\\n",
       "1               [Gershkovich, Evan]                          [Russia]   \n",
       "2               [Blinken, Antony J]               [Karuizawa (Japan)]   \n",
       "3        [McCarthy, Kevin (1965- )]                                []   \n",
       "4  [DeSantis, Ron, Trump, Donald J]                                []   \n",
       "\n",
       "                                          multimedia                short_url  \n",
       "0  [{'url': 'https://static01.nyt.com/images/2023...  https://nyti.ms/3UMJMet  \n",
       "1  [{'url': 'https://static01.nyt.com/images/2023...  https://nyti.ms/3ol2w94  \n",
       "2  [{'url': 'https://static01.nyt.com/images/2023...  https://nyti.ms/3UMrBpt  \n",
       "3  [{'url': 'https://static01.nyt.com/images/2023...  https://nyti.ms/40lJfS5  \n",
       "4  [{'url': 'https://static01.nyt.com/images/2023...  https://nyti.ms/43HbfT6  "
      ]
     },
     "execution_count": 19,
     "metadata": {},
     "output_type": "execute_result"
    }
   ],
   "source": [
    "# Convert to DataFrmae\n",
    "df = pd.json_normalize(top_stories)\n",
    "# View the first 5 rows\n",
    "df.head()"
   ]
  },
  {
   "cell_type": "code",
   "execution_count": 20,
   "id": "fa8e6202-f3f8-4d43-9601-c0fb0404ba85",
   "metadata": {},
   "outputs": [
    {
     "name": "stdout",
     "output_type": "stream",
     "text": [
      "<class 'pandas.core.frame.DataFrame'>\n",
      "RangeIndex: 28 entries, 0 to 27\n",
      "Data columns (total 19 columns):\n",
      " #   Column               Non-Null Count  Dtype                    \n",
      "---  ------               --------------  -----                    \n",
      " 0   section              28 non-null     object                   \n",
      " 1   subsection           28 non-null     object                   \n",
      " 2   title                28 non-null     object                   \n",
      " 3   abstract             28 non-null     object                   \n",
      " 4   url                  28 non-null     object                   \n",
      " 5   uri                  28 non-null     object                   \n",
      " 6   byline               28 non-null     object                   \n",
      " 7   item_type            28 non-null     object                   \n",
      " 8   updated_date         28 non-null     datetime64[ns, UTC-04:00]\n",
      " 9   created_date         28 non-null     datetime64[ns, UTC-04:00]\n",
      " 10  published_date       28 non-null     datetime64[ns, UTC-04:00]\n",
      " 11  material_type_facet  28 non-null     object                   \n",
      " 12  kicker               28 non-null     object                   \n",
      " 13  des_facet            28 non-null     object                   \n",
      " 14  org_facet            28 non-null     object                   \n",
      " 15  per_facet            28 non-null     object                   \n",
      " 16  geo_facet            28 non-null     object                   \n",
      " 17  multimedia           27 non-null     object                   \n",
      " 18  short_url            28 non-null     object                   \n",
      "dtypes: datetime64[ns, UTC-04:00](3), object(16)\n",
      "memory usage: 4.3+ KB\n"
     ]
    }
   ],
   "source": [
    "# Inspect the metadata\n",
    "df.info()"
   ]
  },
  {
   "cell_type": "markdown",
   "id": "a241d131-f695-4aaa-bcef-104f57761099",
   "metadata": {},
   "source": [
    "For the most part, `pandas` does a good job of producing a table where:\n",
    "\n",
    "- The columns correspond with the JSON dictionary keys from our API call.\n",
    "- The number of rows matches the number of articles.\n",
    "- Each cell holds the corresponding value found under that article's dictionary key."
   ]
  },
  {
   "cell_type": "markdown",
   "id": "741048f9-1f01-434a-b5e8-fc51583c8d8e",
   "metadata": {},
   "source": [
    "<a id='most'></a>\n",
    "\n",
    "# Most Viewed and Most Shared APIs"
   ]
  },
  {
   "cell_type": "markdown",
   "id": "4e8b137d-4365-4994-beee-04b8e06cc9cf",
   "metadata": {},
   "source": [
    "Retrieving the most viewed and shared articles is also quite simple. The `days` parameter returns the most popular articles based on the last $N$ days. Keep in mind, however, that `days` can only take on one of three values: 1, 7, or 30."
   ]
  },
  {
   "cell_type": "code",
   "execution_count": 21,
   "id": "959dc92b-c33f-41b5-b271-15eb17a5a669",
   "metadata": {},
   "outputs": [
    {
     "name": "stdout",
     "output_type": "stream",
     "text": [
      "Title: 84-Year-Old Is Charged in Shooting of Black Teenager Who Went to Wrong House\n",
      "Section: U.S.\n"
     ]
    },
    {
     "data": {
      "text/plain": [
       "{'uri': 'nyt://article/0b7d4b82-7ab9-52a6-8153-15cad859c454',\n",
       " 'url': 'https://www.nytimes.com/2023/04/17/us/ralph-yarl-kansas-city-shooting.html',\n",
       " 'id': 100000008861832,\n",
       " 'asset_id': 100000008861832,\n",
       " 'source': 'New York Times',\n",
       " 'published_date': datetime.date(2023, 4, 17),\n",
       " 'updated': datetime.datetime(2023, 4, 18, 9, 41, 48),\n",
       " 'section': 'U.S.',\n",
       " 'subsection': '',\n",
       " 'nytdsection': 'u.s.',\n",
       " 'adx_keywords': 'Murders, Attempted Murders and Homicides;Black People;Yarl, Ralph;Kansas City (Mo)',\n",
       " 'column': None,\n",
       " 'byline': 'By Livia Albeck-Ripka, Patrick LaForge and Christine Hauser',\n",
       " 'type': 'Article',\n",
       " 'title': '84-Year-Old Is Charged in Shooting of Black Teenager Who Went to Wrong House',\n",
       " 'abstract': 'Lawyers for the family of Ralph Yarl, 16, said he was critically injured when he was shot twice in Kansas City, Mo.',\n",
       " 'des_facet': ['Murders, Attempted Murders and Homicides', 'Black People'],\n",
       " 'org_facet': [],\n",
       " 'per_facet': ['Yarl, Ralph'],\n",
       " 'geo_facet': ['Kansas City (Mo)'],\n",
       " 'media': [],\n",
       " 'eta_id': 0}"
      ]
     },
     "execution_count": 21,
     "metadata": {},
     "output_type": "execute_result"
    }
   ],
   "source": [
    "# Retrieve the most viewed articles for today.\n",
    "# The days parameter defaults to 1\n",
    "most_viewed_today = nyt.most_viewed()\n",
    "print(f\"Title: {most_viewed_today[0]['title']}\")\n",
    "print(f\"Section: {most_viewed_today[0]['section']}\")\n",
    "most_viewed_today[0]"
   ]
  },
  {
   "cell_type": "markdown",
   "id": "3681696d-752e-4d11-8f67-af5ae03bb73b",
   "metadata": {},
   "source": [
    "🔔 **Question**:  How many stories are provided to us via this function call?"
   ]
  },
  {
   "cell_type": "code",
   "execution_count": 22,
   "id": "358187a6-420d-4317-9429-5a021edb1e6f",
   "metadata": {},
   "outputs": [
    {
     "data": {
      "text/plain": [
       "20"
      ]
     },
     "execution_count": 22,
     "metadata": {},
     "output_type": "execute_result"
    }
   ],
   "source": [
    "len(most_viewed_today)"
   ]
  },
  {
   "cell_type": "markdown",
   "id": "684faea3-9fab-499c-8869-b99747b04d86",
   "metadata": {},
   "source": [
    "For this piece of data, we can consult a guide or what's known as a schema to understand the information at our finger tips.\n",
    "\n",
    "The [Most Viewed Schema](https://developer.nytimes.com/docs/most-popular-product/1/types/ViewedArticle) can answer any questions we may have about this article's data:"
   ]
  },
  {
   "cell_type": "markdown",
   "id": "210bc5f1-037d-4c49-85e1-186bfbc946b1",
   "metadata": {},
   "source": [
    "| Attribute      | Data Type | Definition      |\n",
    "| ----------- | ----------- | ----------- |\n",
    "| url      | string       | Article's URL.       |\n",
    "| adx_keywords   | string        | Semicolon separated list of keywords.        |\n",
    "| column   | string        | Deprecated. Set to null.        |\n",
    "| section   | string        | Article's section (e.g. Sports).        |\n",
    "| byline   | string        | Article's byline (e.g. By Thomas L. Friedman).        |\n",
    "| type   | string        | Asset type (e.g. Article, Interactive, ...).        |\n",
    "| title   | string        | Article's headline (e.g. When the Cellos Play, the Cows Come Home).        |\n",
    "| abstract   | string        | Brief summary of the article.|\n",
    "| published_date   | string        | When the article was published on the web (e.g. 2021-04-19).        |\n",
    "| source   | string        | Publisher (e.g. New York Times).        |\n",
    "| id   | integer        | Asset ID number (e.g. 100000007772696).        |\n",
    "| asset_id   | integer        | Asset ID number (e.g. 100000007772696).        |\n",
    "| des_facet   | array        | Array of description facets (e.g. Quarantine (Life and Culture)).        |\n",
    "| org_facet   | array        | Array of organization facets (e.g. Sullivan Street Bakery).        |\n",
    "| per_facet   | array        | Array of person facets (e.g. Bittman, Mark).        |\n",
    "| geo_facet   | array        | Array of geographic facets (e.g. Canada).        |\n",
    "| media   | array        | Array of images.        |\n",
    "| media.type   | string        | Asset type (e.g. image).        |\n",
    "| media.subtype   | string        | Asset subtype (e.g. photo).        |\n",
    "| media.caption   | string        | Media caption        |\n",
    "| media.copyright   | string        | Media credit        |\n",
    "| media.approved_for_syndication   | boolean        | Whether media is approved for syndication.        |\n",
    "| media.media-metadata   | array        | Media metadata (url, width, height, ...).        |\n",
    "| media.media-metadata.url   | string        | Image's URL.        |\n",
    "| media.media-metadata.format   | string        | Image's crop name     |\n",
    "| media.media-metadata.height   | integer        | Image's height |\n",
    "| media.media-metadata.width   | integer        | Image's width      |"
   ]
  },
  {
   "cell_type": "markdown",
   "id": "fc33ce38-daf3-494a-9f0f-12d089321297",
   "metadata": {},
   "source": [
    "To pull most popular articles for the past weekend and month, we pass the numbers 7 or 30 into `days`"
   ]
  },
  {
   "cell_type": "code",
   "execution_count": 23,
   "id": "cf701a93-68c4-4c0c-ab6d-30487b4da504",
   "metadata": {},
   "outputs": [],
   "source": [
    "most_viewed_week = nyt.most_viewed(days=7)\n",
    "most_viewed_month = nyt.most_viewed(days=30)"
   ]
  },
  {
   "cell_type": "markdown",
   "id": "64a14916-a9fc-4826-a459-787780e26a41",
   "metadata": {},
   "source": [
    "🔔 **Question**: What is the most viewed article of the last week?"
   ]
  },
  {
   "cell_type": "code",
   "execution_count": 24,
   "id": "e3e2f679-4660-4c03-84b8-5f9257473165",
   "metadata": {},
   "outputs": [
    {
     "data": {
      "text/plain": [
       "'The End of Faking It in Silicon Valley'"
      ]
     },
     "execution_count": 24,
     "metadata": {},
     "output_type": "execute_result"
    }
   ],
   "source": [
    "most_viewed_week[0]['title']"
   ]
  },
  {
   "cell_type": "markdown",
   "id": "174a91ba-c09f-4c16-b415-15d501cbb55a",
   "metadata": {},
   "source": [
    "🔔 **Question**: What is the most viewed article of the last month?"
   ]
  },
  {
   "cell_type": "code",
   "execution_count": 25,
   "id": "74b269e1-d793-49cd-a3b5-2121eb7db26d",
   "metadata": {},
   "outputs": [
    {
     "data": {
      "text/plain": [
       "'For Years She Said a Coach Abused Her. Now She Has Named a Legend.'"
      ]
     },
     "execution_count": 25,
     "metadata": {},
     "output_type": "execute_result"
    }
   ],
   "source": [
    "most_viewed_month[0]['title']"
   ]
  },
  {
   "cell_type": "markdown",
   "id": "1784d2ab-b5f0-4fb0-8507-8cee3e52e71b",
   "metadata": {},
   "source": [
    "## 🥊 Challenge: Most Shared Stories\n",
    "\n",
    "The `most_shared` method is similiar to `most_viewed` except that it has an argument called `method` which is used to show the most shared articles using `'email'` or `'facebook'`.\n",
    "\n",
    "- Grab the most shared articles for both methods for the past month.\n",
    "- How many articles show up in both lists? (Hint: use the `uri` key)\n",
    "- Bonus: Use the [Shared Article](https://developer.nytimes.com/docs/most-popular-product/1/types/SharedArticle) schema table to help you answer a question you may have about the data."
   ]
  },
  {
   "cell_type": "markdown",
   "id": "224416c5-1397-458a-a3e9-30a5dcc29f94",
   "metadata": {},
   "source": [
    "| Attribute      | Data Type | Definition      |\n",
    "| ----------- | ----------- | ----------- |\n",
    "| url      | string       | Article's URL.       |\n",
    "| adx_keywords   | string        | Semicolon separated list of keywords.        |\n",
    "| subsection   | string        | Article's subsection (e.g. Politics). Can be empty |\n",
    "| column   | string        | Deprecated. Set to null.        |\n",
    "| eta_id   | integer        | Deprecated. Set to 0.|\n",
    "| section   | string        | Article's section (e.g. Sports).        |\n",
    "| id   | integer        | Asset ID number (e.g. 100000007772696).        |\n",
    "| asset_id   | integer        | Asset ID number (e.g. 100000007772696).        |\n",
    "| nytdsection   | string        | Article's section|\n",
    "| byline   | string        | Article's byline (e.g. By Thomas L. Friedman).        |\n",
    "| type   | string        | Asset type (e.g. Article, Interactive, ...).        |\n",
    "| title   | string        | Article's headline (e.g. When the Cellos Play, the Cows Come Home).        |\n",
    "| abstract   | string        | Brief summary of the article.|\n",
    "| published_date   | string        | When the article was published on the web (e.g. 2021-04-19).        |\n",
    "| source   | string        | Publisher (e.g. New York Times).        |\n",
    "| updated   | string        | When the article was last updated (e.g. 2021-05-12 06:32:03).|\n",
    "| des_facet   | array        | Array of description facets (e.g. Quarantine (Life and Culture)).        |\n",
    "| org_facet   | array        | Array of organization facets (e.g. Sullivan Street Bakery).        |\n",
    "| per_facet   | array        | Array of person facets (e.g. Bittman, Mark).        |\n",
    "| geo_facet   | array        | Array of geographic facets (e.g. Canada).        |\n",
    "| media   | array        | Array of images.        |\n",
    "| media.type   | string        | Asset type (e.g. image).        |\n",
    "| media.subtype   | string        | Asset subtype (e.g. photo).        |\n",
    "| media.caption   | string        | Media caption        |\n",
    "| media.copyright   | string        | Media credit        |\n",
    "| media.approved_for_syndication   | boolean        | Whether media is approved for syndication.        |\n",
    "| media.media-metadata   | array        | Media metadata (url, width, height, ...).        |\n",
    "| media.media-metadata.url   | string        | Image's URL.        |\n",
    "| media.media-metadata.format   | string        | Image's crop name     |\n",
    "| media.media-metadata.height   | integer        | Image's height |\n",
    "| media.media-metadata.width   | integer        | Image's width      |\n",
    "| uri   | string        | An article's globally unique identifier.      |"
   ]
  },
  {
   "cell_type": "code",
   "execution_count": 27,
   "id": "f5f49694-4e4d-40b9-a19f-e873c7107b56",
   "metadata": {},
   "outputs": [
    {
     "data": {
      "text/plain": [
       "'‘Kids Can’t Read’: The Revolt That Is Taking\\xa0On the Education Establishment'"
      ]
     },
     "metadata": {},
     "output_type": "display_data"
    },
    {
     "data": {
      "text/plain": [
       "'Whatever the Problem, It’s Probably Solved by Walking'"
      ]
     },
     "metadata": {},
     "output_type": "display_data"
    }
   ],
   "source": [
    "# YOUR CODE HERE\n",
    "\n",
    "most_shared_week = nyt.most_shared(days=7)\n",
    "most_shared_month = nyt.most_shared(days=30)\n",
    "\n",
    "display(most_shared_week[0]['title'])\n",
    "display(most_shared_month[0]['title']) \n",
    "\n"
   ]
  },
  {
   "cell_type": "markdown",
   "id": "d60086e2-a79b-47f3-a480-e58339194f3f",
   "metadata": {},
   "source": [
    "<a id='search'></a>\n",
    "\n",
    "# Article Search API\n",
    "\n",
    "Let's take it up a notch and use the search API to retrieve a set of articles about a particular topic in a chosen period of time.\n",
    "\n",
    "We'll use the `article_search` function. Two relevant parameters include:\n",
    "\n",
    "- `query`: The search query\n",
    "- `results`: Number of articles returned. The default is 10.\n",
    "\n",
    "Let's try pulling the 20 most recent articles about Berkeley:"
   ]
  },
  {
   "cell_type": "code",
   "execution_count": 28,
   "id": "b15ff11f-7049-488f-9d96-f689c430a576",
   "metadata": {},
   "outputs": [],
   "source": [
    "articles = nyt.article_search(query=\"Berkeley\", results=20)"
   ]
  },
  {
   "cell_type": "markdown",
   "id": "b4c2f903-afb6-4f74-a542-711c5e3d149e",
   "metadata": {},
   "source": [
    "Let's look at the main headlines of these articles:"
   ]
  },
  {
   "cell_type": "code",
   "execution_count": 29,
   "id": "d25dd533-b471-44fa-8739-0e7e0c756255",
   "metadata": {},
   "outputs": [
    {
     "data": {
      "text/plain": [
       "['Oumuamua Was a Comet After All, a Study Suggests',\n",
       " 'David Lance Goines, Who Shaped the Counterculture Aesthetic, Dies at 77',\n",
       " 'Tom Luddy, a Behind-the-Scenes Force in Cinema, Dies at 79',\n",
       " 'How the Gas-Stove Debate Has Played Out in California',\n",
       " 'At Berkeley Law, a Debate Over Zionism, Free Speech and Campus Ideals',\n",
       " 'U.C.L.A. Is Allowed by California Regents to Join Big Ten',\n",
       " 'The Climate Impact of Your Neighborhood, Mapped',\n",
       " 'Indigenous Founders of a Museum Cafe Put Repatriation on the Menu',\n",
       " 'As More Top Law Schools Boycott Rankings, Others Say They Can’t Afford to Leave',\n",
       " 'California Regents Set December Showdown for U.C.L.A.’s Big Ten Move',\n",
       " 'U.C.L.A. Faces Judgment Day with U.C. Regents, and Perhaps Lawmakers',\n",
       " 'University of California Academic Employees Strike for Higher Pay',\n",
       " 'Berkeley on a Budget',\n",
       " 'Berkeley',\n",
       " 'Berkeley',\n",
       " 'The Berkeley Model',\n",
       " 'The Berkeley Model',\n",
       " 'Weekend in Berkeley',\n",
       " \"From Busby Berkeley To 60's Berkeley\",\n",
       " 'Weekend in Berkeley']"
      ]
     },
     "execution_count": 29,
     "metadata": {},
     "output_type": "execute_result"
    }
   ],
   "source": [
    "headlines = [article['headline']['main'] for article in articles]\n",
    "headlines"
   ]
  },
  {
   "cell_type": "markdown",
   "id": "6cd24cf5-67c1-49fb-95fc-69aaddcc2702",
   "metadata": {},
   "source": [
    "We can also take a peek at the first article provided. We're going to remove the `multimedia` key in order to make it more easy to view:"
   ]
  },
  {
   "cell_type": "code",
   "execution_count": 30,
   "id": "0b780566-16a3-4a30-b016-a317cc213280",
   "metadata": {},
   "outputs": [
    {
     "data": {
      "text/plain": [
       "{'abstract': 'Astronomers offer “a surprisingly simple explanation” for the curious behavior of the interstellar visitor in 2017.',\n",
       " 'web_url': 'https://www.nytimes.com/2023/03/22/science/astronomy-oumuamua-comet.html',\n",
       " 'snippet': 'Astronomers offer “a surprisingly simple explanation” for the curious behavior of the interstellar visitor in 2017.',\n",
       " 'lead_paragraph': 'Was it alien space junk? A wandering interstellar asteroid? Or a weird comet from another sun?',\n",
       " 'print_section': 'D',\n",
       " 'print_page': '5',\n",
       " 'source': 'The New York Times',\n",
       " 'headline': {'main': 'Oumuamua Was a Comet After All, a Study Suggests',\n",
       "  'kicker': 'Out There',\n",
       "  'content_kicker': None,\n",
       "  'print_headline': 'Was a Mystery Visitor  A Comet After All?',\n",
       "  'name': None,\n",
       "  'seo': None,\n",
       "  'sub': None},\n",
       " 'keywords': [{'name': 'subject',\n",
       "   'value': 'Space and Astronomy',\n",
       "   'rank': 1,\n",
       "   'major': 'N'},\n",
       "  {'name': 'subject', 'value': 'Solar System', 'rank': 2, 'major': 'N'},\n",
       "  {'name': 'subject', 'value': 'Asteroids', 'rank': 3, 'major': 'N'},\n",
       "  {'name': 'subject', 'value': 'Comets', 'rank': 4, 'major': 'N'},\n",
       "  {'name': 'subject', 'value': 'Ice', 'rank': 5, 'major': 'N'},\n",
       "  {'name': 'organizations',\n",
       "   'value': 'Nature (Journal)',\n",
       "   'rank': 6,\n",
       "   'major': 'N'},\n",
       "  {'name': 'organizations',\n",
       "   'value': 'University of California, Berkeley',\n",
       "   'rank': 7,\n",
       "   'major': 'N'},\n",
       "  {'name': 'subject', 'value': 'your-feed-science', 'rank': 8, 'major': 'N'},\n",
       "  {'name': 'subject', 'value': 'Research', 'rank': 9, 'major': 'N'}],\n",
       " 'pub_date': datetime.datetime(2023, 3, 22, 15, 0, 8, tzinfo=datetime.timezone.utc),\n",
       " 'document_type': 'article',\n",
       " 'news_desk': 'Science',\n",
       " 'section_name': 'Science',\n",
       " 'byline': {'original': 'By Dennis Overbye',\n",
       "  'person': [{'firstname': 'Dennis',\n",
       "    'middlename': None,\n",
       "    'lastname': 'Overbye',\n",
       "    'qualifier': None,\n",
       "    'title': None,\n",
       "    'role': 'reported',\n",
       "    'organization': '',\n",
       "    'rank': 1}],\n",
       "  'organization': None},\n",
       " 'type_of_material': 'News',\n",
       " '_id': 'nyt://article/e357ff1c-a186-528b-bb4b-a1e315109409',\n",
       " 'word_count': 841,\n",
       " 'uri': 'nyt://article/e357ff1c-a186-528b-bb4b-a1e315109409'}"
      ]
     },
     "execution_count": 30,
     "metadata": {},
     "output_type": "execute_result"
    }
   ],
   "source": [
    "del articles[0]['multimedia']\n",
    "articles[0]"
   ]
  },
  {
   "cell_type": "markdown",
   "id": "34559fc2-0f44-4444-a19a-28817b103628",
   "metadata": {},
   "source": [
    "Notice that not all article data comes in the same format. Data from the search API is presented differently from that of the Most Viewed and Top Stories APIs.\n",
    "\n",
    "There are schemas for the above data. Unfortunately, they do not have definitions.\n",
    "\n",
    "- [Article Schema](https://developer.nytimes.com/docs/articlesearch-product/1/types/Article)\n",
    "- [Byline](https://developer.nytimes.com/docs/articlesearch-product/1/types/Byline)\n",
    "- [Headline](https://developer.nytimes.com/docs/articlesearch-product/1/types/Headline)\n",
    "- [Keyword](https://developer.nytimes.com/docs/articlesearch-product/1/types/Keyword)\n",
    "- [Multimedia](https://developer.nytimes.com/docs/articlesearch-product/1/types/Multimedia)\n",
    "- [Person](https://developer.nytimes.com/docs/articlesearch-product/1/types/Person)"
   ]
  },
  {
   "cell_type": "markdown",
   "id": "cb7fb990-96de-49dd-9611-4b798884321a",
   "metadata": {},
   "source": [
    "Let's try this again, but for a specific time period. \n",
    "\n",
    "For example, how would we retrieve all the articles about the first two months of the George Floyd protests?\n",
    "\n",
    "We need to pass a dictionary to the `dates` argument which contains keys named \"begin\" and \"end\". Those two keys point to `datetime` objects that we'll use as time markers. We're also going to use the `options` argument to filter and sort our results."
   ]
  },
  {
   "cell_type": "code",
   "execution_count": 31,
   "id": "5b86f60e-480f-4635-ba84-3dff7addfe17",
   "metadata": {},
   "outputs": [
    {
     "name": "stderr",
     "output_type": "stream",
     "text": [
      "/Library/Frameworks/Python.framework/Versions/3.11/lib/python3.11/site-packages/pynytimes/helpers/article_search.py:19: UserWarning: Asking for a lot of results, because of rate limits it can take a while.\n",
      "  warnings.warn(\n"
     ]
    }
   ],
   "source": [
    "# Set up start and end date objects\n",
    "begin = datetime(2020, 5, 23) # May 23, 2020\n",
    "end = datetime(2020, 7, 23) # July 23, 2020\n",
    "\n",
    "# Create a dictionary containing the datetime objects\n",
    "date_dict = {\"begin\": begin, \"end\": end}\n",
    "\n",
    "# Create options dictionary\n",
    "options_dict = {\n",
    "    # Sort from earliest to latest\n",
    "    \"sort\": \"oldest\",\n",
    "    # Return only articles from New York Times (filters out other sources such as AP and Reuters)\n",
    "    \"sources\": [\"New York Times\"],\n",
    "    # Return only news, analyses, and articles\n",
    "    \"type_of_material\": [\"News Analysis\", \"News\", \"Article\"]\n",
    "}\n",
    "\n",
    "articles = nyt.article_search(\n",
    "    query=\"George Floyd protest\",\n",
    "    results=100,\n",
    "    dates=date_dict,\n",
    "    options=options_dict)"
   ]
  },
  {
   "cell_type": "code",
   "execution_count": 32,
   "id": "8c39a319-9185-4740-99c0-f34c437b6e47",
   "metadata": {},
   "outputs": [
    {
     "data": {
      "text/plain": [
       "{'abstract': '“Being black in America should not be a death sentence,” the city’s mayor said as video of the arrest was widely shared.',\n",
       " 'web_url': 'https://www.nytimes.com/2020/05/26/us/minneapolis-police-man-died.html',\n",
       " 'snippet': '“Being black in America should not be a death sentence,” the city’s mayor said as video of the arrest was widely shared.',\n",
       " 'lead_paragraph': 'The F.B.I. and Minnesota law enforcement authorities are investigating the arrest of a black man who died after being handcuffed and pinned to the ground by an officer’s knee, in an episode that was recorded on video by a bystander and that sparked large protests in Minneapolis on Tuesday.',\n",
       " 'print_section': 'A',\n",
       " 'print_page': '23',\n",
       " 'source': 'The New York Times',\n",
       " 'headline': {'main': '‘I Can’t Breathe’: 4 Minneapolis Officers Fired After Black Man Dies in Custody',\n",
       "  'kicker': None,\n",
       "  'content_kicker': None,\n",
       "  'print_headline': ' F.B.I. Investigating Arrest; 4 Police Officers Lose Jobs',\n",
       "  'name': None,\n",
       "  'seo': None,\n",
       "  'sub': None},\n",
       " 'keywords': [{'name': 'organizations',\n",
       "   'value': 'Police Department (Minneapolis, Minn)',\n",
       "   'rank': 1,\n",
       "   'major': 'N'},\n",
       "  {'name': 'organizations',\n",
       "   'value': 'Federal Bureau of Investigation',\n",
       "   'rank': 2,\n",
       "   'major': 'N'},\n",
       "  {'name': 'persons',\n",
       "   'value': 'Frey, Jacob (1981- )',\n",
       "   'rank': 3,\n",
       "   'major': 'N'},\n",
       "  {'name': 'glocations',\n",
       "   'value': 'Minneapolis (Minn)',\n",
       "   'rank': 4,\n",
       "   'major': 'N'},\n",
       "  {'name': 'persons',\n",
       "   'value': 'Floyd, George (d 2020)',\n",
       "   'rank': 5,\n",
       "   'major': 'N'},\n",
       "  {'name': 'subject', 'value': 'Black People', 'rank': 6, 'major': 'N'},\n",
       "  {'name': 'subject', 'value': 'Blacks', 'rank': 7, 'major': 'N'},\n",
       "  {'name': 'subject',\n",
       "   'value': 'Police Brutality, Misconduct and Shootings',\n",
       "   'rank': 8,\n",
       "   'major': 'N'},\n",
       "  {'name': 'subject',\n",
       "   'value': 'Video Recordings, Downloads and Streaming',\n",
       "   'rank': 9,\n",
       "   'major': 'N'},\n",
       "  {'name': 'subject',\n",
       "   'value': 'Demonstrations, Protests and Riots',\n",
       "   'rank': 10,\n",
       "   'major': 'N'},\n",
       "  {'name': 'subject',\n",
       "   'value': 'George Floyd Protests (2020)',\n",
       "   'rank': 11,\n",
       "   'major': 'N'},\n",
       "  {'name': 'subject',\n",
       "   'value': 'Black Lives Matter Movement',\n",
       "   'rank': 12,\n",
       "   'major': 'N'}],\n",
       " 'pub_date': datetime.datetime(2020, 5, 26, 14, 15, 53, tzinfo=datetime.timezone.utc),\n",
       " 'document_type': 'article',\n",
       " 'news_desk': 'Express',\n",
       " 'section_name': 'U.S.',\n",
       " 'byline': {'original': 'By Christine Hauser, Derrick Bryson Taylor and Neil Vigdor',\n",
       "  'person': [{'firstname': 'Christine',\n",
       "    'middlename': None,\n",
       "    'lastname': 'Hauser',\n",
       "    'qualifier': None,\n",
       "    'title': None,\n",
       "    'role': 'reported',\n",
       "    'organization': '',\n",
       "    'rank': 1},\n",
       "   {'firstname': 'Derrick',\n",
       "    'middlename': 'Bryson',\n",
       "    'lastname': 'Taylor',\n",
       "    'qualifier': None,\n",
       "    'title': None,\n",
       "    'role': 'reported',\n",
       "    'organization': '',\n",
       "    'rank': 2},\n",
       "   {'firstname': 'Neil',\n",
       "    'middlename': None,\n",
       "    'lastname': 'Vigdor',\n",
       "    'qualifier': None,\n",
       "    'title': None,\n",
       "    'role': 'reported',\n",
       "    'organization': '',\n",
       "    'rank': 3}],\n",
       "  'organization': None},\n",
       " 'type_of_material': 'News',\n",
       " '_id': 'nyt://article/6d905f40-f7db-5716-a1c6-18d2eb62c7c6',\n",
       " 'word_count': 1590,\n",
       " 'uri': 'nyt://article/6d905f40-f7db-5716-a1c6-18d2eb62c7c6'}"
      ]
     },
     "execution_count": 32,
     "metadata": {},
     "output_type": "execute_result"
    }
   ],
   "source": [
    "# Grab first article and drop the multimedia key to reduce clutter\n",
    "article = articles[0]\n",
    "del article[\"multimedia\"]\n",
    "\n",
    "# Check out results\n",
    "article"
   ]
  },
  {
   "cell_type": "markdown",
   "id": "c33ad4d2-d283-466b-a395-b56fd9817a3a",
   "metadata": {},
   "source": [
    "## 🥊 Challenge: Article Searching\n",
    "\n",
    "- Retrieve a set of articles for a query of your choice.\n",
    "- Use a relevant time interval in constructing your `dates` dictionary\n",
    "- Use `type_of_material` and `section_name` as keys in your `options` dictionary.\n",
    "    - For `type_of_material` values refer to this [list](https://github.com/michadenheijer/pynytimes/blob/main/VALID_SEARCH_OPTIONS.md#type-of-material-values).\n",
    "    - For `section_name` values refer to this [list](https://github.com/michadenheijer/pynytimes/blob/main/VALID_SEARCH_OPTIONS.md#section-name-values)."
   ]
  },
  {
   "cell_type": "code",
   "execution_count": 34,
   "id": "5dce99e3-4cf1-475e-a7a2-7f545f06d6e3",
   "metadata": {},
   "outputs": [
    {
     "data": {
      "text/plain": [
       "['Lawmakers Question Pentagon on Ukraine Funds, Signaling Fresh Concerns',\n",
       " 'Blinken Finds Receptive Leaders in Central Asia, Where Russia Seeks Aid',\n",
       " 'U.S. fears Lukashenko’s visit to China is strengthening ties between Russia’s closest allies.',\n",
       " 'In an Epic Battle of Tanks, Russia Was Routed, Repeating Earlier Mistakes',\n",
       " '14 Books Coming in March',\n",
       " 'A Threat to Abortion Pills. Plus, the U.S. Shares Secrets.',\n",
       " 'Denmark scraps a religious holiday, adding money to the country’s military budget.',\n",
       " 'Ukraine is sending reinforcements after the Russians surrounded Bakhmut on three sides.',\n",
       " 'Why Brexit’s immigration politics have fizzled out',\n",
       " 'Ancient DNA Reveals History of Hunter-Gatherers in Europe',\n",
       " 'Quake Will Not Delay Elections in Turkey, President Says',\n",
       " 'Finland on Cusp of Joining NATO, but Maybe Not With Sweden',\n",
       " 'Unionists in Northern Ireland Face Dilemma Over Accepting New Trade Deal',\n",
       " 'U.S. Braces for G20 Clash Over Ukraine War',\n",
       " 'Ukraine Reinforces Embattled Bakhmut, but Mission Is Unclear',\n",
       " 'Biden Challenged by Softening Public Support for Arming Ukraine',\n",
       " 'Leave Russia? A Year Later Many Companies Can’t, or Won’t.',\n",
       " 'In the Ukraine war, talking about peace is a fight of its own.',\n",
       " 'New Biden Cybersecurity Strategy Assigns Responsibility to Tech Firms',\n",
       " 'A Homecoming for Dutch Masters, Thanks to an American Billionaire',\n",
       " 'A Ukrainian Mayor Disappeared, but Questions of His Loyalty Did Not',\n",
       " 'Art Rooted in Nature Blooms at TEFAF',\n",
       " 'Eurozone Inflation Edges Lower, but Pressure on Prices Continues',\n",
       " 'What Are Your Thoughts About a Year of War in Ukraine?',\n",
       " 'Teaching About a Year of War in Ukraine',\n",
       " 'Art and War',\n",
       " 'The Battle Over E.S.G. Heads to the White House',\n",
       " 'Yo-Yo Ma Makes His Encore a Call for Peace, With a Nod to Casals',\n",
       " 'Growing a Generation of Movie-Loving Global Citizens',\n",
       " 'Facing a Backlash in Africa, France Promises ‘Modesty and Listening’',\n",
       " 'Russian partisans with ties to Ukraine say they briefly took control of a village in Russia.',\n",
       " 'Office Mandates. Pickleball. Beer. What Will Make Hybrid Work Stick?',\n",
       " 'Ron DeSantis Usually Avoids the Press. For Murdoch, He’ll Make an Exception.',\n",
       " 'In First Wartime Meeting, Blinken Confronts His Russian Counterpart',\n",
       " 'Incursion in Russian Border Town Puts Kremlin on Emergency Footing',\n",
       " 'At U.S. Base in Germany, Ukraine’s Military Conducts War Games',\n",
       " 'Two Kansas Men Illegally Sold Aviation Equipment to Russia, U.S. Says',\n",
       " 'The German chancellor is visiting Biden as urgency builds on Ukraine.',\n",
       " 'Germany’s Scholz Visits Washington Amid Worries Over Ukraine ‘End Game’',\n",
       " 'They Sneaked Into a Derelict Arms Plant: Instagrammers\\xa0or Spies?',\n",
       " 'The E.U. Offered to Embrace Ukraine, but Now What?',\n",
       " 'The Pilot or the Marine? Biden May Soon Announce His Pick\\xa0for Top Officer.',\n",
       " 'Why Russia Is Taking Thousands of Ukrainian Children',\n",
       " 'The U.S. will send more ammunition to Ukraine.',\n",
       " 'Sci-Fi Style Comes Down to Earth',\n",
       " 'China Increasingly Seen as Antagonist in Diplomatic Talks Around the World',\n",
       " 'The U.S. will send $400 million in new military aid to Ukraine, including precision-guided rockets.',\n",
       " 'King Charles Will Travel to France and Germany for First State Visits',\n",
       " 'The Coal Challenge',\n",
       " 'Dasha Zhukova’s Artful Rise',\n",
       " 'When Winter Meets Spring, It’s Time for These Vegetarian Soups',\n",
       " 'In Chernobyl’s Stray Dogs, Scientists Look for Genetic Effects of Radiation',\n",
       " 'Nobel Prize Is No Defense Against Jail for a Winner in Belarus',\n",
       " 'A Year Into War, Russian Artists Still Must Navigate a Tricky Path',\n",
       " 'The U.S. attorney general meets with Zelensky during a surprise visit to Ukraine.',\n",
       " 'Lesion Removed During Biden’s Physical Was Cancerous',\n",
       " 'As Ukraine Clings to Bakhmut, What’s Its Strategy and What’s at Stake?',\n",
       " 'Biden Meets With German Chancellor\\xa0Amid Concerns Over Ukraine and China',\n",
       " 'How Xi Jinping Plans to Bolster Confidence in China After Covid Missteps',\n",
       " 'The Woman Shaking Up Italian Politics (No, Not the New Prime Minister)',\n",
       " 'On Wall St., ‘Socially Responsible’ Is Common Sense. In Congress, It’s Political.',\n",
       " 'With Ukraine Under Pressure in Bakhmut, Fight Becomes a Battle Over Roads',\n",
       " 'Whirring Into Action in Ukraine’s Skies',\n",
       " 'In Syria, Milley Says U.S. Troops Are Still Needed to Counter ISIS',\n",
       " 'After China’s Winter of Discontent, Xi Jinping Sets Sights on Growth and Power',\n",
       " 'Fact-Checking Trump’s Speech at CPAC',\n",
       " 'To Prepare for a Pacific Island Fight, Marines Hide and Attack in California',\n",
       " 'They’re Exporting Billions in Arms. Just Not to Ukraine.',\n",
       " 'Russian Forces Attack Bakhmut From Three Directions',\n",
       " 'The Week in Business: The Escalating Battle Over E.S.G.',\n",
       " 'What’s Going On in This Picture? | March 6, 2023',\n",
       " 'This Is What Trench Warfare on the Front Line Is Like',\n",
       " 'Word of the Day: fusillade',\n",
       " 'Food security, energy and military aid: What to watch for this week.',\n",
       " 'Ukraine’s helicopter brigades defy odds to remain operational.',\n",
       " 'The West is scrambling to find Soviet-era weapons for Ukraine.',\n",
       " 'Ukrainian Soldiers, Nearly Encircled, Push Russians Back',\n",
       " 'Estonia Election Delivers Vote of Confidence for Ukraine Aid',\n",
       " 'Ukraine Claims a Drone Strike on a Military Target Inside Russia',\n",
       " 'Belarus sentences the country’s exiled opposition leader to 15 years in prison.',\n",
       " 'Ukraine claims a drone strike on a military target inside Russia.',\n",
       " 'In the Papers of Yiddish Novelist Chaim Grade, Clues to His Lesser Fame',\n",
       " 'The Vienna Philharmonic Tends the Classics With a Perfect Partner',\n",
       " 'A Rival for Erdogan Emerges as Opposition Parties Pick a Candidate',\n",
       " 'He Heeded Russia’s Call to Enlist. Five Months Later, He Was Dead.',\n",
       " 'A video shows the apparent execution of a Ukrainian prisoner of war.',\n",
       " 'Ukraine Signals It Will Keep Battling for Bakhmut to Drain Russia',\n",
       " 'Zelensky says Ukrainian troops won’t withdraw from Bakhmut.',\n",
       " 'China’s Leader, With Rare Bluntness, Blames U.S. Containment for Troubles',\n",
       " '‘The Last of Us’ Continues Craig Mazin’s Hollywood Ascent',\n",
       " '‘Don’t Break It!’ The New Hosts of ‘Radiolab’ Remodel a Landmark',\n",
       " 'In Oklahoma, a Freshman Republican Makes the Case for Deep Spending Cuts',\n",
       " 'Moldova’s Pro-Europe Leader Tries to Thwart Russia’s Influence',\n",
       " 'A Russian Editor Evades Putin’s Censorship',\n",
       " 'The Second Year of Russia’s Invasion of Ukraine, in Pictures',\n",
       " 'Review: ‘The Great British Bake Off Musical’ Is Sweet but Underbaked',\n",
       " 'Intelligence Suggests Pro-Ukrainian Group Sabotaged Pipelines, U.S. Officials Say',\n",
       " 'Conditions at the Zaporizhzhia nuclear plant have deteriorated, Ukraine says.',\n",
       " 'Biden to Host South Korean President for State Visit in April',\n",
       " 'A Ukrainian ex-prosecutor involved in events related to Trump’s first impeachment loses his military command.']"
      ]
     },
     "execution_count": 34,
     "metadata": {},
     "output_type": "execute_result"
    }
   ],
   "source": [
    "# YOUR CODE HERE\n",
    "\n",
    "# Set up start and end date objects\n",
    "begin = datetime(2023, 3, 1) # May 23, 2020\n",
    "end = datetime(2023, 4, 1) # July 23, 2020\n",
    "\n",
    "# Create a dictionary containing the datetime objects\n",
    "date_dict = {\"begin\": begin, \"end\": end}\n",
    "\n",
    "# Create options dictionary\n",
    "options_dict = {\n",
    "    # Sort from earliest to latest\n",
    "    \"sort\": \"oldest\",\n",
    "    # Return only articles from New York Times (filters out other sources such as AP and Reuters)\n",
    "    \"sources\": [\"New York Times\"],\n",
    "    # Return only news, analyses, and articles\n",
    "    \"type_of_material\": [\"News Analysis\", \"News\", \"Article\"]\n",
    "}\n",
    "\n",
    "articles = nyt.article_search(\n",
    "    query=\"Ukraine\",\n",
    "    results=100,\n",
    "    dates=date_dict,\n",
    "    options=options_dict)\n",
    "\n",
    "headlines = [article['headline']['main'] for article in articles]\n",
    "headlines\n",
    "\n"
   ]
  },
  {
   "cell_type": "markdown",
   "id": "49f4b3b3-2b4a-4a20-9a79-ca90d90262f8",
   "metadata": {},
   "source": [
    "<a id='analysis'></a>\n",
    "\n",
    "# Data Analysis\n",
    "\n",
    "Now, we'll perform a data analysis on many articles about the 2020 presidential election."
   ]
  },
  {
   "cell_type": "markdown",
   "id": "84d24acd-e050-424c-af03-67e708db4737",
   "metadata": {},
   "source": [
    "We are working with previously queried set of articles because making the API call will take too much time. The code used to queried the articles we'll analyze can be found in the following cell:"
   ]
  },
  {
   "cell_type": "markdown",
   "id": "9d1d5e83-a645-4b35-9084-fca5dd408363",
   "metadata": {},
   "source": [
    "## Query Using the Article Search API"
   ]
  },
  {
   "cell_type": "code",
   "execution_count": 36,
   "id": "3a4a7832-3186-45c6-8b43-e52c99486526",
   "metadata": {},
   "outputs": [],
   "source": [
    "# Change this variable if you'd like to run the query yourself\n",
    "run_query = False\n",
    "\n",
    "# Only run this code if you're able to wait for the query to finish\n",
    "if run_query:\n",
    "    # Create datetime objects\n",
    "    begin = datetime(2020, 9, 7) # September 7, 2020\n",
    "    end = datetime(2020, 11, 7) # November 7, 2020\n",
    "    date_dict = {\"begin\": begin, \"end\": end}\n",
    "\n",
    "    options_dict = {\n",
    "        \"sort\": \"oldest\",\n",
    "        \"sources\": [\"New York Times\",],\n",
    "        \"type_of_material\": [\"News Analysis\", \"News\", \"Article\", \"Editorial\"]\n",
    "    }\n",
    "\n",
    "    # To get the dataset we use, set n_results to 2000\n",
    "    n_results = 2000\n",
    "    # n_results = 10\n",
    "\n",
    "    # Perform article search query\n",
    "    articles = nyt.article_search(\n",
    "         query=\"presidential election\",\n",
    "         results=n_results,\n",
    "         dates=date_dict,\n",
    "         options=options_dict)\n",
    "\n",
    "    # Create DataFrame \n",
    "    df = pd.json_normalize(articles)\n",
    "\n",
    "    # Save DataFrame\n",
    "    df.to_pickle(\"election2020_articles.pkl\")"
   ]
  },
  {
   "cell_type": "markdown",
   "id": "4561fe76-6d07-46c5-bda7-9973e7631ed7",
   "metadata": {},
   "source": [
    "Let's load in the previously saved data:"
   ]
  },
  {
   "cell_type": "code",
   "execution_count": 37,
   "id": "cb310d22-895a-4dff-8442-247aa8b02b42",
   "metadata": {},
   "outputs": [
    {
     "data": {
      "text/html": [
       "<div>\n",
       "<style scoped>\n",
       "    .dataframe tbody tr th:only-of-type {\n",
       "        vertical-align: middle;\n",
       "    }\n",
       "\n",
       "    .dataframe tbody tr th {\n",
       "        vertical-align: top;\n",
       "    }\n",
       "\n",
       "    .dataframe thead th {\n",
       "        text-align: right;\n",
       "    }\n",
       "</style>\n",
       "<table border=\"1\" class=\"dataframe\">\n",
       "  <thead>\n",
       "    <tr style=\"text-align: right;\">\n",
       "      <th></th>\n",
       "      <th>abstract</th>\n",
       "      <th>web_url</th>\n",
       "      <th>snippet</th>\n",
       "      <th>lead_paragraph</th>\n",
       "      <th>print_section</th>\n",
       "      <th>print_page</th>\n",
       "      <th>source</th>\n",
       "      <th>keywords</th>\n",
       "      <th>pub_date</th>\n",
       "      <th>document_type</th>\n",
       "      <th>...</th>\n",
       "      <th>headline.main</th>\n",
       "      <th>headline.kicker</th>\n",
       "      <th>headline.content_kicker</th>\n",
       "      <th>headline.print_headline</th>\n",
       "      <th>headline.name</th>\n",
       "      <th>headline.seo</th>\n",
       "      <th>headline.sub</th>\n",
       "      <th>byline.original</th>\n",
       "      <th>byline.person</th>\n",
       "      <th>byline.organization</th>\n",
       "    </tr>\n",
       "  </thead>\n",
       "  <tbody>\n",
       "    <tr>\n",
       "      <th>0</th>\n",
       "      <td>President Trump will try to put the media on t...</td>\n",
       "      <td>https://www.nytimes.com/2020/09/06/business/me...</td>\n",
       "      <td>President Trump will try to put the media on t...</td>\n",
       "      <td>The worst thing about being a reporter in the ...</td>\n",
       "      <td>B</td>\n",
       "      <td>3</td>\n",
       "      <td>The New York Times</td>\n",
       "      <td>[{'name': 'subject', 'value': 'News and News M...</td>\n",
       "      <td>2020-09-07 01:30:15+00:00</td>\n",
       "      <td>article</td>\n",
       "      <td>...</td>\n",
       "      <td>Journalists Aren’t the Enemy of the People. Bu...</td>\n",
       "      <td>the media equation</td>\n",
       "      <td>None</td>\n",
       "      <td>We Aren’t the Enemy of the People. But We’re N...</td>\n",
       "      <td>None</td>\n",
       "      <td>None</td>\n",
       "      <td>None</td>\n",
       "      <td>By Ben Smith</td>\n",
       "      <td>[{'firstname': 'Ben', 'middlename': None, 'las...</td>\n",
       "      <td>None</td>\n",
       "    </tr>\n",
       "    <tr>\n",
       "      <th>1</th>\n",
       "      <td>Forced underground in the 1990s to a life of c...</td>\n",
       "      <td>https://www.nytimes.com/2020/09/06/world/europ...</td>\n",
       "      <td>Forced underground in the 1990s to a life of c...</td>\n",
       "      <td>MINSK, Belarus — Pit Pawlaw, guitar in hand, b...</td>\n",
       "      <td>A</td>\n",
       "      <td>1</td>\n",
       "      <td>The New York Times</td>\n",
       "      <td>[{'name': 'subject', 'value': 'Demonstrations,...</td>\n",
       "      <td>2020-09-07 02:00:10+00:00</td>\n",
       "      <td>article</td>\n",
       "      <td>...</td>\n",
       "      <td>For Aging Belarus Rockers, a Late Shot at Stardom</td>\n",
       "      <td>None</td>\n",
       "      <td>None</td>\n",
       "      <td>Aging Rockers Emerge to Lead Belarus Revolt</td>\n",
       "      <td>None</td>\n",
       "      <td>None</td>\n",
       "      <td>None</td>\n",
       "      <td>By Anton Troianovski</td>\n",
       "      <td>[{'firstname': 'Anton', 'middlename': None, 'l...</td>\n",
       "      <td>None</td>\n",
       "    </tr>\n",
       "    <tr>\n",
       "      <th>2</th>\n",
       "      <td>The vice-presidential candidates will be on op...</td>\n",
       "      <td>https://www.nytimes.com/2020/09/07/us/politics...</td>\n",
       "      <td>The vice-presidential candidates will be on op...</td>\n",
       "      <td>LA CROSSE, Wis. — Labor Day is the traditional...</td>\n",
       "      <td>NaN</td>\n",
       "      <td>NaN</td>\n",
       "      <td>The New York Times</td>\n",
       "      <td>[{'name': 'persons', 'value': 'Harris, Kamala ...</td>\n",
       "      <td>2020-09-07 04:01:08+00:00</td>\n",
       "      <td>article</td>\n",
       "      <td>...</td>\n",
       "      <td>What to Watch For as Harris and Pence Visit Wi...</td>\n",
       "      <td>None</td>\n",
       "      <td>None</td>\n",
       "      <td>None</td>\n",
       "      <td>None</td>\n",
       "      <td>None</td>\n",
       "      <td>None</td>\n",
       "      <td>By Jonathan Martin</td>\n",
       "      <td>[{'firstname': 'Jonathan', 'middlename': None,...</td>\n",
       "      <td>None</td>\n",
       "    </tr>\n",
       "    <tr>\n",
       "      <th>3</th>\n",
       "      <td>Communities are running short on time to hire ...</td>\n",
       "      <td>https://www.nytimes.com/2020/09/07/us/politics...</td>\n",
       "      <td>Communities are running short on time to hire ...</td>\n",
       "      <td>PHILADELPHIA — Unnerved by the difficulties of...</td>\n",
       "      <td>A</td>\n",
       "      <td>1</td>\n",
       "      <td>The New York Times</td>\n",
       "      <td>[{'name': 'subject', 'value': 'Voting and Vote...</td>\n",
       "      <td>2020-09-07 07:00:09+00:00</td>\n",
       "      <td>article</td>\n",
       "      <td>...</td>\n",
       "      <td>In Year of Voting by Mail, a Scramble to Beef ...</td>\n",
       "      <td>None</td>\n",
       "      <td>None</td>\n",
       "      <td>Safety Shapes Plans to Fortify Voting Stations</td>\n",
       "      <td>None</td>\n",
       "      <td>None</td>\n",
       "      <td>None</td>\n",
       "      <td>By Nick Corasaniti and Michael Wines</td>\n",
       "      <td>[{'firstname': 'Nick', 'middlename': None, 'la...</td>\n",
       "      <td>None</td>\n",
       "    </tr>\n",
       "    <tr>\n",
       "      <th>4</th>\n",
       "      <td>Prime Minister Boris Johnson is threatening to...</td>\n",
       "      <td>https://www.nytimes.com/2020/09/07/world/europ...</td>\n",
       "      <td>Prime Minister Boris Johnson is threatening to...</td>\n",
       "      <td>LONDON — Bellicose threats to walk away from t...</td>\n",
       "      <td>A</td>\n",
       "      <td>9</td>\n",
       "      <td>The New York Times</td>\n",
       "      <td>[{'name': 'subject', 'value': 'Great Britain W...</td>\n",
       "      <td>2020-09-07 17:15:32+00:00</td>\n",
       "      <td>article</td>\n",
       "      <td>...</td>\n",
       "      <td>As Brexit Deadlines Loom, the Posturing and Bi...</td>\n",
       "      <td>None</td>\n",
       "      <td>None</td>\n",
       "      <td>Brinkmanship Permeates Brexit Trade Deal Sessions</td>\n",
       "      <td>None</td>\n",
       "      <td>None</td>\n",
       "      <td>None</td>\n",
       "      <td>By Mark Landler and Stephen Castle</td>\n",
       "      <td>[{'firstname': 'Mark', 'middlename': None, 'la...</td>\n",
       "      <td>None</td>\n",
       "    </tr>\n",
       "  </tbody>\n",
       "</table>\n",
       "<p>5 rows × 27 columns</p>\n",
       "</div>"
      ],
      "text/plain": [
       "                                            abstract   \n",
       "0  President Trump will try to put the media on t...  \\\n",
       "1  Forced underground in the 1990s to a life of c...   \n",
       "2  The vice-presidential candidates will be on op...   \n",
       "3  Communities are running short on time to hire ...   \n",
       "4  Prime Minister Boris Johnson is threatening to...   \n",
       "\n",
       "                                             web_url   \n",
       "0  https://www.nytimes.com/2020/09/06/business/me...  \\\n",
       "1  https://www.nytimes.com/2020/09/06/world/europ...   \n",
       "2  https://www.nytimes.com/2020/09/07/us/politics...   \n",
       "3  https://www.nytimes.com/2020/09/07/us/politics...   \n",
       "4  https://www.nytimes.com/2020/09/07/world/europ...   \n",
       "\n",
       "                                             snippet   \n",
       "0  President Trump will try to put the media on t...  \\\n",
       "1  Forced underground in the 1990s to a life of c...   \n",
       "2  The vice-presidential candidates will be on op...   \n",
       "3  Communities are running short on time to hire ...   \n",
       "4  Prime Minister Boris Johnson is threatening to...   \n",
       "\n",
       "                                      lead_paragraph print_section print_page   \n",
       "0  The worst thing about being a reporter in the ...             B          3  \\\n",
       "1  MINSK, Belarus — Pit Pawlaw, guitar in hand, b...             A          1   \n",
       "2  LA CROSSE, Wis. — Labor Day is the traditional...           NaN        NaN   \n",
       "3  PHILADELPHIA — Unnerved by the difficulties of...             A          1   \n",
       "4  LONDON — Bellicose threats to walk away from t...             A          9   \n",
       "\n",
       "               source                                           keywords   \n",
       "0  The New York Times  [{'name': 'subject', 'value': 'News and News M...  \\\n",
       "1  The New York Times  [{'name': 'subject', 'value': 'Demonstrations,...   \n",
       "2  The New York Times  [{'name': 'persons', 'value': 'Harris, Kamala ...   \n",
       "3  The New York Times  [{'name': 'subject', 'value': 'Voting and Vote...   \n",
       "4  The New York Times  [{'name': 'subject', 'value': 'Great Britain W...   \n",
       "\n",
       "                   pub_date document_type  ...   \n",
       "0 2020-09-07 01:30:15+00:00       article  ...  \\\n",
       "1 2020-09-07 02:00:10+00:00       article  ...   \n",
       "2 2020-09-07 04:01:08+00:00       article  ...   \n",
       "3 2020-09-07 07:00:09+00:00       article  ...   \n",
       "4 2020-09-07 17:15:32+00:00       article  ...   \n",
       "\n",
       "                                       headline.main     headline.kicker   \n",
       "0  Journalists Aren’t the Enemy of the People. Bu...  the media equation  \\\n",
       "1  For Aging Belarus Rockers, a Late Shot at Stardom                None   \n",
       "2  What to Watch For as Harris and Pence Visit Wi...                None   \n",
       "3  In Year of Voting by Mail, a Scramble to Beef ...                None   \n",
       "4  As Brexit Deadlines Loom, the Posturing and Bi...                None   \n",
       "\n",
       "  headline.content_kicker                            headline.print_headline   \n",
       "0                    None  We Aren’t the Enemy of the People. But We’re N...  \\\n",
       "1                    None        Aging Rockers Emerge to Lead Belarus Revolt   \n",
       "2                    None                                               None   \n",
       "3                    None     Safety Shapes Plans to Fortify Voting Stations   \n",
       "4                    None  Brinkmanship Permeates Brexit Trade Deal Sessions   \n",
       "\n",
       "  headline.name  headline.seo headline.sub   \n",
       "0          None          None         None  \\\n",
       "1          None          None         None   \n",
       "2          None          None         None   \n",
       "3          None          None         None   \n",
       "4          None          None         None   \n",
       "\n",
       "                        byline.original   \n",
       "0                          By Ben Smith  \\\n",
       "1                  By Anton Troianovski   \n",
       "2                    By Jonathan Martin   \n",
       "3  By Nick Corasaniti and Michael Wines   \n",
       "4    By Mark Landler and Stephen Castle   \n",
       "\n",
       "                                       byline.person byline.organization  \n",
       "0  [{'firstname': 'Ben', 'middlename': None, 'las...                None  \n",
       "1  [{'firstname': 'Anton', 'middlename': None, 'l...                None  \n",
       "2  [{'firstname': 'Jonathan', 'middlename': None,...                None  \n",
       "3  [{'firstname': 'Nick', 'middlename': None, 'la...                None  \n",
       "4  [{'firstname': 'Mark', 'middlename': None, 'la...                None  \n",
       "\n",
       "[5 rows x 27 columns]"
      ]
     },
     "execution_count": 37,
     "metadata": {},
     "output_type": "execute_result"
    }
   ],
   "source": [
    "df = pd.read_pickle(\"../data/election2020_articles.pkl\")\n",
    "df.head()"
   ]
  },
  {
   "cell_type": "code",
   "execution_count": 38,
   "id": "65e4aa87-5f4b-42c6-8f6a-c252e91cdc60",
   "metadata": {},
   "outputs": [
    {
     "name": "stdout",
     "output_type": "stream",
     "text": [
      "<class 'pandas.core.frame.DataFrame'>\n",
      "RangeIndex: 1803 entries, 0 to 1802\n",
      "Data columns (total 27 columns):\n",
      " #   Column                   Non-Null Count  Dtype              \n",
      "---  ------                   --------------  -----              \n",
      " 0   abstract                 1803 non-null   object             \n",
      " 1   web_url                  1803 non-null   object             \n",
      " 2   snippet                  1803 non-null   object             \n",
      " 3   lead_paragraph           1803 non-null   object             \n",
      " 4   print_section            1052 non-null   object             \n",
      " 5   print_page               1052 non-null   object             \n",
      " 6   source                   1803 non-null   object             \n",
      " 7   keywords                 1803 non-null   object             \n",
      " 8   pub_date                 1803 non-null   datetime64[ns, UTC]\n",
      " 9   document_type            1803 non-null   object             \n",
      " 10  news_desk                1803 non-null   object             \n",
      " 11  section_name             1803 non-null   object             \n",
      " 12  subsection_name          1232 non-null   object             \n",
      " 13  type_of_material         1803 non-null   object             \n",
      " 14  _id                      1803 non-null   object             \n",
      " 15  word_count               1803 non-null   int64              \n",
      " 16  uri                      1803 non-null   object             \n",
      " 17  headline.main            1803 non-null   object             \n",
      " 18  headline.kicker          322 non-null    object             \n",
      " 19  headline.content_kicker  0 non-null      object             \n",
      " 20  headline.print_headline  1050 non-null   object             \n",
      " 21  headline.name            0 non-null      object             \n",
      " 22  headline.seo             0 non-null      object             \n",
      " 23  headline.sub             0 non-null      object             \n",
      " 24  byline.original          1726 non-null   object             \n",
      " 25  byline.person            1803 non-null   object             \n",
      " 26  byline.organization      32 non-null     object             \n",
      "dtypes: datetime64[ns, UTC](1), int64(1), object(25)\n",
      "memory usage: 380.4+ KB\n"
     ]
    }
   ],
   "source": [
    "# Inspect metadata\n",
    "df.info()"
   ]
  },
  {
   "cell_type": "markdown",
   "id": "3e46337e-600b-45a6-bf77-6a858efc1383",
   "metadata": {},
   "source": [
    "## Perform Sentiment Analysis\n",
    "\n",
    "Sentiment analysis is a common task when working with text data. Let's track the sentiment of articles about the election over the two month time period. We'll use the `vadersentiment` package to evaluate the sentiment of each article.\n",
    "\n",
    "According to the [VADER Github Repo](https://github.com/cjhutto/vaderSentiment), \"VADER (Valence Aware Dictionary and sEntiment Reasoner) is a lexicon and rule-based sentiment analysis tool that is *specifically attuned to sentiments expressed in social media*.\"\n",
    "\n",
    "We'll start by installing the `vadersentiment` library."
   ]
  },
  {
   "cell_type": "code",
   "execution_count": 39,
   "id": "b440d3fb-2ad2-4587-b395-2c862c5009aa",
   "metadata": {},
   "outputs": [
    {
     "name": "stdout",
     "output_type": "stream",
     "text": [
      "Collecting vadersentiment\n",
      "  Downloading vaderSentiment-3.3.2-py2.py3-none-any.whl (125 kB)\n",
      "\u001b[2K     \u001b[90m━━━━━━━━━━━━━━━━━━━━━━━━━━━━━━━━━━━━━━━\u001b[0m \u001b[32m126.0/126.0 kB\u001b[0m \u001b[31m5.1 MB/s\u001b[0m eta \u001b[36m0:00:00\u001b[0m\n",
      "\u001b[?25hRequirement already satisfied: requests in /Library/Frameworks/Python.framework/Versions/3.11/lib/python3.11/site-packages (from vadersentiment) (2.28.1)\n",
      "Requirement already satisfied: charset-normalizer<3,>=2 in /Library/Frameworks/Python.framework/Versions/3.11/lib/python3.11/site-packages (from requests->vadersentiment) (2.1.1)\n",
      "Requirement already satisfied: idna<4,>=2.5 in /Library/Frameworks/Python.framework/Versions/3.11/lib/python3.11/site-packages (from requests->vadersentiment) (3.4)\n",
      "Requirement already satisfied: urllib3<1.27,>=1.21.1 in /Library/Frameworks/Python.framework/Versions/3.11/lib/python3.11/site-packages (from requests->vadersentiment) (1.26.15)\n",
      "Requirement already satisfied: certifi>=2017.4.17 in /Library/Frameworks/Python.framework/Versions/3.11/lib/python3.11/site-packages (from requests->vadersentiment) (2022.9.24)\n",
      "Installing collected packages: vadersentiment\n",
      "Successfully installed vadersentiment-3.3.2\n",
      "Note: you may need to restart the kernel to use updated packages.\n"
     ]
    }
   ],
   "source": [
    "# Install the vadersentiment library\n",
    "%pip install vadersentiment"
   ]
  },
  {
   "cell_type": "code",
   "execution_count": 40,
   "id": "3477c354-ce11-478c-9f99-1a24c0fbc549",
   "metadata": {},
   "outputs": [],
   "source": [
    "# Import the SentimentIntensityAnalyzer object\n",
    "from vaderSentiment.vaderSentiment import SentimentIntensityAnalyzer"
   ]
  },
  {
   "cell_type": "code",
   "execution_count": 41,
   "id": "0a12840c-372b-4b5d-96cc-c8f33c6116ed",
   "metadata": {},
   "outputs": [],
   "source": [
    "# Initialize analyzer object\n",
    "analyzer = SentimentIntensityAnalyzer()\n",
    "# Calculate the polarity scores of the lead paragraph and save it in df\n",
    "df[\"sentiment\"] = df.lead_paragraph.apply(analyzer.polarity_scores)"
   ]
  },
  {
   "cell_type": "code",
   "execution_count": 42,
   "id": "f005cb19-9a18-4c99-9835-ec2801cb5519",
   "metadata": {},
   "outputs": [
    {
     "data": {
      "text/plain": [
       "0    {'neg': 0.143, 'neu': 0.738, 'pos': 0.119, 'co...\n",
       "1    {'neg': 0.108, 'neu': 0.828, 'pos': 0.063, 'co...\n",
       "2    {'neg': 0.0, 'neu': 0.924, 'pos': 0.076, 'comp...\n",
       "3    {'neg': 0.037, 'neu': 0.963, 'pos': 0.0, 'comp...\n",
       "4    {'neg': 0.202, 'neu': 0.736, 'pos': 0.062, 'co...\n",
       "Name: sentiment, dtype: object"
      ]
     },
     "execution_count": 42,
     "metadata": {},
     "output_type": "execute_result"
    }
   ],
   "source": [
    "# Inspect the sentiment column\n",
    "df.sentiment.head()"
   ]
  },
  {
   "cell_type": "code",
   "execution_count": 43,
   "id": "3bcf1b6c-b87d-40e6-a1ba-26ca80056ef8",
   "metadata": {},
   "outputs": [
    {
     "data": {
      "text/plain": [
       "{'neg': 0.143, 'neu': 0.738, 'pos': 0.119, 'compound': -0.296}"
      ]
     },
     "execution_count": 43,
     "metadata": {},
     "output_type": "execute_result"
    }
   ],
   "source": [
    "# View single row\n",
    "df.sentiment.iloc[0]"
   ]
  },
  {
   "cell_type": "markdown",
   "id": "3b774a12-732b-46a4-aabc-b4c29c8fdb3e",
   "metadata": {},
   "source": [
    "The `compound` score is computed by summing the valence scores of each word in the lexicon, adjusted according to the rules, and then normalized to be between -1 (most negative) and +1 (most positive). This is the most useful metric if you want a single unidimensional measure of sentiment for a given sentence. We can think of this score as a normalized, weighted composite score. It is also useful for researchers who would like to set standardized thresholds for classifying sentences as either positive, neutral, or negative. \n",
    "\n",
    "Typical threshold values are:\n",
    "\n",
    "1. **Positive Sentiment**: compound score $\\geq 0.05$\n",
    " \n",
    "2. **Neutral  Sentiment**: $-0.05 <$ compound score $< 0.05$\n",
    " \n",
    "3. **Negative Sentiment**: compound score $\\leq -0.05$"
   ]
  },
  {
   "cell_type": "code",
   "execution_count": 44,
   "id": "6a4f20a8-96bc-4009-8424-d427e2b16755",
   "metadata": {},
   "outputs": [],
   "source": [
    "# Re-assign sentiment as the compound score\n",
    "df[\"sentiment\"] = df[\"sentiment\"].apply(lambda x: x[\"compound\"])"
   ]
  },
  {
   "cell_type": "markdown",
   "id": "574114c9-7261-4b7e-8494-8f7e962ac6c2",
   "metadata": {},
   "source": [
    "Let's get a sense of the distribution of scores by calculating some summary statistics and plotting a histogram:"
   ]
  },
  {
   "cell_type": "code",
   "execution_count": 45,
   "id": "dd45dbca-af6f-41fa-a70d-abd008b4ebbb",
   "metadata": {},
   "outputs": [
    {
     "data": {
      "text/plain": [
       "count    1803.000000\n",
       "mean        0.053598\n",
       "std         0.476783\n",
       "min        -0.984300\n",
       "25%        -0.296000\n",
       "50%         0.000000\n",
       "75%         0.458800\n",
       "max         0.980100\n",
       "Name: sentiment, dtype: float64"
      ]
     },
     "execution_count": 45,
     "metadata": {},
     "output_type": "execute_result"
    }
   ],
   "source": [
    "# Summary statistics\n",
    "df.sentiment.describe()"
   ]
  },
  {
   "cell_type": "code",
   "execution_count": 46,
   "id": "debbce8d-5e49-4b11-add9-0532b8cb2ee0",
   "metadata": {},
   "outputs": [
    {
     "data": {
      "text/plain": [
       "(-1.0, 1.0)"
      ]
     },
     "execution_count": 46,
     "metadata": {},
     "output_type": "execute_result"
    },
    {
     "data": {
      "image/png": "[encoded data removed]",
      "text/plain": [
       "<Figure size 900x700 with 1 Axes>"
      ]
     },
     "metadata": {},
     "output_type": "display_data"
    }
   ],
   "source": [
    "bins = np.linspace(-1, 1, 17)\n",
    "df.sentiment.hist(bins=bins, figsize= (9, 7))\n",
    "plt.xlabel(\"Sentiment Score\")\n",
    "plt.ylabel(\"Frequency\")\n",
    "plt.xlim([-1.0, 1.0])"
   ]
  },
  {
   "cell_type": "markdown",
   "id": "65a407db-1bbf-4ae4-ad07-7a10bdaf2ae9",
   "metadata": {},
   "source": [
    "## 🥊 Challenge: Additional Data Analysis\n",
    "\n",
    "- What are the 3 most positive and negative texts?\n",
    "- Using the VADER thresholds for positive, neutral, and negative, how many articles qualify for each of those labels?"
   ]
  },
  {
   "cell_type": "code",
   "execution_count": null,
   "id": "e7a2ebef-41a7-4cc1-a553-a4fc33a3cc57",
   "metadata": {},
   "outputs": [],
   "source": [
    "# YOUR CODE HERE\n",
    "\n",
    "\n"
   ]
  },
  {
   "cell_type": "markdown",
   "id": "0fc1297f-70a1-48cf-bdac-5e251ee697c2",
   "metadata": {},
   "source": [
    "## Sentiment Over the Course of the Campaign"
   ]
  },
  {
   "cell_type": "markdown",
   "id": "db927bc2-514b-4990-8b06-94e9a8650fd7",
   "metadata": {},
   "source": [
    "Let's examine how the compound score evolved over the course of the campaign. Do you have expectations on how this quantity might behave as the election nears? \n",
    "\n",
    "First, let's create a new `pandas` series which tracks the sentiment over time:"
   ]
  },
  {
   "cell_type": "code",
   "execution_count": null,
   "id": "cdbdbe85-27c1-40a2-9693-48955352623d",
   "metadata": {},
   "outputs": [],
   "source": [
    "# Create a time series with publication date as the index and sentiment score as the value\n",
    "sentiment_ts = pd.Series(index= df.pub_date.tolist(),\n",
    "                         data = df.sentiment.tolist())"
   ]
  },
  {
   "cell_type": "markdown",
   "id": "f25e495e-dc35-447c-b903-d1b4dfde1288",
   "metadata": {},
   "source": [
    "Next, we'll calculate daily and weekly averages:"
   ]
  },
  {
   "cell_type": "code",
   "execution_count": null,
   "id": "8d6f9cb9-6c8d-4c6e-9596-2e7e0e2313ce",
   "metadata": {},
   "outputs": [],
   "source": [
    "# Resample the data with daily averages and weekly averages\n",
    "daily = sentiment_ts.resample(\"d\").mean()\n",
    "weekly = sentiment_ts.resample(\"w\").mean()"
   ]
  },
  {
   "cell_type": "markdown",
   "id": "568bd7c7-1bf1-4c43-9f2b-294f7943cfb9",
   "metadata": {},
   "source": [
    "🔔 **Question**: We can plot the results below. Do you notice any patterns?"
   ]
  },
  {
   "cell_type": "code",
   "execution_count": null,
   "id": "8d4394c7-ea1d-4583-8a59-8284022ad2fb",
   "metadata": {},
   "outputs": [],
   "source": [
    "# Daily average sentiment of articles.\n",
    "daily.plot(figsize = (11, 7))\n",
    "plt.xlabel(\"Dates\")\n",
    "plt.ylabel(\"Sentiment Score\");"
   ]
  },
  {
   "cell_type": "code",
   "execution_count": null,
   "id": "c7a741f8-d9a9-47a5-bbef-9c1e629b530f",
   "metadata": {},
   "outputs": [],
   "source": [
    "# Weekly average sentiment of articles.\n",
    "weekly.plot(figsize = (11, 7))\n",
    "plt.xlabel(\"Dates\")\n",
    "plt.ylabel(\"Sentiment Score\");"
   ]
  },
  {
   "cell_type": "markdown",
   "id": "e1da9002-dfeb-4c44-bc7b-c358221ba931",
   "metadata": {},
   "source": [
    "# 🎬 Demo: Handling Nested Arrays of Keywords"
   ]
  },
  {
   "cell_type": "markdown",
   "id": "e66e600e-927b-41c4-a39a-1cd7decb8df0",
   "metadata": {},
   "source": [
    "The Times has done us a favor in providing the named entities in the articles, thus relieving us of having to do the tagging ourselves. However, the data structure that it comes in can be tricky to handle. Here, we provide a short tutorial showing one way to cleanly extract keyword data."
   ]
  },
  {
   "cell_type": "code",
   "execution_count": null,
   "id": "3c743c86-6522-41fa-a4ca-50109b9c1b98",
   "metadata": {},
   "outputs": [],
   "source": [
    "# Refer to a sample article's set of keywords\n",
    "df.keywords.iloc[1]"
   ]
  },
  {
   "cell_type": "markdown",
   "id": "ada82a2d-ab47-40e5-9425-d86342a5df10",
   "metadata": {},
   "source": [
    "We see a number of things here:\n",
    "- Each article's keywords are laid out in a list of dictionaries.\n",
    "- A dictionary tell us the name, type, ranking, and major of the keyword.\n",
    "- The five types of keywords are: `subject`, `persons`, `glocations`, `organizations`, and `creative_works`.\n",
    "- The ordering of the list corresponds to the ranking.\n",
    "- All articles do not all have the same number of rankings."
   ]
  },
  {
   "cell_type": "markdown",
   "id": "4f8534e5-9097-427d-ba9b-1e04ce668064",
   "metadata": {},
   "source": [
    "We've created a function to extract keyword data based on the ranking. This function will be applied over the pandas series of keyword data."
   ]
  },
  {
   "cell_type": "code",
   "execution_count": null,
   "id": "04b1fede-fd8c-432c-b1e1-2a805a1e9b87",
   "metadata": {},
   "outputs": [],
   "source": [
    "def rank_extractor(data, rank):\n",
    "    \"\"\"Extracts keyword data based on ranking.\n",
    "\n",
    "    Parameters\n",
    "    ----------\n",
    "    data : pd.DataFrame\n",
    "        The dataframe containing the keywords.\n",
    "    rank : int\n",
    "        The rank of the keywords to extract.\n",
    "\n",
    "    Returns\n",
    "    -------\n",
    "    keyword : dict\n",
    "        A dictionary containing the name and value of the keyword.\n",
    "    \"\"\"\n",
    "    # If empty, return None\n",
    "    if data == []:\n",
    "        return None\n",
    "    # Iterate over the list of keywords until you reach the keyword corresponding with the ranking\n",
    "    for keyword in data:\n",
    "        if keyword[\"rank\"] == rank:\n",
    "            return {\"name\": keyword[\"name\"], \"value\": keyword[\"value\"]}"
   ]
  },
  {
   "cell_type": "code",
   "execution_count": null,
   "id": "d701072e-8d36-4cab-9ee5-f58e8aed62b6",
   "metadata": {},
   "outputs": [],
   "source": [
    "# Extract the first, second, and third keywords\n",
    "rank1 = df.keywords.apply(lambda x: rank_extractor(x, 1))\n",
    "rank2 = df.keywords.apply(lambda x: rank_extractor(x, 2))\n",
    "rank3 = df.keywords.apply(lambda x: rank_extractor(x, 3))"
   ]
  },
  {
   "cell_type": "code",
   "execution_count": null,
   "id": "e3f18704-1d57-4c70-9170-04f644b915dc",
   "metadata": {},
   "outputs": [],
   "source": [
    "# View results\n",
    "rank1.head()"
   ]
  },
  {
   "cell_type": "markdown",
   "id": "b7ec099e-b5d5-4e2c-b617-78043b28be1e",
   "metadata": {},
   "source": [
    "Let's convert these dictionaries into `pandas` Series:"
   ]
  },
  {
   "cell_type": "code",
   "execution_count": null,
   "id": "762ed380-57f2-4dec-8f31-210567a5057b",
   "metadata": {},
   "outputs": [],
   "source": [
    "rank1 = rank1.apply(pd.Series)\n",
    "rank2 = rank2.apply(pd.Series)\n",
    "rank3 = rank3.apply(pd.Series)\n",
    "rank1.head()"
   ]
  },
  {
   "cell_type": "markdown",
   "id": "49e9b4ab-7113-4321-8e3e-82b86effeb6c",
   "metadata": {},
   "source": [
    "Voila! A nice clean format. Now can we conduct some light analysis:"
   ]
  },
  {
   "cell_type": "code",
   "execution_count": null,
   "id": "311b066f-ce49-4aa4-889c-d79c919a3811",
   "metadata": {},
   "outputs": [],
   "source": [
    "# Most frequent type of keyword in ranking #1\n",
    "rank1.name.value_counts()"
   ]
  },
  {
   "cell_type": "code",
   "execution_count": null,
   "id": "131a13f9-d941-4787-aa24-2caa650eae96",
   "metadata": {},
   "outputs": [],
   "source": [
    "# The most common keywords in ranking #1:\n",
    "rank1.value.value_counts()"
   ]
  }
 ],
 "metadata": {
  "kernelspec": {
   "display_name": "Python 3.11.0 64-bit",
   "language": "python",
   "name": "python3"
  },
  "language_info": {
   "codemirror_mode": {
    "name": "ipython",
    "version": 3
   },
   "file_extension": ".py",
   "mimetype": "text/x-python",
   "name": "python",
   "nbconvert_exporter": "python",
   "pygments_lexer": "ipython3",
   "version": "3.11.0"
  },
  "vscode": {
   "interpreter": {
    "hash": "aee8b7b246df8f9039afb4144a1f6fd8d2ca17a180786b69acc140d282b71a49"
   }
  }
 },
 "nbformat": 4,
 "nbformat_minor": 5
}
